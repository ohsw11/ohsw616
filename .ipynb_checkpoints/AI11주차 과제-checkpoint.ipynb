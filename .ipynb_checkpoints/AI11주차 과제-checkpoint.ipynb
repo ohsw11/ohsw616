{
 "cells": [
  {
   "cell_type": "code",
   "execution_count": 2,
   "id": "61827275-9c1a-46a5-97f0-fd39a61967f3",
   "metadata": {},
   "outputs": [
    {
     "name": "stdout",
     "output_type": "stream",
     "text": [
      "457\n",
      "-211\n",
      "41082\n",
      "41.0\n"
     ]
    }
   ],
   "source": [
    "#10.1\n",
    "print((123).__add__(334))\n",
    "print((123).__sub__(334))\n",
    "print((123).__mul__(334))\n",
    "print((123).__truediv__(3))"
   ]
  },
  {
   "cell_type": "code",
   "execution_count": 12,
   "id": "71a106e8-adef-4e9c-80ce-876b829ae59e",
   "metadata": {},
   "outputs": [
    {
     "data": {
      "text/plain": [
       "str"
      ]
     },
     "execution_count": 12,
     "metadata": {},
     "output_type": "execute_result"
    }
   ],
   "source": [
    "#10.3\n",
    "s = \"Hello World\"\n",
    "#s는 str로 pop(), sort(), append(), insert(), remove()는 사용불가하고 upper()은 사용가능하다."
   ]
  },
  {
   "cell_type": "code",
   "execution_count": 33,
   "id": "7570f3bb-0d09-42e4-aa33-c3828a4b8898",
   "metadata": {},
   "outputs": [
    {
     "name": "stdout",
     "output_type": "stream",
     "text": [
      "140704945472424\n",
      "140704945472424\n"
     ]
    },
    {
     "data": {
      "text/plain": [
       "True"
      ]
     },
     "execution_count": 33,
     "metadata": {},
     "output_type": "execute_result"
    }
   ],
   "source": [
    "#10.5 미완\n",
    "a, b, c, d, e = 1, 1, 2, 3, 3\n",
    "list1 = [a, b, c, d, e]\n",
    "\n",
    "print(id(b))\n",
    "print(id(1))\n",
    "a is b"
   ]
  },
  {
   "cell_type": "code",
   "execution_count": 3,
   "id": "fbe56450-9d7f-436d-868c-5ae8ef4b9c9f",
   "metadata": {},
   "outputs": [
    {
     "name": "stdout",
     "output_type": "stream",
     "text": [
      "이름은 Mango이고 나이는 3살입니다.\n"
     ]
    }
   ],
   "source": [
    "#10.7\n",
    "class Dog:\n",
    "    def __init__(self, name, age):\n",
    "        self.name = name\n",
    "        self.age = age\n",
    "\n",
    "    def __str__(self):\n",
    "        return \"이름은 {}이고 나이는 {}살입니다.\".format(self.name, self.age)\n",
    "        \n",
    "my_dog = Dog('Mango', 3)\n",
    "print(my_dog)"
   ]
  },
  {
   "cell_type": "code",
   "execution_count": 10,
   "id": "496588fb-21e0-4911-b3b2-3979a799930c",
   "metadata": {},
   "outputs": [
    {
     "name": "stdout",
     "output_type": "stream",
     "text": [
      "c3 = C(30)\n",
      "c4 = C(-10)\n"
     ]
    }
   ],
   "source": [
    "#10.9\n",
    "class Counter:\n",
    "    def __init__(self, number = 0):\n",
    "        self.__number = number\n",
    "    \n",
    "    def reset(self):\n",
    "        self.__number = 0\n",
    "    \n",
    "    def inc(self):\n",
    "        self.__number += 1\n",
    "        if self.__number >= 100:\n",
    "            self.reset()\n",
    "    \n",
    "    def dec(self):\n",
    "        self.__number -= 1\n",
    "        if self.__number <= -1:\n",
    "            self.reset()\n",
    "    \n",
    "    def __str__(self):\n",
    "        return 'C({})'.format(self.__number)\n",
    "\n",
    "    def __add__(self, other):\n",
    "        return Counter(self.__number + other.__number)\n",
    "        if Counter(self.__number + other.__number) >= 100:\n",
    "            self.reset()\n",
    "\n",
    "    def __sub__(self, other):\n",
    "        return Counter(self.__number - other.__number)\n",
    "        if Counter(self.__number - other.__number) <= -1:\n",
    "            self.reset()\n",
    "\n",
    "c1 = Counter(10)\n",
    "c2 = Counter(20)\n",
    "c3 = c1 + c2\n",
    "c4 = c1 - c2\n",
    "print('c3 =', c3)\n",
    "print('c4 =', c4)"
   ]
  },
  {
   "cell_type": "code",
   "execution_count": 19,
   "id": "8d5d5435-fa9e-4bde-b371-ea10ce1d8de3",
   "metadata": {},
   "outputs": [
    {
     "name": "stdin",
     "output_type": "stream",
     "text": [
      "학생의 이름을 입력하세요 :  홍길동\n",
      "학생의 학번을 입력하세요 :  20240012\n",
      "학생의 국어 성적을 입력하세요 :  85\n",
      "학생의 수학 성적을 입력하세요 :  90\n",
      "학생의 과학 성적을 입력하세요 :  95\n"
     ]
    },
    {
     "name": "stdout",
     "output_type": "stream",
     "text": [
      "이름 : 홍길동, 학번 : 20240012,\n",
      "국어 성적 : 85, 수학 성적 : 90, 과학 성적 : 95, 합계 : 270, 평균 : 90.0\n"
     ]
    }
   ],
   "source": [
    "#10.11\n",
    "class Student:\n",
    "    def __init__(self, name, student_id, korean_quiz=0, math_quiz=0, science_quiz=0):\n",
    "        self.__name = str(name)\n",
    "        self.__student_id = str(student_id)\n",
    "        self.__korean_quiz = korean_quiz\n",
    "        self.__math_quiz = math_quiz\n",
    "        self.__science_quiz = science_quiz\n",
    "\n",
    "    def __str__(self):\n",
    "        total = self.get_total_score()\n",
    "        avg = self.get_avg_score()\n",
    "        return '이름 : {}, 학번 : {},\\n국어 성적 : {}, 수학 성적 : {}, 과학 성적 : {}, 합계 : {}, 평균 : {}'.format(\n",
    "            self.__name, self.__student_id, self.__korean_quiz, self.__math_quiz, self.__science_quiz, total, avg)\n",
    "\n",
    "    def get_name(self):\n",
    "        return self.__name\n",
    "\n",
    "    def get_student_id(self):\n",
    "        return self.__student_id\n",
    "\n",
    "    def get_korean_quiz(self):\n",
    "        return self.__korean_quiz\n",
    "\n",
    "    def get_math_quiz(self):\n",
    "        return self.__math_quiz\n",
    "\n",
    "    def get_science_quiz(self):\n",
    "        return self.__science_quiz\n",
    "\n",
    "    def get_total_score(self):\n",
    "        return self.__korean_quiz + self.__math_quiz + self.__science_quiz\n",
    "\n",
    "    def get_avg_score(self):\n",
    "        return self.get_total_score() / 3\n",
    "\n",
    "    def set_korean_quiz(self, korean_quiz):\n",
    "        self.__korean_quiz = korean_quiz\n",
    "\n",
    "    def set_math_quiz(self, math_quiz):\n",
    "        self.__math_quiz = math_quiz\n",
    "\n",
    "    def set_science_quiz(self, science_quiz):\n",
    "        self.__science_quiz = science_quiz\n",
    "\n",
    "name = input('학생의 이름을 입력하세요 : ')\n",
    "student_id = input('학생의 학번을 입력하세요 : ')\n",
    "student = Student(name, student_id)\n",
    "\n",
    "korean_quiz = int(input('학생의 국어 성적을 입력하세요 : '))\n",
    "math_quiz = int(input('학생의 수학 성적을 입력하세요 : '))\n",
    "science_quiz = int(input('학생의 과학 성적을 입력하세요 : '))\n",
    "student.set_korean_quiz(korean_quiz)\n",
    "student.set_math_quiz(math_quiz)\n",
    "student.set_science_quiz(science_quiz)\n",
    "print(student)"
   ]
  },
  {
   "cell_type": "code",
   "execution_count": 14,
   "id": "313f6cba-2234-4356-aa26-56388fc24fe3",
   "metadata": {},
   "outputs": [
    {
     "name": "stdout",
     "output_type": "stream",
     "text": [
      "r1 = Rectangle : (x = 0, y = 0, w =100, h = 100), 면적 : 10000\n",
      "r1 = Rectangle : (x = 0, y = -10, w =10, h = 10), 면적 : 100\n",
      "r1 = Rectangle : (x = -100, y = 0, w =120, h = 100), 면적 : 12000\n",
      "r1 contains r2 : True\n",
      "r1 contains r3 : False\n",
      "r1 overlaps r2 : True\n",
      "r1 overlaps r3 : True\n"
     ]
    }
   ],
   "source": [
    "#10.13\n",
    "class Rectangle:\n",
    "    def __init__(self, x, y, width, height):\n",
    "        self.__x = x\n",
    "        self.__y = y\n",
    "        self.__width = width\n",
    "        self.__height = height\n",
    "\n",
    "    def __str__(self):\n",
    "        return 'Rectangle : (x = {}, y = {}, w ={}, h = {}), 면적 : {}'.format(\n",
    "            self.get_x(), self.get_y(), self.get_width(), self.get_height(), self.area())\n",
    "\n",
    "    def set_x(self, x):\n",
    "        self.__x = x\n",
    "\n",
    "    def set_y(self, y):\n",
    "        self.__y = y\n",
    "\n",
    "    def set_width(self, width):\n",
    "        self.__width = width\n",
    "\n",
    "    def set_height(self, height):\n",
    "        self.__height = height\n",
    "\n",
    "    def get_x(self):\n",
    "        return self.__x\n",
    "\n",
    "    def get_y(self):\n",
    "        return self.__y\n",
    "\n",
    "    def get_width(self):\n",
    "        return self.__width\n",
    "\n",
    "    def get_height(self):\n",
    "        return self.__height\n",
    "\n",
    "    def area(self):\n",
    "        return self.__width * self.__height\n",
    "\n",
    "    def overlaps(self, other):\n",
    "        if (self.__x + self.__width <= other.__x or\n",
    "            other.__x + other.__width <= self.__x or\n",
    "            self.__y - self.__height >= other.__y or\n",
    "            other.__y - other.__height >= self.__y):\n",
    "            return False\n",
    "        else:\n",
    "            return True\n",
    "\n",
    "    def contains(self, other):\n",
    "        if (self.__x <= other.__x and\n",
    "                self.__x + self.__width >= other.__x + other.__width and\n",
    "                self.__y >= other.__y and\n",
    "                self.__y - self.__height <= other.__y - other.__height):\n",
    "            return True\n",
    "        else:\n",
    "            return False\n",
    "\n",
    "r1 = Rectangle(0, 0, 100, 100)\n",
    "r2 = Rectangle(0, -10, 10, 10)\n",
    "r3 = Rectangle(-100, 0, 120, 100)\n",
    "\n",
    "print('r1 =', r1)\n",
    "print('r1 =', r2)\n",
    "print('r1 =', r3)\n",
    "\n",
    "print('r1 contains r2 :', r1.contains(r2))\n",
    "print('r1 contains r3 :', r1.contains(r3))\n",
    "print('r1 overlaps r2 :', r1.overlaps(r2))\n",
    "print('r1 overlaps r3 :', r1.overlaps(r3))"
   ]
  },
  {
   "cell_type": "code",
   "execution_count": null,
   "id": "cb4f811d-cc20-43b7-8350-3545907be472",
   "metadata": {},
   "outputs": [],
   "source": []
  }
 ],
 "metadata": {
  "kernelspec": {
   "display_name": "Python 3 (ipykernel)",
   "language": "python",
   "name": "python3"
  },
  "language_info": {
   "codemirror_mode": {
    "name": "ipython",
    "version": 3
   },
   "file_extension": ".py",
   "mimetype": "text/x-python",
   "name": "python",
   "nbconvert_exporter": "python",
   "pygments_lexer": "ipython3",
   "version": "3.13.2"
  }
 },
 "nbformat": 4,
 "nbformat_minor": 5
}
