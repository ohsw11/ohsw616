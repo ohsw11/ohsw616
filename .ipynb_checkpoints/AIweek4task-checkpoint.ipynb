{
 "cells": [
  {
   "cell_type": "code",
   "execution_count": 9,
   "id": "1b9ad8b6-a098-4cd3-b990-175656f26bc7",
   "metadata": {},
   "outputs": [
    {
     "name": "stdout",
     "output_type": "stream",
     "text": [
      "2 * 1 = 2\n",
      "2 * 2 = 4\n",
      "2 * 3 = 6\n",
      "2 * 4 = 8\n",
      "2 * 5 = 10\n",
      "2 * 6 = 12\n",
      "2 * 7 = 14\n",
      "2 * 8 = 16\n",
      "2 * 9 = 18\n"
     ]
    }
   ],
   "source": [
    "#4.1\n",
    "for i in range(1, 10):\n",
    "    a = 2 * i\n",
    "    print(f'2 * {i} =', a)"
   ]
  },
  {
   "cell_type": "code",
   "execution_count": 1,
   "id": "b8b9dbd8-8e89-49b0-8d4e-acc4158b4065",
   "metadata": {},
   "outputs": [
    {
     "name": "stdout",
     "output_type": "stream",
     "text": [
      "2 * 2 = 2\n",
      "2 * 3 = 4\n",
      "2 * 4 = 6\n",
      "2 * 5 = 8\n",
      "2 * 6 = 10\n",
      "2 * 7 = 12\n",
      "2 * 8 = 14\n",
      "2 * 9 = 16\n",
      "2 * 10 = 18\n"
     ]
    }
   ],
   "source": [
    "i = 1\n",
    "while i < 10:\n",
    "    result = 2 * i\n",
    "    i += 1\n",
    "    print(f'2 * {i} =', result)"
   ]
  },
  {
   "cell_type": "code",
   "execution_count": 3,
   "id": "181b63ae-8f91-4c33-b7d1-c3d7f3e1d599",
   "metadata": {},
   "outputs": [
    {
     "name": "stdout",
     "output_type": "stream",
     "text": [
      "Python \n",
      "is \n",
      "FUN! \n",
      "Python \n",
      "is \n",
      "FUN! \n",
      "Python \n",
      "is \n",
      "FUN! \n"
     ]
    }
   ],
   "source": [
    "#4.3\n",
    "for i in range(3):\n",
    "    print('Python ')\n",
    "    print('is ')\n",
    "    print('FUN! ')"
   ]
  },
  {
   "cell_type": "code",
   "execution_count": 1,
   "id": "cf6d8f1e-d289-4365-888a-5a43280e17a3",
   "metadata": {},
   "outputs": [
    {
     "name": "stdout",
     "output_type": "stream",
     "text": [
      "Python \n",
      "is \n",
      "Python \n",
      "is \n",
      "Python \n",
      "is \n",
      "FUN! \n"
     ]
    }
   ],
   "source": [
    "#4.3.2\n",
    "for i in range(3):\n",
    "    print('Python ')\n",
    "    print('is ')\n",
    "print('FUN! ')"
   ]
  },
  {
   "cell_type": "code",
   "execution_count": 2,
   "id": "ba11e5a3-c666-4204-b172-fa840709b282",
   "metadata": {},
   "outputs": [
    {
     "name": "stdout",
     "output_type": "stream",
     "text": [
      "Python \n",
      "Python \n",
      "Python \n",
      "is \n",
      "FUN! \n"
     ]
    }
   ],
   "source": [
    "#4.3.3\n",
    "for i in range(3):\n",
    "    print('Python ')\n",
    "print('is ')\n",
    "print('FUN! ')"
   ]
  },
  {
   "cell_type": "code",
   "execution_count": 1,
   "id": "2a056bb5-ff32-41af-af41-9b08eee19f05",
   "metadata": {},
   "outputs": [
    {
     "name": "stdout",
     "output_type": "stream",
     "text": [
      "맛나 식당에 오신 것을 환영합니다. 메뉴는 다음과 같습니다.\n",
      "- 햄버거(입력 b)\n",
      "- 치킨(입력 c)\n",
      "- 피자(입력 p)\n"
     ]
    },
    {
     "name": "stdin",
     "output_type": "stream",
     "text": [
      "메뉴를 선택하세요(알파벳 b, c, p 입력) : x\n",
      "메뉴를 다시 입력하세요(알파벳 b, c, p 입력) : c\n"
     ]
    },
    {
     "name": "stdout",
     "output_type": "stream",
     "text": [
      "치킨을 선택하였습니다.\n"
     ]
    }
   ],
   "source": [
    "#4.5\n",
    "print('맛나 식당에 오신 것을 환영합니다. 메뉴는 다음과 같습니다.')\n",
    "print('- 햄버거(입력 b)\\n- 치킨(입력 c)\\n- 피자(입력 p)')\n",
    "\n",
    "selected = input('메뉴를 선택하세요(알파벳 b, c, p 입력) :')\n",
    "\n",
    "while selected not in ['b', 'c', 'p']:\n",
    "    selected = input('메뉴를 다시 입력하세요(알파벳 b, c, p 입력) :')\n",
    "\n",
    "if selected == 'b':\n",
    "    print('햄버거를 선택하였습니다.')\n",
    "elif selected == 'c':\n",
    "    print('치킨을 선택하였습니다.')\n",
    "else:\n",
    "    print('피자를 선택하였습니다.')\n"
   ]
  },
  {
   "cell_type": "code",
   "execution_count": 1,
   "id": "cd0fbdf0-a661-4287-8b83-dab6dd71901e",
   "metadata": {},
   "outputs": [
    {
     "name": "stdin",
     "output_type": "stream",
     "text": [
      "숫자를 입력하세요 : 5\n"
     ]
    },
    {
     "name": "stdout",
     "output_type": "stream",
     "text": [
      "5 는 소수입니다\n"
     ]
    }
   ],
   "source": [
    "#4.7\n",
    "n = int(input('숫자를 입력하세요 :'))\n",
    "is_prime = True\n",
    "for i in range(2, n):\n",
    "    if(n % i == 0):\n",
    "        is_prime = False\n",
    "        break\n",
    "if(is_prime):\n",
    "    print(n, '는 소수입니다')\n",
    "else:\n",
    "    print(n, '는 소수가 아닙니다')"
   ]
  },
  {
   "cell_type": "code",
   "execution_count": 2,
   "id": "2976c4ad-648c-4898-857c-a6890e2d9fa6",
   "metadata": {},
   "outputs": [
    {
     "name": "stdin",
     "output_type": "stream",
     "text": [
      "숫자를 입력하세요 : 9\n"
     ]
    },
    {
     "name": "stdout",
     "output_type": "stream",
     "text": [
      "9 는 소수가 아닙니다\n"
     ]
    }
   ],
   "source": [
    "#4.7\n",
    "n = int(input('숫자를 입력하세요 :'))\n",
    "is_prime = True\n",
    "for i in range(2, n):\n",
    "    if(n % i == 0):\n",
    "        is_prime = False\n",
    "        break\n",
    "if(is_prime):\n",
    "    print(n, '는 소수입니다')\n",
    "else:\n",
    "    print(n, '는 소수가 아닙니다')"
   ]
  },
  {
   "cell_type": "code",
   "execution_count": 21,
   "id": "da56f12d-6cda-4efe-be98-f6ccae6a6d5c",
   "metadata": {},
   "outputs": [
    {
     "name": "stdin",
     "output_type": "stream",
     "text": [
      "숫자를 입력하세요 : 5\n"
     ]
    },
    {
     "name": "stdout",
     "output_type": "stream",
     "text": [
      "결과는 55입니다.\n"
     ]
    }
   ],
   "source": [
    "#4.9\n",
    "n = int(input('숫자를 입력하세요 :'))\n",
    "result = 0\n",
    "for num in range(1, n + 1):\n",
    "    result += num ** 2\n",
    "print(f'결과는 {result}입니다.')"
   ]
  },
  {
   "cell_type": "code",
   "execution_count": 10,
   "id": "e41a33fc-ff82-4e3f-ab8a-9a8c16d0eedf",
   "metadata": {},
   "outputs": [
    {
     "name": "stdout",
     "output_type": "stream",
     "text": [
      "day: 2        달팽이의 위치 : 2미터\n",
      "day: 3        달팽이의 위치 : 4미터\n",
      "day: 4        달팽이의 위치 : 6미터\n",
      "day: 5        달팽이의 위치 : 8미터\n",
      "day: 6        달팽이의 위치 : 10미터\n",
      "day: 7        달팽이의 위치 : 12미터\n",
      "day: 8        달팽이의 위치 : 14미터\n",
      "day: 9        달팽이의 위치 : 16미터\n",
      "day: 10        달팽이의 위치 : 18미터\n",
      "day: 11        달팽이의 위치 : 20미터\n",
      "day: 12        달팽이의 위치 : 22미터\n",
      "day: 13        달팽이의 위치 : 24미터\n",
      "day: 13        달팽이의 위치 : 31미터\n",
      "\n",
      "우물을 탈출하는 데 걸린 날은 13일입니다.\n"
     ]
    }
   ],
   "source": [
    "#4.11\n",
    "i = 0\n",
    "day = 1\n",
    "while i < 30:\n",
    "    i = i + 7\n",
    "    if i > 30:\n",
    "        print(f'day: {day}        달팽이의 위치 : {i}미터')\n",
    "        print(\"\")\n",
    "        print(f'우물을 탈출하는 데 걸린 날은 {day}일입니다.')\n",
    "        break    \n",
    "        \n",
    "    i = i - 5\n",
    "    day = day + 1\n",
    "    print(f'day: {day}        달팽이의 위치 : {i}미터')"
   ]
  },
  {
   "cell_type": "code",
   "execution_count": 22,
   "id": "114db781-268f-44cf-a4a8-242a9ec228fc",
   "metadata": {},
   "outputs": [
    {
     "name": "stdout",
     "output_type": "stream",
     "text": [
      "세자리의 암스트롱 수: [153, 370, 371, 407]\n"
     ]
    }
   ],
   "source": [
    "#4.13\n",
    "list1 = []\n",
    "for i in range(100,1000):\n",
    "    a = i//100\n",
    "    b = (i % 100)//10\n",
    "    c = (i % 100)%10\n",
    " \n",
    "    if i == (a**3 + b**3 + c**3 ):\n",
    "        list1.append(i)\n",
    "        \n",
    "\n",
    "print(f'세자리의 암스트롱 수:', list1)"
   ]
  },
  {
   "cell_type": "code",
   "execution_count": 11,
   "id": "fcc4308a-6c29-4941-aa51-6b902a2d44cf",
   "metadata": {},
   "outputs": [
    {
     "name": "stdin",
     "output_type": "stream",
     "text": [
      "충전 또는 사용한 연료를 +/- 기호와 함께 입력하시오: +60\n"
     ]
    },
    {
     "name": "stdout",
     "output_type": "stream",
     "text": [
      "현재 탱크의 양은 560 입니다.\n"
     ]
    },
    {
     "name": "stdin",
     "output_type": "stream",
     "text": [
      "충전 또는 사용한 연료를 +/- 기호와 함께 입력하시오: -300\n"
     ]
    },
    {
     "name": "stdout",
     "output_type": "stream",
     "text": [
      "현재 탱크의 양은 260 입니다.\n"
     ]
    },
    {
     "name": "stdin",
     "output_type": "stream",
     "text": [
      "충전 또는 사용한 연료를 +/- 기호와 함께 입력하시오: -220\n"
     ]
    },
    {
     "name": "stdout",
     "output_type": "stream",
     "text": [
      "현재 탱크의 양은 40 입니다.\n",
      "연료가 10%미만이니 충전하세요!\n"
     ]
    }
   ],
   "source": [
    "#4.15\n",
    "fuel = 500\n",
    "while fuel > 0:\n",
    "    n = int(input('충전 또는 사용한 연료를 +/- 기호와 함께 입력하시오:'))\n",
    "    if n > 0:\n",
    "        fuel = fuel + n\n",
    "        print(f'현재 탱크의 양은 {fuel} 입니다.')\n",
    "    elif n < 0: \n",
    "        fuel = fuel + n\n",
    "        print(f'현재 탱크의 양은 {fuel} 입니다.')\n",
    "    \n",
    "\n",
    "    if fuel <= 50:\n",
    "        print('연료가 10%미만이니 충전하세요!')\n",
    "        break"
   ]
  },
  {
   "cell_type": "code",
   "execution_count": 14,
   "id": "ffefbcc2-b999-4f0c-8efd-705fe0ab93bf",
   "metadata": {},
   "outputs": [
    {
     "name": "stdin",
     "output_type": "stream",
     "text": [
      "충전 또는 사용한 연료를 +/- 기호와 함께 입력하시오: +60\n"
     ]
    },
    {
     "name": "stdout",
     "output_type": "stream",
     "text": [
      "현재 탱크의 양은 560 입니다.\n"
     ]
    },
    {
     "name": "stdin",
     "output_type": "stream",
     "text": [
      "충전 또는 사용한 연료를 +/- 기호와 함께 입력하시오: -300\n"
     ]
    },
    {
     "name": "stdout",
     "output_type": "stream",
     "text": [
      "현재 탱크의 양은 260 입니다.\n"
     ]
    },
    {
     "name": "stdin",
     "output_type": "stream",
     "text": [
      "충전 또는 사용한 연료를 +/- 기호와 함께 입력하시오: -220\n"
     ]
    },
    {
     "name": "stdout",
     "output_type": "stream",
     "text": [
      "현재 탱크의 양은 40 입니다.\n",
      "연료가 10%미만이니 충전하세요!\n"
     ]
    }
   ],
   "source": [
    "#4.15\n",
    "fuel = 500\n",
    "while fuel > 0:\n",
    "    n = int(input('충전 또는 사용한 연료를 +/- 기호와 함께 입력하시오:'))\n",
    "    if n >= 0:\n",
    "        fuel = fuel + n\n",
    "        print(f'현재 탱크의 양은 {fuel} 입니다.')\n",
    "    else: \n",
    "        fuel = fuel + n\n",
    "        print(f'현재 탱크의 양은 {fuel} 입니다.')\n",
    "    \n",
    "\n",
    "    if fuel <= 50:\n",
    "        print('연료가 10%미만이니 충전하세요!')\n",
    "        break"
   ]
  },
  {
   "cell_type": "code",
   "execution_count": 9,
   "id": "98288639-6079-49d4-b331-e244dce60d66",
   "metadata": {},
   "outputs": [
    {
     "name": "stdout",
     "output_type": "stream",
     "text": [
      "6의 친화수 6\n",
      "28의 친화수 28\n",
      "220의 친화수 284\n",
      "284의 친화수 220\n",
      "496의 친화수 496\n",
      "1184의 친화수 1210\n",
      "1210의 친화수 1184\n",
      "2620의 친화수 2924\n",
      "2924의 친화수 2620\n",
      "5020의 친화수 5564\n",
      "5564의 친화수 5020\n",
      "6232의 친화수 6368\n",
      "6368의 친화수 6232\n",
      "8128의 친화수 8128\n",
      "10744의 친화수 10856\n",
      "10856의 친화수 10744\n",
      "12285의 친화수 14595\n",
      "14595의 친화수 12285\n",
      "17296의 친화수 18416\n",
      "18416의 친화수 17296\n"
     ]
    }
   ],
   "source": [
    "#4.17\n",
    "for i in range(1, 20000):\n",
    "    list1 = []\n",
    "    list2 = []\n",
    "    for num in range(1, i):\n",
    "        if i % num == 0:\n",
    "            list1.append(num)\n",
    "    a = sum(list1)\n",
    "    for num2 in range(1, a):\n",
    "        if a % num2 == 0:\n",
    "            list2.append(num2)\n",
    "    b = sum(list2)\n",
    "    if i == b:\n",
    "        print(f'{i}의 친화수 {a}')"
   ]
  },
  {
   "cell_type": "code",
   "execution_count": null,
   "id": "203492eb-f564-4aa7-afe3-54cf9559763e",
   "metadata": {},
   "outputs": [],
   "source": []
  }
 ],
 "metadata": {
  "kernelspec": {
   "display_name": "Python 3 (ipykernel)",
   "language": "python",
   "name": "python3"
  },
  "language_info": {
   "codemirror_mode": {
    "name": "ipython",
    "version": 3
   },
   "file_extension": ".py",
   "mimetype": "text/x-python",
   "name": "python",
   "nbconvert_exporter": "python",
   "pygments_lexer": "ipython3",
   "version": "3.13.2"
  }
 },
 "nbformat": 4,
 "nbformat_minor": 5
}
