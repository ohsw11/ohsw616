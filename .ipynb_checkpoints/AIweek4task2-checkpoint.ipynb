{
 "cells": [
  {
   "cell_type": "code",
   "execution_count": 7,
   "id": "f1ad68bc-cc79-496b-866a-175575027699",
   "metadata": {},
   "outputs": [],
   "source": [
    "#6.1\n",
    "list_ex = [10, 20, 30, 40, 50, 60, 70]\n",
    "high = 5\n",
    "low = 3\n"
   ]
  },
  {
   "cell_type": "code",
   "execution_count": 8,
   "id": "7e31b8dc-3571-4fd9-be87-4062686eb858",
   "metadata": {},
   "outputs": [
    {
     "data": {
      "text/plain": [
       "40"
      ]
     },
     "execution_count": 8,
     "metadata": {},
     "output_type": "execute_result"
    }
   ],
   "source": [
    "list_ex[low]"
   ]
  },
  {
   "cell_type": "code",
   "execution_count": 9,
   "id": "f3b64707-b537-4f0b-801f-8b138d167bd4",
   "metadata": {},
   "outputs": [
    {
     "data": {
      "text/plain": [
       "60"
      ]
     },
     "execution_count": 9,
     "metadata": {},
     "output_type": "execute_result"
    }
   ],
   "source": [
    "list_ex[low + 2]"
   ]
  },
  {
   "cell_type": "code",
   "execution_count": 11,
   "id": "42bbf5a2-3723-4b6b-9d16-77562e780c8b",
   "metadata": {},
   "outputs": [
    {
     "data": {
      "text/plain": [
       "30"
      ]
     },
     "execution_count": 11,
     "metadata": {},
     "output_type": "execute_result"
    }
   ],
   "source": [
    "list_ex[high - low]"
   ]
  },
  {
   "cell_type": "code",
   "execution_count": 12,
   "id": "3ed8c5a8-8585-4ee3-97f4-54f7bf21bc54",
   "metadata": {},
   "outputs": [
    {
     "data": {
      "text/plain": [
       "60"
      ]
     },
     "execution_count": 12,
     "metadata": {},
     "output_type": "execute_result"
    }
   ],
   "source": [
    "list_ex[low - high]"
   ]
  },
  {
   "cell_type": "code",
   "execution_count": 13,
   "id": "398a5b9c-2a72-4708-bbbc-a703ddfd1524",
   "metadata": {},
   "outputs": [
    {
     "data": {
      "text/plain": [
       "70"
      ]
     },
     "execution_count": 13,
     "metadata": {},
     "output_type": "execute_result"
    }
   ],
   "source": [
    "list_ex[-1]"
   ]
  },
  {
   "cell_type": "code",
   "execution_count": 14,
   "id": "7d8ea31f-d4bc-44ce-9e18-d64ce0ca680f",
   "metadata": {},
   "outputs": [
    {
     "data": {
      "text/plain": [
       "50"
      ]
     },
     "execution_count": 14,
     "metadata": {},
     "output_type": "execute_result"
    }
   ],
   "source": [
    "list_ex[-low]"
   ]
  },
  {
   "cell_type": "code",
   "execution_count": 15,
   "id": "4be769ca-ba53-436c-be47-3d12b9c963a2",
   "metadata": {},
   "outputs": [
    {
     "data": {
      "text/plain": [
       "70"
      ]
     },
     "execution_count": 15,
     "metadata": {},
     "output_type": "execute_result"
    }
   ],
   "source": [
    "list_ex[2 * 3]"
   ]
  },
  {
   "cell_type": "code",
   "execution_count": 16,
   "id": "5ab09be0-bbfe-4485-93a2-415dc438180a",
   "metadata": {},
   "outputs": [
    {
     "data": {
      "text/plain": [
       "90"
      ]
     },
     "execution_count": 16,
     "metadata": {},
     "output_type": "execute_result"
    }
   ],
   "source": [
    "list_ex[2] * 3"
   ]
  },
  {
   "cell_type": "code",
   "execution_count": 17,
   "id": "26281806-e548-436c-8f94-f0bc94a5c312",
   "metadata": {},
   "outputs": [
    {
     "data": {
      "text/plain": [
       "20"
      ]
     },
     "execution_count": 17,
     "metadata": {},
     "output_type": "execute_result"
    }
   ],
   "source": [
    "list_ex[5 % 4]"
   ]
  },
  {
   "cell_type": "code",
   "execution_count": 18,
   "id": "b9599ce4-3c07-40d5-b46c-0c83ac74f14c",
   "metadata": {},
   "outputs": [
    {
     "data": {
      "text/plain": [
       "7"
      ]
     },
     "execution_count": 18,
     "metadata": {},
     "output_type": "execute_result"
    }
   ],
   "source": [
    "len(list_ex)"
   ]
  },
  {
   "cell_type": "code",
   "execution_count": 22,
   "id": "7527cdb2-6f99-4eb7-bc43-7020d80693b4",
   "metadata": {},
   "outputs": [
    {
     "name": "stdout",
     "output_type": "stream",
     "text": [
      "3 * 2 = 6\n",
      "3 * 3 = 9\n",
      "3 * 4 = 12\n",
      "3 * 5 = 15\n",
      "3 * 6 = 18\n",
      "5 * 2 = 10\n",
      "5 * 3 = 15\n",
      "5 * 4 = 20\n",
      "5 * 5 = 25\n",
      "5 * 6 = 30\n",
      "7 * 2 = 14\n",
      "7 * 3 = 21\n",
      "7 * 4 = 28\n",
      "7 * 5 = 35\n",
      "7 * 6 = 42\n"
     ]
    }
   ],
   "source": [
    "#6.3\n",
    "list1 = [3, 5, 7]\n",
    "list2 = [2, 3, 4, 5, 6]\n",
    "\n",
    "for i in list1:\n",
    "    for a in list2:\n",
    "        result = i * a\n",
    "        print(f'{i} * {a} =', result)"
   ]
  },
  {
   "cell_type": "code",
   "execution_count": 23,
   "id": "67ac6fb7-45a7-410f-b754-6a92572fd30e",
   "metadata": {},
   "outputs": [
    {
     "name": "stdout",
     "output_type": "stream",
     "text": [
      "I like pancakes.\n",
      "I like kiwi juice.\n",
      "I like espresso.\n",
      "I love pancakes.\n",
      "I love kiwi juice.\n",
      "I love espresso.\n"
     ]
    }
   ],
   "source": [
    "#6.5\n",
    "list1 = ['I like', 'I love']\n",
    "list2 = ['pancakes.', 'kiwi juice.', 'espresso.']\n",
    "for a in list1:\n",
    "    for b in list2:\n",
    "        print(a, b)"
   ]
  },
  {
   "cell_type": "code",
   "execution_count": 26,
   "id": "78a76f76-a825-4d14-9168-ef71a3b91416",
   "metadata": {},
   "outputs": [
    {
     "name": "stdout",
     "output_type": "stream",
     "text": [
      "리스트 원소들 : [10, 20, 30, 50, 60]\n",
      "리스트 원소들의 합 : 170\n"
     ]
    }
   ],
   "source": [
    "#6.7\n",
    "n_list = [10, 20, 30, 50, 60]\n",
    "result = 0\n",
    "for a in n_list:\n",
    "    result += a\n",
    "print('리스트 원소들 :', n_list)\n",
    "print('리스트 원소들의 합 :', result)"
   ]
  },
  {
   "cell_type": "code",
   "execution_count": 39,
   "id": "b24f6f43-21de-437f-9b20-0d10c2d48524",
   "metadata": {},
   "outputs": [
    {
     "name": "stdout",
     "output_type": "stream",
     "text": [
      "리스트 원소들 : [10, 20, 30, 50, 60]\n",
      "리스트 원소들 중 최대값 : 60\n"
     ]
    }
   ],
   "source": [
    "#6.9\n",
    "n_list = [10, 20, 30, 50, 60]\n",
    "print('리스트 원소들 :', n_list)\n",
    "n_list.sort(reverse = True)\n",
    "result = n_list[0]\n",
    "print('리스트 원소들 중 최대값 :', result)"
   ]
  },
  {
   "cell_type": "code",
   "execution_count": 48,
   "id": "1b5fe4e6-5d43-433e-8a64-604ca5bfaa82",
   "metadata": {},
   "outputs": [
    {
     "name": "stdout",
     "output_type": "stream",
     "text": [
      "5개의 수를 입력하세요:\n"
     ]
    },
    {
     "name": "stdin",
     "output_type": "stream",
     "text": [
      " 45\n",
      " 67\n",
      " 20\n",
      " 34\n",
      " 2\n"
     ]
    },
    {
     "name": "stdout",
     "output_type": "stream",
     "text": [
      "합 : 168\n",
      "평균 : 33.6\n",
      "최댓값: 67\n",
      "최솟값: 2\n"
     ]
    }
   ],
   "source": [
    "#6.11\n",
    "n_list = []\n",
    "print('5개의 수를 입력하세요:')\n",
    "for _ in range(5):\n",
    "    n = int(input())\n",
    "    n_list.append(n)\n",
    "\n",
    "print('합 :', sum(n_list))\n",
    "print('평균 :', sum(n_list) / len(n_list))\n",
    "print('최댓값:', max(n_list))\n",
    "print('최솟값:', min(n_list))"
   ]
  },
  {
   "cell_type": "code",
   "execution_count": 2,
   "id": "0aa4523e-b53b-4d86-8513-fbcb74362983",
   "metadata": {},
   "outputs": [
    {
     "name": "stdin",
     "output_type": "stream",
     "text": [
      "n을 입력하세요:  10\n"
     ]
    },
    {
     "name": "stdout",
     "output_type": "stream",
     "text": [
      "10개의 수를 입력하세요:\n"
     ]
    },
    {
     "name": "stdin",
     "output_type": "stream",
     "text": [
      " 45\n",
      " 67\n",
      " 20\n",
      " 34\n",
      " 2\n",
      " 100\n",
      " 23\n",
      " 45\n",
      " 67\n",
      " 89\n"
     ]
    },
    {
     "name": "stdout",
     "output_type": "stream",
     "text": [
      "합: 492\n",
      "평균: 49.2\n",
      "표준편차: 29.72\n"
     ]
    }
   ],
   "source": [
    "#6.13\n",
    "import math\n",
    "\n",
    "def standard_deviation(data):\n",
    "    mean = sum(data) / len(data)\n",
    "    variance = sum((x - mean) ** 2 for x in data) / len(data)\n",
    "    return math.sqrt(variance)\n",
    "\n",
    "n_list = []\n",
    "n = map(int,input('n을 입력하세요: ').split(','))\n",
    "\n",
    "print(f'{n}개의 수를 입력하세요:')\n",
    "for _ in range(n):\n",
    "    n_list.append(int(input()))\n",
    "\n",
    "print('합:', sum(n_list))\n",
    "print('평균:', sum(n_list) / len(n_list))\n",
    "print(f'표준편차: {standard_deviation(n_list):.2f}')\n"
   ]
  },
  {
   "cell_type": "code",
   "execution_count": 57,
   "id": "17a1e37d-6b3c-4c6e-8b6f-d00e54c9d432",
   "metadata": {},
   "outputs": [
    {
     "data": {
      "text/plain": [
       "'Have'"
      ]
     },
     "execution_count": 57,
     "metadata": {},
     "output_type": "execute_result"
    }
   ],
   "source": [
    "#6.15\n",
    "greet = 'Have a beautiful day.'\n",
    "greet[0:4]"
   ]
  },
  {
   "cell_type": "code",
   "execution_count": 56,
   "id": "ebfce33e-d76e-4252-bdce-90a646a0b6a9",
   "metadata": {},
   "outputs": [
    {
     "data": {
      "text/plain": [
       "'beautiful'"
      ]
     },
     "execution_count": 56,
     "metadata": {},
     "output_type": "execute_result"
    }
   ],
   "source": [
    "greet[7:16]"
   ]
  },
  {
   "cell_type": "code",
   "execution_count": 59,
   "id": "323f048d-b1be-4262-8d98-70634b6c5d2d",
   "metadata": {},
   "outputs": [
    {
     "data": {
      "text/plain": [
       "'day'"
      ]
     },
     "execution_count": 59,
     "metadata": {},
     "output_type": "execute_result"
    }
   ],
   "source": [
    "greet[17:20]"
   ]
  },
  {
   "cell_type": "code",
   "execution_count": 61,
   "id": "6aba5c75-72c4-450c-94c9-06a19677438d",
   "metadata": {},
   "outputs": [
    {
     "name": "stdout",
     "output_type": "stream",
     "text": [
      "anmials = ['dog', 'cat', 'tiger', 'lion']\n"
     ]
    }
   ],
   "source": [
    "#6.17\n",
    "animals = ['dog', 'cat', 'tiger', 'lion']\n",
    "print(f'anmials =', animals)"
   ]
  },
  {
   "cell_type": "code",
   "execution_count": 72,
   "id": "41076474-dbbc-48af-a0fb-7dd30e5613a8",
   "metadata": {},
   "outputs": [
    {
     "name": "stdout",
     "output_type": "stream",
     "text": [
      "anmials = ['cat', 'tiger', 'lion', 'dog']\n"
     ]
    }
   ],
   "source": [
    "animals = ['dog', 'cat', 'tiger', 'lion']\n",
    "a1 = animals[1:4]\n",
    "animals = ['dog', 'cat', 'tiger', 'lion']\n",
    "a2 = animals[0:1]\n",
    "animals = a1 + a2\n",
    "print(f'anmials =', animals)"
   ]
  },
  {
   "cell_type": "code",
   "execution_count": 74,
   "id": "c6d72038-73d1-4b3b-8248-b688d6352b5e",
   "metadata": {},
   "outputs": [
    {
     "name": "stdout",
     "output_type": "stream",
     "text": [
      "I love dog.\n",
      "I love cat.\n",
      "I love tiger.\n",
      "I love lion.\n"
     ]
    }
   ],
   "source": [
    "animals = ['dog', 'cat', 'tiger', 'lion']\n",
    "for n in animals:\n",
    "    print(f'I love {n}.')"
   ]
  },
  {
   "cell_type": "code",
   "execution_count": 86,
   "id": "13023654-c9d2-48f0-89ed-62a6b73279d2",
   "metadata": {},
   "outputs": [
    {
     "name": "stdout",
     "output_type": "stream",
     "text": [
      "s_list = ['abc', 'bcd', 'abc', 'abba', 'cddc', 'opq', 'opq'] new_s_list = ['abc', 'bcd', 'abba', 'cddc', 'opq']\n"
     ]
    }
   ],
   "source": [
    "#6.19\n",
    "s_list = ['abc', 'bcd', 'abc', 'abba', 'cddc', 'opq', 'opq']\n",
    "new_s_list = []\n",
    "for i in s_list:\n",
    " if i not in new_s_list:\n",
    "     new_s_list.append(i)\n",
    "print(f's_list =', s_list, f'new_s_list =', new_s_list)"
   ]
  },
  {
   "cell_type": "code",
   "execution_count": 20,
   "id": "0ff13f60-11ed-4667-9a46-398af9849774",
   "metadata": {},
   "outputs": [
    {
     "name": "stdout",
     "output_type": "stream",
     "text": [
      "src = a4b1c4a5c3f1g1\n",
      "output = aaaabccccaaaaacccfg\n"
     ]
    }
   ],
   "source": [
    "#6.21\n",
    "def decompress_string(src):\n",
    "    decompressed = \"\"\n",
    "    i = 0\n",
    "\n",
    "    while i < len(src):\n",
    "        char = src[i]\n",
    "        count = int(src[i + 1])\n",
    "        decompressed += char * count\n",
    "        i += 2\n",
    "    return decompressed\n",
    "\n",
    "src = 'a4b1c4a5c3f1g1'\n",
    "print(f'src =', src)\n",
    "print(f'output =',decompress_string(src))"
   ]
  },
  {
   "cell_type": "code",
   "execution_count": 15,
   "id": "c2bb01a3-bd0e-4933-b3f0-11ad243be0e8",
   "metadata": {},
   "outputs": [
    {
     "name": "stdout",
     "output_type": "stream",
     "text": [
      "3명의 정보가 담겨 있습니다.\n"
     ]
    }
   ],
   "source": [
    "#6.23\n",
    "person1 = ['온달', 20, 1, 180.0, 100.0]\n",
    "person2 = ['이사부', 25, 1, 170.0, 70.0]\n",
    "person3 = ['평강', 22, 0, 169.0, 60.0]\n",
    "person4 = ['혁거세', 40, 1, 150.0, 50.0]\n",
    "\n",
    "p_list = []\n",
    "number = []\n",
    "\n",
    "def how_many_persons(person_list):\n",
    "    p_list.extend(person_list)\n",
    "    for i in range(len(p_list) // 5):\n",
    "        number.append(i + 1)  \n",
    "    result = len(number)  \n",
    "    return result\n",
    "\n",
    "person_list = person1 + person3 + person4\n",
    "n_persons = how_many_persons(person_list)\n",
    "print(str(n_persons) + '명의 정보가 담겨 있습니다.')\n"
   ]
  },
  {
   "cell_type": "code",
   "execution_count": 100,
   "id": "6ea860ba-f36e-4ab3-9c8f-d4f84d440321",
   "metadata": {},
   "outputs": [
    {
     "name": "stdout",
     "output_type": "stream",
     "text": [
      "평균나이는 26.75세입니다.\n"
     ]
    }
   ],
   "source": [
    "a_list = []\n",
    "age = []\n",
    "\n",
    "def compute_average_age(person_list):\n",
    "    a_list.extend(person_list)\n",
    "    a = 1\n",
    "    for i in range(len(a_list) // 5):\n",
    "        age.append(a_list[a])\n",
    "        a += 5\n",
    "    result = sum(age) / len(age)\n",
    "    return result\n",
    "\n",
    "person_list = person1 + person2 + person3 + person4\n",
    "average_age = compute_average_age(person_list)\n",
    "print('평균나이는 ' + str(average_age) + '세입니다.')"
   ]
  },
  {
   "cell_type": "code",
   "execution_count": 7,
   "id": "a01ddd0a-c15b-44dd-b8a9-0cfac6d8af57",
   "metadata": {},
   "outputs": [
    {
     "name": "stdout",
     "output_type": "stream",
     "text": [
      "리스트에는 남자가 3 명, 여자가 1 명입니다.\n"
     ]
    }
   ],
   "source": [
    "person1 = ['온달', 20, 1, 180.0, 100.0]\n",
    "person2 = ['이사부', 25, 1, 170.0, 70.0]\n",
    "person3 = ['평강', 22, 0, 169.0, 60.0]\n",
    "person4 = ['혁거세', 40, 1, 150.0, 50.0]\n",
    "\n",
    "\n",
    "def count_males_females(person_list):\n",
    "    males = 0\n",
    "    females = 0\n",
    "    for i in range(0, len(person_list), 5):\n",
    "        gender = person_list[i + 2]\n",
    "        if gender == 1:\n",
    "            males += 1\n",
    "        else:\n",
    "            females += 1\n",
    "    return males, females\n",
    "\n",
    "person_list = person1 + person2 + person3 + person4\n",
    "n_males, n_females = count_males_females(person_list)\n",
    "print('리스트에는 남자가', n_males, '명, 여자가', n_females, '명입니다.')"
   ]
  },
  {
   "cell_type": "code",
   "execution_count": 14,
   "id": "f3fa46f8-71a5-4d8a-9f1d-11dd0a51bb3e",
   "metadata": {},
   "outputs": [
    {
     "data": {
      "text/plain": [
       "[['온달', 20, 1, 180.0, 100.0],\n",
       " ['이사부', 25, 1, 170.0, 70.0],\n",
       " ['평강', 22, 0, 169.0, 60.0],\n",
       " ['혁거세', 40, 1, 150.0, 50.0]]"
      ]
     },
     "execution_count": 14,
     "metadata": {},
     "output_type": "execute_result"
    }
   ],
   "source": [
    "def display_persons(person_list):\n",
    "    i = 0\n",
    "    persons = []\n",
    "    for _ in range(len(person_list) // 5):\n",
    "        person = person_list[i : i + 5]\n",
    "        persons.append(person)\n",
    "        i += 5\n",
    "    return persons\n",
    "        \n",
    "person_list = person1 + person2 + person3 + person4\n",
    "display_persons(person_list)"
   ]
  }
 ],
 "metadata": {
  "kernelspec": {
   "display_name": "Python 3 (ipykernel)",
   "language": "python",
   "name": "python3"
  },
  "language_info": {
   "codemirror_mode": {
    "name": "ipython",
    "version": 3
   },
   "file_extension": ".py",
   "mimetype": "text/x-python",
   "name": "python",
   "nbconvert_exporter": "python",
   "pygments_lexer": "ipython3",
   "version": "3.13.2"
  }
 },
 "nbformat": 4,
 "nbformat_minor": 5
}
