{
 "cells": [
  {
   "cell_type": "code",
   "execution_count": 9,
   "id": "e95ab312-42d7-41e9-aab3-79636bab38b6",
   "metadata": {},
   "outputs": [
    {
     "data": {
      "text/plain": [
       "'오승원'"
      ]
     },
     "execution_count": 9,
     "metadata": {},
     "output_type": "execute_result"
    }
   ],
   "source": [
    "person = {'이름' : '오승원', '나이' : '22', '몸무게' : '92'}\n",
    "person['키'] = '182'\n",
    "person['나이'] = '23'\n",
    "person.get('이름')"
   ]
  },
  {
   "cell_type": "code",
   "execution_count": 11,
   "id": "7f4111e8-dfb0-49dd-b07b-043ee741b353",
   "metadata": {},
   "outputs": [
    {
     "name": "stdout",
     "output_type": "stream",
     "text": [
      "이름 : 오승원\n",
      "나이 : 22\n",
      "몸무게 : 92\n"
     ]
    }
   ],
   "source": [
    "person = {'이름' : '오승원', '나이' : '22', '몸무게' : '92'}\n",
    "for key in person:\n",
    "    print('{} : {}'.format(key, person[key]))"
   ]
  },
  {
   "cell_type": "code",
   "execution_count": 13,
   "id": "f38d833d-932d-40d8-96e1-bee923f2f344",
   "metadata": {},
   "outputs": [
    {
     "name": "stdout",
     "output_type": "stream",
     "text": [
      "<class 'tuple'>\n"
     ]
    }
   ],
   "source": [
    "def mplus(a, b):\n",
    "    return a+b, a-b\n",
    "result = mplus(3,4)\n",
    "print(type(result))"
   ]
  },
  {
   "cell_type": "code",
   "execution_count": 15,
   "id": "c17facf8-6e3f-445b-ac36-489a0c0bc028",
   "metadata": {},
   "outputs": [
    {
     "name": "stdout",
     "output_type": "stream",
     "text": [
      "[0, 1, 1, 0, 2, 3]\n",
      "{0, 1, 2, 3}\n"
     ]
    }
   ],
   "source": [
    "list0 = [0, 1, 1, 0, 2, 3]\n",
    "set0 = {0, 1, 1, 0, 2, 3}\n",
    "print(list0)\n",
    "print(set0)"
   ]
  },
  {
   "cell_type": "code",
   "execution_count": 19,
   "id": "4a024a5a-053a-42a8-807e-4c740a20ee47",
   "metadata": {},
   "outputs": [
    {
     "name": "stdout",
     "output_type": "stream",
     "text": [
      "{1, 2, 3, 4, 5, 6, 7, 8, 9}\n",
      "{4, 5, 6}\n"
     ]
    }
   ],
   "source": [
    "s1 = {1,2,3,4,5,6}\n",
    "s2 = {4,5,6,7,8,9}\n",
    "print(s1 | s2)\n",
    "si = s1 & s2\n",
    "print(si)"
   ]
  },
  {
   "cell_type": "code",
   "execution_count": 20,
   "id": "4110a986-2059-4553-9b8b-5a71825429d8",
   "metadata": {},
   "outputs": [
    {
     "data": {
      "text/plain": [
       "datetime.datetime(2025, 4, 8, 15, 2, 4, 363537)"
      ]
     },
     "execution_count": 20,
     "metadata": {},
     "output_type": "execute_result"
    }
   ],
   "source": [
    "import datetime\n",
    "datetime.datetime.now()"
   ]
  },
  {
   "cell_type": "code",
   "execution_count": 36,
   "id": "d1288850-01e4-4b23-b9e2-efc91f3d5882",
   "metadata": {},
   "outputs": [
    {
     "name": "stdout",
     "output_type": "stream",
     "text": [
      "오늘은 2025년 4월 8일입니다\n",
      "다음 크리스마스까지는 260일 8시간 남았습니다.\n",
      "0.00036406517028808594\n"
     ]
    }
   ],
   "source": [
    "import datetime as dt\n",
    "import time\n",
    "\n",
    "time0 = time.time()\n",
    "\n",
    "today = dt.date.today()\n",
    "print('오늘은 {}년 {}월 {}일입니다'. format(today.year, today.month, today.day))\n",
    "xMas = dt.datetime(today.year, 12, 25)\n",
    "time_gap = xMas - dt.datetime.now()\n",
    "print('다음 크리스마스까지는 {}일 {}시간 남았습니다.'.format(\\\n",
    "    time_gap.days, time_gap.seconds // 3600))\n",
    "\n",
    "time1 = time.time()\n",
    "print(time1 - time0)"
   ]
  },
  {
   "cell_type": "code",
   "execution_count": 27,
   "id": "ad522a1f-2276-49c3-bc88-608caa3b5a53",
   "metadata": {},
   "outputs": [
    {
     "name": "stdout",
     "output_type": "stream",
     "text": [
      "<class 'datetime.date'>\n"
     ]
    }
   ],
   "source": [
    "print(type(today))"
   ]
  },
  {
   "cell_type": "code",
   "execution_count": 3,
   "id": "620c6124-6511-41ae-a008-b91dc9d06f52",
   "metadata": {},
   "outputs": [
    {
     "data": {
      "text/plain": [
       "<function turtle.mainloop()>"
      ]
     },
     "execution_count": 3,
     "metadata": {},
     "output_type": "execute_result"
    }
   ],
   "source": [
    "import turtle as t\n",
    "t.setup(width = 800, height = 800)\n",
    "t.shape('turtle')\n",
    "for i in range(50):\n",
    "    t.forward(i*2)\n",
    "    t.left(90)\n",
    "t.done"
   ]
  },
  {
   "cell_type": "code",
   "execution_count": 5,
   "id": "fb758f13-419a-478c-9868-04b5c7c922bc",
   "metadata": {},
   "outputs": [
    {
     "ename": "Terminator",
     "evalue": "",
     "output_type": "error",
     "traceback": [
      "\u001b[31m---------------------------------------------------------------------------\u001b[39m",
      "\u001b[31mTerminator\u001b[39m                                Traceback (most recent call last)",
      "\u001b[36mCell\u001b[39m\u001b[36m \u001b[39m\u001b[32mIn[5]\u001b[39m\u001b[32m, line 7\u001b[39m\n\u001b[32m      5\u001b[39m     t.pencolor(colors[i % \u001b[32m4\u001b[39m])\n\u001b[32m      6\u001b[39m     t.forward(i)\n\u001b[32m----> \u001b[39m\u001b[32m7\u001b[39m     \u001b[43mt\u001b[49m\u001b[43m.\u001b[49m\u001b[43mleft\u001b[49m\u001b[43m(\u001b[49m\u001b[32;43m93\u001b[39;49m\u001b[43m)\u001b[49m\n\u001b[32m      9\u001b[39m t.done()\n",
      "\u001b[36mFile \u001b[39m\u001b[32m<string>:8\u001b[39m, in \u001b[36mleft\u001b[39m\u001b[34m(angle)\u001b[39m\n",
      "\u001b[36mFile \u001b[39m\u001b[32m~\\AppData\\Local\\Programs\\Python\\Python313\\Lib\\turtle.py:1697\u001b[39m, in \u001b[36mTNavigator.left\u001b[39m\u001b[34m(self, angle)\u001b[39m\n\u001b[32m   1678\u001b[39m \u001b[38;5;28;01mdef\u001b[39;00m\u001b[38;5;250m \u001b[39m\u001b[34mleft\u001b[39m(\u001b[38;5;28mself\u001b[39m, angle):\n\u001b[32m   1679\u001b[39m \u001b[38;5;250m    \u001b[39m\u001b[33;03m\"\"\"Turn turtle left by angle units.\u001b[39;00m\n\u001b[32m   1680\u001b[39m \n\u001b[32m   1681\u001b[39m \u001b[33;03m    Aliases: left | lt\u001b[39;00m\n\u001b[32m   (...)\u001b[39m\u001b[32m   1695\u001b[39m \u001b[33;03m    67.0\u001b[39;00m\n\u001b[32m   1696\u001b[39m \u001b[33;03m    \"\"\"\u001b[39;00m\n\u001b[32m-> \u001b[39m\u001b[32m1697\u001b[39m     \u001b[38;5;28;43mself\u001b[39;49m\u001b[43m.\u001b[49m\u001b[43m_rotate\u001b[49m\u001b[43m(\u001b[49m\u001b[43mangle\u001b[49m\u001b[43m)\u001b[49m\n",
      "\u001b[36mFile \u001b[39m\u001b[32m~\\AppData\\Local\\Programs\\Python\\Python313\\Lib\\turtle.py:3317\u001b[39m, in \u001b[36mRawTurtle._rotate\u001b[39m\u001b[34m(self, angle)\u001b[39m\n\u001b[32m   3315\u001b[39m     \u001b[38;5;28;01mfor\u001b[39;00m _ \u001b[38;5;129;01min\u001b[39;00m \u001b[38;5;28mrange\u001b[39m(steps):\n\u001b[32m   3316\u001b[39m         \u001b[38;5;28mself\u001b[39m._orient = \u001b[38;5;28mself\u001b[39m._orient.rotate(delta)\n\u001b[32m-> \u001b[39m\u001b[32m3317\u001b[39m         \u001b[38;5;28;43mself\u001b[39;49m\u001b[43m.\u001b[49m\u001b[43m_update\u001b[49m\u001b[43m(\u001b[49m\u001b[43m)\u001b[49m\n\u001b[32m   3318\u001b[39m \u001b[38;5;28mself\u001b[39m._orient = neworient\n\u001b[32m   3319\u001b[39m \u001b[38;5;28mself\u001b[39m._update()\n",
      "\u001b[36mFile \u001b[39m\u001b[32m~\\AppData\\Local\\Programs\\Python\\Python313\\Lib\\turtle.py:2667\u001b[39m, in \u001b[36mRawTurtle._update\u001b[39m\u001b[34m(self)\u001b[39m\n\u001b[32m   2665\u001b[39m     \u001b[38;5;28;01mreturn\u001b[39;00m\n\u001b[32m   2666\u001b[39m \u001b[38;5;28;01melif\u001b[39;00m screen._tracing == \u001b[32m1\u001b[39m:\n\u001b[32m-> \u001b[39m\u001b[32m2667\u001b[39m     \u001b[38;5;28;43mself\u001b[39;49m\u001b[43m.\u001b[49m\u001b[43m_update_data\u001b[49m\u001b[43m(\u001b[49m\u001b[43m)\u001b[49m\n\u001b[32m   2668\u001b[39m     \u001b[38;5;28mself\u001b[39m._drawturtle()\n\u001b[32m   2669\u001b[39m     screen._update()                  \u001b[38;5;66;03m# TurtleScreenBase\u001b[39;00m\n",
      "\u001b[36mFile \u001b[39m\u001b[32m~\\AppData\\Local\\Programs\\Python\\Python313\\Lib\\turtle.py:2653\u001b[39m, in \u001b[36mRawTurtle._update_data\u001b[39m\u001b[34m(self)\u001b[39m\n\u001b[32m   2652\u001b[39m \u001b[38;5;28;01mdef\u001b[39;00m\u001b[38;5;250m \u001b[39m\u001b[34m_update_data\u001b[39m(\u001b[38;5;28mself\u001b[39m):\n\u001b[32m-> \u001b[39m\u001b[32m2653\u001b[39m     \u001b[38;5;28;43mself\u001b[39;49m\u001b[43m.\u001b[49m\u001b[43mscreen\u001b[49m\u001b[43m.\u001b[49m\u001b[43m_incrementudc\u001b[49m\u001b[43m(\u001b[49m\u001b[43m)\u001b[49m\n\u001b[32m   2654\u001b[39m     \u001b[38;5;28;01mif\u001b[39;00m \u001b[38;5;28mself\u001b[39m.screen._updatecounter != \u001b[32m0\u001b[39m:\n\u001b[32m   2655\u001b[39m         \u001b[38;5;28;01mreturn\u001b[39;00m\n",
      "\u001b[36mFile \u001b[39m\u001b[32m~\\AppData\\Local\\Programs\\Python\\Python313\\Lib\\turtle.py:1283\u001b[39m, in \u001b[36mTurtleScreen._incrementudc\u001b[39m\u001b[34m(self)\u001b[39m\n\u001b[32m   1281\u001b[39m \u001b[38;5;28;01mif\u001b[39;00m \u001b[38;5;129;01mnot\u001b[39;00m TurtleScreen._RUNNING:\n\u001b[32m   1282\u001b[39m     TurtleScreen._RUNNING = \u001b[38;5;28;01mTrue\u001b[39;00m\n\u001b[32m-> \u001b[39m\u001b[32m1283\u001b[39m     \u001b[38;5;28;01mraise\u001b[39;00m Terminator\n\u001b[32m   1284\u001b[39m \u001b[38;5;28;01mif\u001b[39;00m \u001b[38;5;28mself\u001b[39m._tracing > \u001b[32m0\u001b[39m:\n\u001b[32m   1285\u001b[39m     \u001b[38;5;28mself\u001b[39m._updatecounter += \u001b[32m1\u001b[39m\n",
      "\u001b[31mTerminator\u001b[39m: "
     ]
    }
   ],
   "source": [
    "import turtle as t\n",
    "\n",
    "colors = ['red', 'green', 'blue', 'orange']\n",
    "for i in range(200):\n",
    "    t.pencolor(colors[i % 4])\n",
    "    t.forward(i)\n",
    "    t.left(93)\n",
    "\n",
    "t.done()"
   ]
  },
  {
   "cell_type": "code",
   "execution_count": null,
   "id": "e1be5212-5152-4a8d-93de-3485e585236f",
   "metadata": {},
   "outputs": [],
   "source": []
  }
 ],
 "metadata": {
  "kernelspec": {
   "display_name": "Python 3 (ipykernel)",
   "language": "python",
   "name": "python3"
  },
  "language_info": {
   "codemirror_mode": {
    "name": "ipython",
    "version": 3
   },
   "file_extension": ".py",
   "mimetype": "text/x-python",
   "name": "python",
   "nbconvert_exporter": "python",
   "pygments_lexer": "ipython3",
   "version": "3.13.2"
  }
 },
 "nbformat": 4,
 "nbformat_minor": 5
}
