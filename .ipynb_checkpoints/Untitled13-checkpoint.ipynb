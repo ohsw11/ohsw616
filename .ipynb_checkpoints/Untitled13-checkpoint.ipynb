{
 "cells": [
  {
   "cell_type": "code",
   "execution_count": 2,
   "id": "aab4d4ad-f38a-4ae2-90b2-4f85956e0daa",
   "metadata": {},
   "outputs": [
    {
     "data": {
      "text/plain": [
       "7"
      ]
     },
     "execution_count": 2,
     "metadata": {},
     "output_type": "execute_result"
    }
   ],
   "source": [
    "a = 3\n",
    "b = 4\n",
    "c = a.__add__(b)\n",
    "c"
   ]
  },
  {
   "cell_type": "code",
   "execution_count": 6,
   "id": "d32e7c13-1b6d-45ae-8d68-1faebe2fec26",
   "metadata": {},
   "outputs": [
    {
     "name": "stdout",
     "output_type": "stream",
     "text": [
      "v1.add(v2) = (40, 60)\n"
     ]
    }
   ],
   "source": [
    "class Vector2D:\n",
    "    def __init__(self, x, y):\n",
    "        self.x = x\n",
    "        self.y = y\n",
    "    def __str__(self):\n",
    "        return '({}, {})'.format(self.x, self.y)\n",
    "    def __add__(self, other):\n",
    "        return Vector2D(self.x + other.x, self.y + other.y)\n",
    "\n",
    "v1 = Vector2D(30, 40)\n",
    "v2 = Vector2D(10, 20)\n",
    "v3 = v1 + v2\n",
    "print('v1.add(v2) =', v3)"
   ]
  },
  {
   "cell_type": "code",
   "execution_count": 23,
   "id": "0cc5e8d2-b2f7-4ded-b3a2-e1db21c3c956",
   "metadata": {},
   "outputs": [],
   "source": [
    "class compNum:\n",
    "    def __init__(self,x , y):\n",
    "        self.x = x\n",
    "        self.y = y\n",
    "    def __mul__(self, other):\n",
    "        return compNum((self.x * other.x - self.y * other.y), (self.x * other.y + self.y * other.x))\n",
    "    def __truediv__(self, other):\n",
    "        z = (other.x ** 2 + other.y ** 2)\n",
    "        return compNum((self.x * other.x + self.y * other.y)/(other.x ** 2 + other.y ** 2), (self.y * other.x - self.x * other.y)/(other.x ** 2 + other.y ** 2))\n",
    "c1 = compNum(1, 2)\n",
    "c2 = compNum(2, 1)\n",
    "c3 = c1 * c2\n",
    "c4 = c1 / c2"
   ]
  },
  {
   "cell_type": "code",
   "execution_count": 28,
   "id": "df6ad0f2-7077-460a-90f5-e68618318b65",
   "metadata": {},
   "outputs": [
    {
     "name": "stdout",
     "output_type": "stream",
     "text": [
      "norm of  <__main__.compNum object at 0x000001AFC389DE80>  is greater than norm of <__main__.compNum object at 0x000001AFC38EA850>\n"
     ]
    }
   ],
   "source": [
    "class compNum:\n",
    "    def __init__(self,x , y):\n",
    "        self.x = x\n",
    "        self.y = y\n",
    "    def __mul__(self, other):\n",
    "        return compNum((self.x * other.x - self.y * other.y), (self.x * other.y + self.y * other.x))\n",
    "    def __truediv__(self, other):\n",
    "        z = (other.x ** 2 + other.y ** 2)\n",
    "        return compNum((self.x * other.x + self.y * other.y) / z, (self.y * other.x - self.x * other.y) / z)\n",
    "    def __gt__(self, other):\n",
    "        if (self.x**2 + self.y**2 > other.x**2 + other.y**2):\n",
    "            return True\n",
    "        else:\n",
    "            return False\n",
    "c1 = compNum(2, 2)\n",
    "c2 = compNum(2, 1)\n",
    "c3 = c1 * c2\n",
    "c4 = c1 / c2\n",
    "if(c1 > c2):\n",
    "    print('norm of ', c1, ' is greater than norm of', c2)\n",
    "else:\n",
    "    print('norm of ', c2, ' is greater than norm of', c1)"
   ]
  },
  {
   "cell_type": "code",
   "execution_count": 18,
   "id": "9914cf2f-2ab3-4cae-9cfa-2c0121b83a64",
   "metadata": {},
   "outputs": [
    {
     "name": "stdout",
     "output_type": "stream",
     "text": [
      "(0.8+0.6j)\n"
     ]
    }
   ],
   "source": [
    "d1 = 1+2j\n",
    "d2 = 2+1j\n",
    "d3 = d1 / d2\n",
    "print(d3)"
   ]
  },
  {
   "cell_type": "code",
   "execution_count": null,
   "id": "b94c90c1-4685-48dd-9e39-3403969bd851",
   "metadata": {},
   "outputs": [],
   "source": []
  }
 ],
 "metadata": {
  "kernelspec": {
   "display_name": "Python 3 (ipykernel)",
   "language": "python",
   "name": "python3"
  },
  "language_info": {
   "codemirror_mode": {
    "name": "ipython",
    "version": 3
   },
   "file_extension": ".py",
   "mimetype": "text/x-python",
   "name": "python",
   "nbconvert_exporter": "python",
   "pygments_lexer": "ipython3",
   "version": "3.13.2"
  }
 },
 "nbformat": 4,
 "nbformat_minor": 5
}
