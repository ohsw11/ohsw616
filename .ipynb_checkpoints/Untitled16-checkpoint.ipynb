{
 "cells": [
  {
   "cell_type": "code",
   "execution_count": 7,
   "id": "da97bd24-7f6e-4970-b9f1-c00b39fc3c7c",
   "metadata": {},
   "outputs": [
    {
     "name": "stdout",
     "output_type": "stream",
     "text": [
      "2.23606797749979\n"
     ]
    }
   ],
   "source": [
    "def root(a):\n",
    "    xn = 1\n",
    "    for _ in range(10):\n",
    "        xnp = 0.5*(xn + a/xn)\n",
    "        xn = xnp\n",
    "\n",
    "    return xnp\n",
    "\n",
    "print(root(5))"
   ]
  },
  {
   "cell_type": "code",
   "execution_count": 13,
   "id": "cd9c05aa-4a57-4f05-a915-c2f133ec5e00",
   "metadata": {},
   "outputs": [],
   "source": [
    "from tkinter import *\n",
    "\n",
    "window = Tk()\n",
    "window.title('원도창 연습')\n",
    "window.geometry(\"400x100\")\n",
    "window.resizable(width = TRUE, height = FALSE)\n",
    "\n",
    "window.mainloop()"
   ]
  },
  {
   "cell_type": "code",
   "execution_count": 14,
   "id": "efd03b41-fdf0-4662-b66f-fcdfcc5d63e5",
   "metadata": {},
   "outputs": [],
   "source": [
    "from tkinter import *\n",
    "window = Tk()\n",
    "\n",
    "label1 = Label(window, text = \"COOKBOOK~~Python을\")\n",
    "label2 = Label(window, text = \"열심히\", font = (\"궁서체\", 30), fg=\"blue\")\n",
    "label3 = Label(window, text = \"공부 중입니다.\", bg = \"magenta\", width = 20, height = 5, anchor = SE)\n",
    "\n",
    "label1.pack()\n",
    "label2.pack()\n",
    "label3.pack()\n",
    "\n",
    "window.mainloop()"
   ]
  },
  {
   "cell_type": "code",
   "execution_count": 38,
   "id": "9d31b59d-ed78-4f60-947a-4a70d25749ab",
   "metadata": {
    "scrolled": true
   },
   "outputs": [
    {
     "ename": "TclError",
     "evalue": "image \"pyimage21\" doesn't exist",
     "output_type": "error",
     "traceback": [
      "\u001b[31m---------------------------------------------------------------------------\u001b[39m",
      "\u001b[31mTclError\u001b[39m                                  Traceback (most recent call last)",
      "\u001b[36mCell\u001b[39m\u001b[36m \u001b[39m\u001b[32mIn[38]\u001b[39m\u001b[32m, line 5\u001b[39m\n\u001b[32m      2\u001b[39m window = Tk()\n\u001b[32m      4\u001b[39m photo = PhotoImage(file=\u001b[33m'\u001b[39m\u001b[33mdogy.png\u001b[39m\u001b[33m'\u001b[39m)\n\u001b[32m----> \u001b[39m\u001b[32m5\u001b[39m label1 = \u001b[43mLabel\u001b[49m\u001b[43m(\u001b[49m\u001b[43mwindow\u001b[49m\u001b[43m,\u001b[49m\u001b[43m \u001b[49m\u001b[43mimage\u001b[49m\u001b[43m=\u001b[49m\u001b[43mphoto\u001b[49m\u001b[43m)\u001b[49m\n\u001b[32m      7\u001b[39m label1.pack()\n\u001b[32m      9\u001b[39m window.mainloop()\n",
      "\u001b[36mFile \u001b[39m\u001b[32m~\\AppData\\Local\\Programs\\Python\\Python313\\Lib\\tkinter\\__init__.py:3363\u001b[39m, in \u001b[36mLabel.__init__\u001b[39m\u001b[34m(self, master, cnf, **kw)\u001b[39m\n\u001b[32m   3345\u001b[39m \u001b[38;5;28;01mdef\u001b[39;00m\u001b[38;5;250m \u001b[39m\u001b[34m__init__\u001b[39m(\u001b[38;5;28mself\u001b[39m, master=\u001b[38;5;28;01mNone\u001b[39;00m, cnf={}, **kw):\n\u001b[32m   3346\u001b[39m \u001b[38;5;250m    \u001b[39m\u001b[33;03m\"\"\"Construct a label widget with the parent MASTER.\u001b[39;00m\n\u001b[32m   3347\u001b[39m \n\u001b[32m   3348\u001b[39m \u001b[33;03m    STANDARD OPTIONS\u001b[39;00m\n\u001b[32m   (...)\u001b[39m\u001b[32m   3361\u001b[39m \n\u001b[32m   3362\u001b[39m \u001b[33;03m    \"\"\"\u001b[39;00m\n\u001b[32m-> \u001b[39m\u001b[32m3363\u001b[39m     \u001b[43mWidget\u001b[49m\u001b[43m.\u001b[49m\u001b[34;43m__init__\u001b[39;49m\u001b[43m(\u001b[49m\u001b[38;5;28;43mself\u001b[39;49m\u001b[43m,\u001b[49m\u001b[43m \u001b[49m\u001b[43mmaster\u001b[49m\u001b[43m,\u001b[49m\u001b[43m \u001b[49m\u001b[33;43m'\u001b[39;49m\u001b[33;43mlabel\u001b[39;49m\u001b[33;43m'\u001b[39;49m\u001b[43m,\u001b[49m\u001b[43m \u001b[49m\u001b[43mcnf\u001b[49m\u001b[43m,\u001b[49m\u001b[43m \u001b[49m\u001b[43mkw\u001b[49m\u001b[43m)\u001b[49m\n",
      "\u001b[36mFile \u001b[39m\u001b[32m~\\AppData\\Local\\Programs\\Python\\Python313\\Lib\\tkinter\\__init__.py:2774\u001b[39m, in \u001b[36mBaseWidget.__init__\u001b[39m\u001b[34m(self, master, widgetName, cnf, kw, extra)\u001b[39m\n\u001b[32m   2772\u001b[39m \u001b[38;5;28;01mfor\u001b[39;00m k, v \u001b[38;5;129;01min\u001b[39;00m classes:\n\u001b[32m   2773\u001b[39m     \u001b[38;5;28;01mdel\u001b[39;00m cnf[k]\n\u001b[32m-> \u001b[39m\u001b[32m2774\u001b[39m \u001b[38;5;28;43mself\u001b[39;49m\u001b[43m.\u001b[49m\u001b[43mtk\u001b[49m\u001b[43m.\u001b[49m\u001b[43mcall\u001b[49m\u001b[43m(\u001b[49m\n\u001b[32m   2775\u001b[39m \u001b[43m    \u001b[49m\u001b[43m(\u001b[49m\u001b[43mwidgetName\u001b[49m\u001b[43m,\u001b[49m\u001b[43m \u001b[49m\u001b[38;5;28;43mself\u001b[39;49m\u001b[43m.\u001b[49m\u001b[43m_w\u001b[49m\u001b[43m)\u001b[49m\u001b[43m \u001b[49m\u001b[43m+\u001b[49m\u001b[43m \u001b[49m\u001b[43mextra\u001b[49m\u001b[43m \u001b[49m\u001b[43m+\u001b[49m\u001b[43m \u001b[49m\u001b[38;5;28;43mself\u001b[39;49m\u001b[43m.\u001b[49m\u001b[43m_options\u001b[49m\u001b[43m(\u001b[49m\u001b[43mcnf\u001b[49m\u001b[43m)\u001b[49m\u001b[43m)\u001b[49m\n\u001b[32m   2776\u001b[39m \u001b[38;5;28;01mfor\u001b[39;00m k, v \u001b[38;5;129;01min\u001b[39;00m classes:\n\u001b[32m   2777\u001b[39m     k.configure(\u001b[38;5;28mself\u001b[39m, v)\n",
      "\u001b[31mTclError\u001b[39m: image \"pyimage21\" doesn't exist"
     ]
    }
   ],
   "source": [
    "from tkinter import *\n",
    "window = Tk()\n",
    "\n",
    "photo = PhotoImage(file='dogy.png')\n",
    "label1 = Label(window, image=photo)\n",
    "\n",
    "label1.pack()\n",
    "\n",
    "window.mainloop()"
   ]
  },
  {
   "cell_type": "code",
   "execution_count": 1,
   "id": "5217bae4-8653-41c2-9cb5-d2bb316d67bb",
   "metadata": {
    "scrolled": true
   },
   "outputs": [],
   "source": [
    "from tkinter import *\n",
    "\n",
    "window = Tk()\n",
    "\n",
    "button1 = Button(window, text=\"파이썬 종료\",fg=\"red\", command=quit)\n",
    "\n",
    "button1.pack()\n",
    "\n",
    "window.mainloop()"
   ]
  },
  {
   "cell_type": "code",
   "execution_count": 1,
   "id": "12fbac6f-53ff-4b04-95cc-2bd743a0af75",
   "metadata": {
    "scrolled": true
   },
   "outputs": [],
   "source": [
    "from tkinter import *\n",
    "from tkinter import messagebox\n",
    "\n",
    "def myfunc():\n",
    "    messagebox.showinfo(\"강아지버튼\", \"강아지 귀엽죠?^^\")\n",
    "\n",
    "window = Tk()\n",
    "\n",
    "photo = PhotoImage(file = \"dogy.png\")\n",
    "button1 = Button(window, text=\"파이썬 종료\",fg=\"red\", command=myfunc)\n",
    "\n",
    "button1.pack()\n",
    "\n",
    "window.mainloop()"
   ]
  },
  {
   "cell_type": "code",
   "execution_count": 1,
   "id": "14dc2db5-6303-4c75-8272-bb6b85d0d405",
   "metadata": {
    "scrolled": true
   },
   "outputs": [],
   "source": [
    "from tkinter import *\n",
    "from tkinter import messagebox\n",
    "window = Tk()\n",
    "\n",
    "def myfunc():\n",
    "    if chk.get() == 0:\n",
    "        messagebox.showinfo('','체크버튼이 꺼졌어요.')\n",
    "    else:\n",
    "        messagebox.showinfo('','체크버튼이 켜졌어요.')\n",
    "\n",
    "chk = IntVar()\n",
    "cb1 = Checkbutton(window, text = '클릭하세요', variable = chk, command = myfunc)\n",
    "\n",
    "cb1.pack()\n",
    "\n",
    "window.mainloop()"
   ]
  },
  {
   "cell_type": "code",
   "execution_count": 7,
   "id": "b62451ad-b390-4d8b-8884-c45c1720e284",
   "metadata": {},
   "outputs": [],
   "source": [
    "from tkinter import *\n",
    "\n",
    "window = Tk()\n",
    "\n",
    "def myfunc():\n",
    "        if var.get() == 1 :\n",
    "            label1.configure(text = '파이썬')\n",
    "        elif var.get() == 2 :\n",
    "            label1.configure(text = 'C++')\n",
    "        else :\n",
    "            label1.configure(text = 'Java')\n",
    "\n",
    "var = IntVar()\n",
    "rb1 = Radiobutton(window, text = '파이썬', variable = var, value = 1, command = myfunc)\n",
    "rb2 = Radiobutton(window, text = 'C++', variable = var, value = 2, command = myfunc)\n",
    "rb3 = Radiobutton(window, text = 'Java', variable = var, value = 3, command = myfunc)\n",
    "\n",
    "label1 = Label(window, text = '선택한 언어 :', fg = 'red')\n",
    "\n",
    "rb1.pack(side = TOP)\n",
    "rb2.pack(side = TOP)\n",
    "rb3.pack(side = TOP)\n",
    "label1.pack()\n",
    "\n",
    "window.mainloop()"
   ]
  },
  {
   "cell_type": "code",
   "execution_count": 11,
   "id": "104b82ba-c40a-4f10-9346-6a50db7232d4",
   "metadata": {},
   "outputs": [],
   "source": [
    "from tkinter import*\n",
    "window = Tk()\n",
    "\n",
    "button1=Button(window, text = '버튼1')\n",
    "button2=Button(window, text = '버튼2')\n",
    "button3=Button(window, text = '버튼3')\n",
    "\n",
    "button1.pack(side = LEFT)\n",
    "button2.pack(side = LEFT)\n",
    "button3.pack(side = LEFT)\n",
    "\n",
    "window.mainloop()"
   ]
  },
  {
   "cell_type": "code",
   "execution_count": 14,
   "id": "fdb6e149-cd37-479d-a339-a80a1706de80",
   "metadata": {},
   "outputs": [],
   "source": [
    "from tkinter import*\n",
    "window = Tk()\n",
    "\n",
    "btnlist = [None]*3\n",
    "\n",
    "for i in range(0,3) :\n",
    "    btnlist[i] = Button(window, text = '버튼'+ str(i + 1))\n",
    "\n",
    "for btn in btnlist :\n",
    "    ##버튼 정렬결정\n",
    "    btn.pack(side = TOP)\n",
    "\n",
    "window.mainloop()"
   ]
  },
  {
   "cell_type": "code",
   "execution_count": 15,
   "id": "8c6f09f3-9588-4058-b269-a09031d8cc0f",
   "metadata": {},
   "outputs": [
    {
     "ename": "NameError",
     "evalue": "name 'fnameList' is not defined",
     "output_type": "error",
     "traceback": [
      "\u001b[31m---------------------------------------------------------------------------\u001b[39m",
      "\u001b[31mNameError\u001b[39m                                 Traceback (most recent call last)",
      "\u001b[36mCell\u001b[39m\u001b[36m \u001b[39m\u001b[32mIn[15]\u001b[39m\u001b[32m, line 14\u001b[39m\n\u001b[32m     11\u001b[39m window.geometry(\u001b[33m'\u001b[39m\u001b[33m210x210\u001b[39m\u001b[33m'\u001b[39m)\n\u001b[32m     13\u001b[39m \u001b[38;5;28;01mfor\u001b[39;00m i \u001b[38;5;129;01min\u001b[39;00m \u001b[38;5;28mrange\u001b[39m(\u001b[32m0\u001b[39m, \u001b[32m9\u001b[39m) :\n\u001b[32m---> \u001b[39m\u001b[32m14\u001b[39m     photolist[i] = PhotoImage(file = \u001b[33m'\u001b[39m\u001b[33mgif/\u001b[39m\u001b[33m'\u001b[39m + \u001b[43mfnameList\u001b[49m[i])\n\u001b[32m     15\u001b[39m     btrlist[i] = Button(window, image = Photolist[i])\n\u001b[32m     17\u001b[39m \u001b[38;5;28;01mfor\u001b[39;00m i \u001b[38;5;129;01min\u001b[39;00m \u001b[38;5;28mrange\u001b[39m(\u001b[32m0\u001b[39m, \u001b[32m3\u001b[39m) :\n",
      "\u001b[31mNameError\u001b[39m: name 'fnameList' is not defined"
     ]
    }
   ],
   "source": [
    "from tkinter import*\n",
    "\n",
    "btnlist = [None]*9\n",
    "fnamelist = []\n",
    "photolist = [None]*9\n",
    "i, k = 0, 0\n",
    "xPos, yPos = 0, 0\n",
    "num = 0\n",
    "\n",
    "window = Tk()\n",
    "window.geometry('210x210')\n",
    "\n",
    "for i in range(0, 9) :\n",
    "    photolist[i] = PhotoImage(file = 'gif/' + fnameList[i])\n",
    "    btrlist[i] = Button(window, image = Photolist[i])\n",
    "\n",
    "for i in range(0, 3) :\n",
    "    for k in range(0, 3) :\n",
    "        btnlist[num].place(x = xPos, y = yPos)\n",
    "        num += 1\n",
    "        xPos += 70\n",
    "    xPos = 0\n",
    "    yPos = 70\n",
    "\n",
    "window.mainloop()"
   ]
  },
  {
   "cell_type": "code",
   "execution_count": 18,
   "id": "eafe5727-6573-418e-8ce1-b85840896552",
   "metadata": {},
   "outputs": [
    {
     "ename": "TclError",
     "evalue": "couldn't open \"dog.gif\": no such file or directory",
     "output_type": "error",
     "traceback": [
      "\u001b[31m---------------------------------------------------------------------------\u001b[39m",
      "\u001b[31mTclError\u001b[39m                                  Traceback (most recent call last)",
      "\u001b[36mCell\u001b[39m\u001b[36m \u001b[39m\u001b[32mIn[18]\u001b[39m\u001b[32m, line 10\u001b[39m\n\u001b[32m      7\u001b[39m window = Tk()\n\u001b[32m      8\u001b[39m window.geometry(\u001b[33m'\u001b[39m\u001b[33m400x400\u001b[39m\u001b[33m'\u001b[39m)\n\u001b[32m---> \u001b[39m\u001b[32m10\u001b[39m photo = \u001b[43mPhotoImage\u001b[49m\u001b[43m(\u001b[49m\u001b[43mfile\u001b[49m\u001b[43m \u001b[49m\u001b[43m=\u001b[49m\u001b[43m \u001b[49m\u001b[33;43m'\u001b[39;49m\u001b[33;43mdog.gif\u001b[39;49m\u001b[33;43m'\u001b[39;49m\u001b[43m)\u001b[49m\n\u001b[32m     11\u001b[39m label1 = Label(window, image = photo)\n\u001b[32m     13\u001b[39m label1.bind(\u001b[33m'\u001b[39m\u001b[33m<Button>\u001b[39m\u001b[33m'\u001b[39m,clickImage)\n",
      "\u001b[36mFile \u001b[39m\u001b[32m~\\AppData\\Local\\Programs\\Python\\Python313\\Lib\\tkinter\\__init__.py:4287\u001b[39m, in \u001b[36mPhotoImage.__init__\u001b[39m\u001b[34m(self, name, cnf, master, **kw)\u001b[39m\n\u001b[32m   4282\u001b[39m \u001b[38;5;28;01mdef\u001b[39;00m\u001b[38;5;250m \u001b[39m\u001b[34m__init__\u001b[39m(\u001b[38;5;28mself\u001b[39m, name=\u001b[38;5;28;01mNone\u001b[39;00m, cnf={}, master=\u001b[38;5;28;01mNone\u001b[39;00m, **kw):\n\u001b[32m   4283\u001b[39m \u001b[38;5;250m    \u001b[39m\u001b[33;03m\"\"\"Create an image with NAME.\u001b[39;00m\n\u001b[32m   4284\u001b[39m \n\u001b[32m   4285\u001b[39m \u001b[33;03m    Valid resource names: data, format, file, gamma, height, palette,\u001b[39;00m\n\u001b[32m   4286\u001b[39m \u001b[33;03m    width.\"\"\"\u001b[39;00m\n\u001b[32m-> \u001b[39m\u001b[32m4287\u001b[39m     \u001b[43mImage\u001b[49m\u001b[43m.\u001b[49m\u001b[34;43m__init__\u001b[39;49m\u001b[43m(\u001b[49m\u001b[38;5;28;43mself\u001b[39;49m\u001b[43m,\u001b[49m\u001b[43m \u001b[49m\u001b[33;43m'\u001b[39;49m\u001b[33;43mphoto\u001b[39;49m\u001b[33;43m'\u001b[39;49m\u001b[43m,\u001b[49m\u001b[43m \u001b[49m\u001b[43mname\u001b[49m\u001b[43m,\u001b[49m\u001b[43m \u001b[49m\u001b[43mcnf\u001b[49m\u001b[43m,\u001b[49m\u001b[43m \u001b[49m\u001b[43mmaster\u001b[49m\u001b[43m,\u001b[49m\u001b[43m \u001b[49m\u001b[43m*\u001b[49m\u001b[43m*\u001b[49m\u001b[43mkw\u001b[49m\u001b[43m)\u001b[49m\n",
      "\u001b[36mFile \u001b[39m\u001b[32m~\\AppData\\Local\\Programs\\Python\\Python313\\Lib\\tkinter\\__init__.py:4234\u001b[39m, in \u001b[36mImage.__init__\u001b[39m\u001b[34m(self, imgtype, name, cnf, master, **kw)\u001b[39m\n\u001b[32m   4232\u001b[39m \u001b[38;5;28;01mfor\u001b[39;00m k, v \u001b[38;5;129;01min\u001b[39;00m cnf.items():\n\u001b[32m   4233\u001b[39m     options = options + (\u001b[33m'\u001b[39m\u001b[33m-\u001b[39m\u001b[33m'\u001b[39m+k, v)\n\u001b[32m-> \u001b[39m\u001b[32m4234\u001b[39m \u001b[38;5;28;43mself\u001b[39;49m\u001b[43m.\u001b[49m\u001b[43mtk\u001b[49m\u001b[43m.\u001b[49m\u001b[43mcall\u001b[49m\u001b[43m(\u001b[49m\u001b[43m(\u001b[49m\u001b[33;43m'\u001b[39;49m\u001b[33;43mimage\u001b[39;49m\u001b[33;43m'\u001b[39;49m\u001b[43m,\u001b[49m\u001b[43m \u001b[49m\u001b[33;43m'\u001b[39;49m\u001b[33;43mcreate\u001b[39;49m\u001b[33;43m'\u001b[39;49m\u001b[43m,\u001b[49m\u001b[43m \u001b[49m\u001b[43mimgtype\u001b[49m\u001b[43m,\u001b[49m\u001b[43m \u001b[49m\u001b[43mname\u001b[49m\u001b[43m,\u001b[49m\u001b[43m)\u001b[49m\u001b[43m \u001b[49m\u001b[43m+\u001b[49m\u001b[43m \u001b[49m\u001b[43moptions\u001b[49m\u001b[43m)\u001b[49m\n\u001b[32m   4235\u001b[39m \u001b[38;5;28mself\u001b[39m.name = name\n",
      "\u001b[31mTclError\u001b[39m: couldn't open \"dog.gif\": no such file or directory"
     ]
    }
   ],
   "source": [
    "from tkinter import*\n",
    "from tkinter import messagebox\n",
    "\n",
    "def clickImage(event) :\n",
    "    messagebox.showinfo('마우스', '개에서 마우스가 클릭됨')\n",
    "\n",
    "window = Tk()\n",
    "window.geometry('400x400')\n",
    "\n",
    "photo = PhotoImage(file = 'dog.gif')\n",
    "label1 = Label(window, image = photo)\n",
    "\n",
    "label1.bind('<Button>',clickImage)\n",
    "\n",
    "label1.pack(expand = 1, anchor = CENTER)\n",
    "window.mainloop()"
   ]
  },
  {
   "cell_type": "code",
   "execution_count": 2,
   "id": "080393af-b339-4bc5-8391-db19a18ea6a2",
   "metadata": {},
   "outputs": [],
   "source": [
    "from tkinter import*\n",
    "\n",
    "window = Tk()\n",
    "\n",
    "\n",
    "mainMenu = Menu(window)\n",
    "window.config(menu = mainMenu)\n",
    "\n",
    "fileMenu = Menu(mainMenu)\n",
    "mainMenu.add_cascade(label = \"파일\", menu = fileMenu)\n",
    "fileMenu.add_command(label = \"열기\")\n",
    "fileMenu.add_separator()\n",
    "fileMenu.add_command(label = \"종료\")\n",
    "\n",
    "window.mainloop()"
   ]
  },
  {
   "cell_type": "code",
   "execution_count": 10,
   "id": "8acb2b30-0e8a-4524-9b28-1dc395f61f70",
   "metadata": {},
   "outputs": [],
   "source": [
    "from tkinter import*\n",
    "from tkinter import messagebox\n",
    "\n",
    "def func_open():\n",
    "    messagebox.showinfo(\"메뉴선택\", \"열기 메뉴를 선택함\")\n",
    "\n",
    "def func_exit():\n",
    "    window.quit()\n",
    "    window.destroy()\n",
    "\n",
    "window = Tk()\n",
    "\n",
    "\n",
    "mainMenu = Menu(window)\n",
    "window.config(menu = mainMenu)\n",
    "\n",
    "fileMenu = Menu(mainMenu)\n",
    "mainMenu.add_cascade(label = \"파일\", menu = fileMenu)\n",
    "fileMenu.add_command(label = \"열기\", command = func_open)\n",
    "fileMenu.add_separator()\n",
    "fileMenu.add_command(label = \"종료\", command = func_exit)\n",
    "\n",
    "editMenu = Menu(mainMenu)\n",
    "mainMenu.add_cascade(label = \"Edit\", menu = editMenu)\n",
    "editMenu.add_command(label = \"copy\")\n",
    "editMenu.add_separator()\n",
    "editMenu.add_command(label = \"paste\")\n",
    "\n",
    "window.mainloop()"
   ]
  },
  {
   "cell_type": "code",
   "execution_count": 8,
   "id": "6936b4f5-f550-427d-b7d7-a10133870205",
   "metadata": {},
   "outputs": [],
   "source": [
    "from tkinter import*\n",
    "from tkinter.filedialog import*\n",
    "\n",
    "window = Tk()\n",
    "window.geometry(\"400x100\")\n",
    "\n",
    "label1 = Label(window, text = \"선택된 파일 이름\")\n",
    "label1.pack()\n",
    "\n",
    "filename = askopenfilename(parent = window, filetypes = ((\"GIF파일\", \".gif\"), (\"모든 파일\", \"*.*\")))\n",
    "\n",
    "label1.configure(text = str(filename))\n",
    "\n",
    "window.mainloop()"
   ]
  },
  {
   "cell_type": "code",
   "execution_count": 9,
   "id": "7b8dee63-916e-4a5f-938c-21a1e695cd64",
   "metadata": {},
   "outputs": [],
   "source": [
    "from tkinter import*\n",
    "from tkinter.filedialog import*\n",
    "\n",
    "def func_open():\n",
    "    filename = askopenfilename(parent = window, filetypes = ((\"GIF파일\", \"*.gif\"), (\"모든 파일\", \"*.*\")))\n",
    "    photo = PhotoImage(file = filename)\n",
    "    pLabel.configure(image = photo)\n",
    "    pLabel.image = photo\n",
    "\n",
    "def func_exit() :\n",
    "    window.quit()\n",
    "    window.destroy()\n",
    "\n",
    "window = Tk()\n",
    "window.geometry(\"400x400\")\n",
    "window.title(\"명화감상하기\")\n",
    "\n",
    "photo = PhotoImage()\n",
    "pLabel = Label(window, image = photo)\n",
    "pLabel.pack(expand = 1, anchor = CENTER)\n",
    "\n",
    "mainMenu = Menu(window)\n",
    "window.config(menu = mainMenu)\n",
    "fileMenu = Menu(mainMenu)\n",
    "mainMenu.add_cascade(label = \"파일\", menu = fileMenu)\n",
    "fileMenu.add_command(label = \"파일 열기\", command = func_open)\n",
    "fileMenu.add_separator()\n",
    "fileMenu.add_command(label = \"프로그램 종료\", command = func_exit)\n",
    "\n",
    "window.mainloop()"
   ]
  },
  {
   "cell_type": "code",
   "execution_count": 13,
   "id": "ac55187b-a70a-4e32-916f-157b75fa342a",
   "metadata": {},
   "outputs": [
    {
     "data": {
      "text/plain": [
       "[1, 2, 5, 10]"
      ]
     },
     "execution_count": 13,
     "metadata": {},
     "output_type": "execute_result"
    }
   ],
   "source": [
    "def diviser(a):\n",
    "    res = [1]\n",
    "    for m in range(2, a + 1):\n",
    "        if a % m == 0:\n",
    "            res.append(m)\n",
    "\n",
    "    return res\n",
    "\n",
    "diviser(10)"
   ]
  },
  {
   "cell_type": "code",
   "execution_count": 9,
   "id": "f0f2fdd1-6198-41ea-9e34-196e13f5de53",
   "metadata": {},
   "outputs": [
    {
     "data": {
      "text/plain": [
       "[10, 10, 20, 30, 40, 50, 60, 70, 80, 90]"
      ]
     },
     "execution_count": 9,
     "metadata": {},
     "output_type": "execute_result"
    }
   ],
   "source": [
    "def multiple100(a):\n",
    "    res = [a]\n",
    "    num = 1\n",
    "    while a * num < 100:\n",
    "        res.append(a * num)\n",
    "        num += 1\n",
    "\n",
    "    return res\n",
    "\n",
    "multiple100(10)"
   ]
  },
  {
   "cell_type": "code",
   "execution_count": null,
   "id": "34816318-9c3c-4138-a609-2e1b8ab43caa",
   "metadata": {},
   "outputs": [],
   "source": []
  }
 ],
 "metadata": {
  "kernelspec": {
   "display_name": "Python 3 (ipykernel)",
   "language": "python",
   "name": "python3"
  },
  "language_info": {
   "codemirror_mode": {
    "name": "ipython",
    "version": 3
   },
   "file_extension": ".py",
   "mimetype": "text/x-python",
   "name": "python",
   "nbconvert_exporter": "python",
   "pygments_lexer": "ipython3",
   "version": "3.13.2"
  }
 },
 "nbformat": 4,
 "nbformat_minor": 5
}
