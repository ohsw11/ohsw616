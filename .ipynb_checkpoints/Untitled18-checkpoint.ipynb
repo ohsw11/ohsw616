{
 "cells": [
  {
   "cell_type": "code",
   "execution_count": 6,
   "id": "7fc35cfb-e75c-49fe-87a8-f77c3d4e006c",
   "metadata": {},
   "outputs": [
    {
     "name": "stdout",
     "output_type": "stream",
     "text": [
      "4\n"
     ]
    }
   ],
   "source": [
    "def mx(m, n):\n",
    "    if m > n:\n",
    "        return m\n",
    "    else:\n",
    "        return n\n",
    "        \n",
    "res = mx(3,4)\n",
    "print(res)"
   ]
  },
  {
   "cell_type": "code",
   "execution_count": 7,
   "id": "c02451fd-cadc-4a7a-816c-99319cff1312",
   "metadata": {},
   "outputs": [
    {
     "name": "stdout",
     "output_type": "stream",
     "text": [
      "12\n"
     ]
    }
   ],
   "source": [
    "def mul(m, n = 1):\n",
    "    return m * n\n",
    "\n",
    "res = mul(3,4)\n",
    "print(res)"
   ]
  },
  {
   "cell_type": "code",
   "execution_count": 13,
   "id": "1daa7107-a024-4a1b-af8f-882b710f2915",
   "metadata": {},
   "outputs": [
    {
     "name": "stdout",
     "output_type": "stream",
     "text": [
      "5040\n"
     ]
    }
   ],
   "source": [
    "def mul(*m): #단어 앞에 *를 붙이면 리스트 변수로 정의\n",
    "    result = 1\n",
    "    for tmp in m:\n",
    "        result *= tmp\n",
    "\n",
    "    return result\n",
    "\n",
    "res = mul(1,2,3,4,5,6,7)\n",
    "print(res)"
   ]
  },
  {
   "cell_type": "code",
   "execution_count": 21,
   "id": "46cc257b-e9ef-4d79-ae03-31197ade2c3f",
   "metadata": {},
   "outputs": [
    {
     "data": {
      "text/plain": [
       "720"
      ]
     },
     "execution_count": 21,
     "metadata": {},
     "output_type": "execute_result"
    }
   ],
   "source": [
    "def fact(m):\n",
    "    if m == 1:\n",
    "        return 1\n",
    "    return m * fact(m - 1)\n",
    "\n",
    "fact(6)"
   ]
  },
  {
   "cell_type": "code",
   "execution_count": 29,
   "id": "c8b266f0-4a48-49c7-8807-60f3b81832b1",
   "metadata": {},
   "outputs": [
    {
     "name": "stdout",
     "output_type": "stream",
     "text": [
      "8 4 8\n"
     ]
    }
   ],
   "source": [
    "def mx():\n",
    "    global m,n\n",
    "    m,n = 4,8\n",
    "    if m > n:\n",
    "        return m\n",
    "    else:\n",
    "        return n\n",
    "\n",
    "m,n = 4,3\n",
    "res = mx()\n",
    "print(res, m, n)"
   ]
  },
  {
   "cell_type": "code",
   "execution_count": null,
   "id": "b39186ed-d6d0-4a7e-a2b2-79d8f788b6cb",
   "metadata": {},
   "outputs": [],
   "source": []
  }
 ],
 "metadata": {
  "kernelspec": {
   "display_name": "Python 3 (ipykernel)",
   "language": "python",
   "name": "python3"
  },
  "language_info": {
   "codemirror_mode": {
    "name": "ipython",
    "version": 3
   },
   "file_extension": ".py",
   "mimetype": "text/x-python",
   "name": "python",
   "nbconvert_exporter": "python",
   "pygments_lexer": "ipython3",
   "version": "3.13.2"
  }
 },
 "nbformat": 4,
 "nbformat_minor": 5
}
