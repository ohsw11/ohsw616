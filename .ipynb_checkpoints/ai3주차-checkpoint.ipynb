{
 "cells": [
  {
   "cell_type": "code",
   "execution_count": 17,
   "id": "46bd05e8-4cb2-438c-b5fe-07bd7fa681a4",
   "metadata": {},
   "outputs": [
    {
     "ename": "TypeError",
     "evalue": "'float' object cannot be interpreted as an integer",
     "output_type": "error",
     "traceback": [
      "\u001b[31m---------------------------------------------------------------------------\u001b[39m",
      "\u001b[31mTypeError\u001b[39m                                 Traceback (most recent call last)",
      "\u001b[36mCell\u001b[39m\u001b[36m \u001b[39m\u001b[32mIn[17]\u001b[39m\u001b[32m, line 1\u001b[39m\n\u001b[32m----> \u001b[39m\u001b[32m1\u001b[39m \u001b[38;5;28;01mfor\u001b[39;00m i \u001b[38;5;129;01min\u001b[39;00m \u001b[38;5;28;43mrange\u001b[39;49m\u001b[43m(\u001b[49m\u001b[32;43m0\u001b[39;49m\u001b[43m,\u001b[49m\u001b[43m \u001b[49m\u001b[32;43m1\u001b[39;49m\u001b[43m,\u001b[49m\u001b[43m \u001b[49m\u001b[32;43m0.1\u001b[39;49m\u001b[43m)\u001b[49m:\n\u001b[32m      2\u001b[39m     \u001b[38;5;28mprint\u001b[39m(\u001b[33m\"\u001b[39m\u001b[33mwelcome to everyone\u001b[39m\u001b[33m\"\u001b[39m)\n",
      "\u001b[31mTypeError\u001b[39m: 'float' object cannot be interpreted as an integer"
     ]
    }
   ],
   "source": [
    "\n",
    "for i in range(0, 1, 0.1):\n",
    "    print(\"welcome to everyone\")"
   ]
  },
  {
   "cell_type": "code",
   "execution_count": 20,
   "id": "9675d16c-fdd8-42ba-a387-2d47c1b718c7",
   "metadata": {},
   "outputs": [
    {
     "name": "stdout",
     "output_type": "stream",
     "text": [
      "i = 1, s = 1\n",
      "i = 2, s = 3\n",
      "i = 3, s = 6\n",
      "i = 4, s = 10\n",
      "i = 5, s = 15\n",
      "i = 6, s = 21\n",
      "i = 7, s = 28\n",
      "i = 8, s = 36\n",
      "i = 9, s = 45\n",
      "i = 10, s = 55\n",
      "1에서 10까지의 합  : 55\n"
     ]
    }
   ],
   "source": [
    "s = 0\n",
    "for i in range(1, 11):\n",
    "    s = s + i\n",
    "    print('i = {}, s = {}'. format(i, s))\n",
    "\n",
    "print('1에서 10까지의 합  :', s)"
   ]
  },
  {
   "cell_type": "code",
   "execution_count": 22,
   "id": "584bf13f-2db3-4902-85d8-de594f848e20",
   "metadata": {},
   "outputs": [
    {
     "name": "stdin",
     "output_type": "stream",
     "text": [
      "수를 입력하세요 : 5\n"
     ]
    },
    {
     "name": "stdout",
     "output_type": "stream",
     "text": [
      "5! = 120\n"
     ]
    }
   ],
   "source": [
    "n = int(input('수를 입력하세요 :'))\n",
    "fact = 1\n",
    "for i in range(1, n + 1):\n",
    "    fact = fact * i\n",
    "\n",
    "print('{}! = {}'. format(n, fact))"
   ]
  },
  {
   "cell_type": "code",
   "execution_count": 37,
   "id": "27a8e13b-0342-4a4c-845d-bcfaad2025b8",
   "metadata": {},
   "outputs": [
    {
     "name": "stdout",
     "output_type": "stream",
     "text": [
      "1th pib. Number 1\n",
      "2th pib. Number 2\n",
      "3th pib. Number 3\n",
      "4th pib. Number 5\n",
      "5th pib. Number 8\n",
      "6th pib. Number 13\n",
      "7th pib. Number 21\n",
      "8th pib. Number 34\n",
      "9th pib. Number 55\n",
      "10th pib. Number 89\n",
      "11th pib. Number 144\n",
      "12th pib. Number 233\n",
      "13th pib. Number 377\n",
      "14th pib. Number 610\n",
      "15th pib. Number 987\n",
      "16th pib. Number 1597\n",
      "17th pib. Number 2584\n",
      "18th pib. Number 4181\n",
      "19th pib. Number 6765\n",
      "20th pib. Number 10946\n",
      "21th pib. Number 17711\n",
      "22th pib. Number 28657\n",
      "23th pib. Number 46368\n",
      "24th pib. Number 75025\n",
      "25th pib. Number 121393\n",
      "26th pib. Number 196418\n",
      "27th pib. Number 317811\n",
      "28th pib. Number 514229\n",
      "29th pib. Number 832040\n",
      "30th pib. Number 1346269\n",
      "31th pib. Number 2178309\n",
      "32th pib. Number 3524578\n",
      "33th pib. Number 5702887\n",
      "34th pib. Number 9227465\n",
      "35th pib. Number 14930352\n",
      "36th pib. Number 24157817\n",
      "37th pib. Number 39088169\n",
      "38th pib. Number 63245986\n",
      "39th pib. Number 102334155\n",
      "40th pib. Number 165580141\n",
      "41th pib. Number 267914296\n",
      "42th pib. Number 433494437\n",
      "43th pib. Number 701408733\n",
      "44th pib. Number 1134903170\n",
      "45th pib. Number 1836311903\n",
      "46th pib. Number 2971215073\n",
      "47th pib. Number 4807526976\n",
      "48th pib. Number 7778742049\n",
      "49th pib. Number 12586269025\n",
      "50th pib. Number 20365011074\n",
      "51th pib. Number 32951280099\n",
      "52th pib. Number 53316291173\n",
      "53th pib. Number 86267571272\n",
      "54th pib. Number 139583862445\n",
      "55th pib. Number 225851433717\n",
      "56th pib. Number 365435296162\n",
      "57th pib. Number 591286729879\n",
      "58th pib. Number 956722026041\n",
      "59th pib. Number 1548008755920\n",
      "60th pib. Number 2504730781961\n",
      "61th pib. Number 4052739537881\n",
      "62th pib. Number 6557470319842\n",
      "63th pib. Number 10610209857723\n",
      "64th pib. Number 17167680177565\n",
      "65th pib. Number 27777890035288\n",
      "66th pib. Number 44945570212853\n",
      "67th pib. Number 72723460248141\n",
      "68th pib. Number 117669030460994\n",
      "69th pib. Number 190392490709135\n",
      "70th pib. Number 308061521170129\n",
      "71th pib. Number 498454011879264\n",
      "72th pib. Number 806515533049393\n",
      "73th pib. Number 1304969544928657\n",
      "74th pib. Number 2111485077978050\n",
      "75th pib. Number 3416454622906707\n",
      "76th pib. Number 5527939700884757\n",
      "77th pib. Number 8944394323791464\n",
      "78th pib. Number 14472334024676221\n",
      "79th pib. Number 23416728348467685\n",
      "80th pib. Number 37889062373143906\n",
      "81th pib. Number 61305790721611591\n",
      "82th pib. Number 99194853094755497\n",
      "83th pib. Number 160500643816367088\n",
      "84th pib. Number 259695496911122585\n",
      "85th pib. Number 420196140727489673\n",
      "86th pib. Number 679891637638612258\n",
      "87th pib. Number 1100087778366101931\n",
      "88th pib. Number 1779979416004714189\n",
      "89th pib. Number 2880067194370816120\n",
      "90th pib. Number 4660046610375530309\n",
      "91th pib. Number 7540113804746346429\n",
      "92th pib. Number 12200160415121876738\n",
      "93th pib. Number 19740274219868223167\n",
      "94th pib. Number 31940434634990099905\n",
      "95th pib. Number 51680708854858323072\n",
      "96th pib. Number 83621143489848422977\n",
      "97th pib. Number 135301852344706746049\n",
      "98th pib. Number 218922995834555169026\n",
      "99th pib. Number 354224848179261915075\n",
      "100th pib. Number 573147844013817084101\n"
     ]
    }
   ],
   "source": [
    "a, b = 1, 1\n",
    "for i in range(101):\n",
    "    a, b = b, a + b\n",
    "    print('{}th pib. Number {}'.format(i + 2, a))\n",
    "\n",
    "#a, b = b, a + b를 2개의 문장으로 분리해서 코드 작동시키기"
   ]
  },
  {
   "cell_type": "code",
   "execution_count": 35,
   "id": "5e04e827-cc85-471f-b465-45047ca49161",
   "metadata": {},
   "outputs": [
    {
     "name": "stdout",
     "output_type": "stream",
     "text": [
      "2th pib. Number 2\n",
      "3th pib. Number 3\n",
      "4th pib. Number 5\n",
      "5th pib. Number 8\n",
      "6th pib. Number 13\n",
      "7th pib. Number 21\n",
      "8th pib. Number 34\n",
      "9th pib. Number 55\n",
      "10th pib. Number 89\n",
      "11th pib. Number 144\n",
      "12th pib. Number 233\n",
      "13th pib. Number 377\n",
      "14th pib. Number 610\n",
      "15th pib. Number 987\n",
      "16th pib. Number 1597\n",
      "17th pib. Number 2584\n",
      "18th pib. Number 4181\n",
      "19th pib. Number 6765\n",
      "20th pib. Number 10946\n",
      "21th pib. Number 17711\n",
      "22th pib. Number 28657\n",
      "23th pib. Number 46368\n",
      "24th pib. Number 75025\n",
      "25th pib. Number 121393\n",
      "26th pib. Number 196418\n",
      "27th pib. Number 317811\n",
      "28th pib. Number 514229\n",
      "29th pib. Number 832040\n",
      "30th pib. Number 1346269\n",
      "31th pib. Number 2178309\n",
      "32th pib. Number 3524578\n",
      "33th pib. Number 5702887\n",
      "34th pib. Number 9227465\n",
      "35th pib. Number 14930352\n",
      "36th pib. Number 24157817\n",
      "37th pib. Number 39088169\n",
      "38th pib. Number 63245986\n",
      "39th pib. Number 102334155\n",
      "40th pib. Number 165580141\n",
      "41th pib. Number 267914296\n",
      "42th pib. Number 433494437\n",
      "43th pib. Number 701408733\n",
      "44th pib. Number 1134903170\n",
      "45th pib. Number 1836311903\n",
      "46th pib. Number 2971215073\n",
      "47th pib. Number 4807526976\n",
      "48th pib. Number 7778742049\n",
      "49th pib. Number 12586269025\n",
      "50th pib. Number 20365011074\n",
      "51th pib. Number 32951280099\n",
      "52th pib. Number 53316291173\n",
      "53th pib. Number 86267571272\n",
      "54th pib. Number 139583862445\n",
      "55th pib. Number 225851433717\n",
      "56th pib. Number 365435296162\n",
      "57th pib. Number 591286729879\n",
      "58th pib. Number 956722026041\n",
      "59th pib. Number 1548008755920\n",
      "60th pib. Number 2504730781961\n",
      "61th pib. Number 4052739537881\n",
      "62th pib. Number 6557470319842\n",
      "63th pib. Number 10610209857723\n",
      "64th pib. Number 17167680177565\n",
      "65th pib. Number 27777890035288\n",
      "66th pib. Number 44945570212853\n",
      "67th pib. Number 72723460248141\n",
      "68th pib. Number 117669030460994\n",
      "69th pib. Number 190392490709135\n",
      "70th pib. Number 308061521170129\n",
      "71th pib. Number 498454011879264\n",
      "72th pib. Number 806515533049393\n",
      "73th pib. Number 1304969544928657\n",
      "74th pib. Number 2111485077978050\n",
      "75th pib. Number 3416454622906707\n",
      "76th pib. Number 5527939700884757\n",
      "77th pib. Number 8944394323791464\n",
      "78th pib. Number 14472334024676221\n",
      "79th pib. Number 23416728348467685\n",
      "80th pib. Number 37889062373143906\n",
      "81th pib. Number 61305790721611591\n",
      "82th pib. Number 99194853094755497\n",
      "83th pib. Number 160500643816367088\n",
      "84th pib. Number 259695496911122585\n",
      "85th pib. Number 420196140727489673\n",
      "86th pib. Number 679891637638612258\n",
      "87th pib. Number 1100087778366101931\n",
      "88th pib. Number 1779979416004714189\n",
      "89th pib. Number 2880067194370816120\n",
      "90th pib. Number 4660046610375530309\n",
      "91th pib. Number 7540113804746346429\n",
      "92th pib. Number 12200160415121876738\n",
      "93th pib. Number 19740274219868223167\n",
      "94th pib. Number 31940434634990099905\n",
      "95th pib. Number 51680708854858323072\n",
      "96th pib. Number 83621143489848422977\n",
      "97th pib. Number 135301852344706746049\n",
      "98th pib. Number 218922995834555169026\n",
      "99th pib. Number 354224848179261915075\n",
      "100th pib. Number 573147844013817084101\n"
     ]
    }
   ],
   "source": [
    "pib = []\n",
    "pib.append(1)\n",
    "pib.append(1)\n",
    "\n",
    "for i in range(2, 101):\n",
    "    pib.append(pib[i -1] + pib[i - 2])\n",
    "    print('{}th pib. Number {}'.format(i,pib[i]))\n"
   ]
  },
  {
   "cell_type": "code",
   "execution_count": 41,
   "id": "ff8c50b7-5c1b-4472-a1e6-0a9c63752794",
   "metadata": {},
   "outputs": [
    {
     "name": "stdout",
     "output_type": "stream",
     "text": [
      "11\n",
      "22\n",
      "33\n",
      "44\n",
      "55\n",
      "66\n"
     ]
    }
   ],
   "source": [
    "number = [11, 22, 33, 44, 55, 66]\n",
    "\n",
    "for n in number:\n",
    "    print(n)"
   ]
  },
  {
   "cell_type": "code",
   "execution_count": 42,
   "id": "00225d23-9a67-4825-bd5e-abd579c01399",
   "metadata": {},
   "outputs": [
    {
     "name": "stdout",
     "output_type": "stream",
     "text": [
      "h\n",
      "e\n",
      "l\n",
      "l\n",
      "o\n"
     ]
    }
   ],
   "source": [
    "st = 'hello'\n",
    "for ch in st:\n",
    "    print(ch)"
   ]
  },
  {
   "cell_type": "code",
   "execution_count": 48,
   "id": "4c59ea35-a657-4ec4-b0c2-1793fe09a47a",
   "metadata": {},
   "outputs": [
    {
     "name": "stdin",
     "output_type": "stream",
     "text": [
      "수를 입력하세요 : 100\n"
     ]
    },
    {
     "name": "stdout",
     "output_type": "stream",
     "text": [
      "100 is Prime: False\n"
     ]
    }
   ],
   "source": [
    "n = int(input('수를 입력하세요 :'))\n",
    "is_prime = True\n",
    "for num in range(2, n):\n",
    "    if n % num == 0:\n",
    "        is_prime = False\n",
    "        break\n",
    "\n",
    "print(n, 'is Prime:', is_prime)"
   ]
  },
  {
   "cell_type": "code",
   "execution_count": null,
   "id": "4f0c3d9c-51bf-42e6-91eb-628c4ae7baaf",
   "metadata": {},
   "outputs": [],
   "source": []
  }
 ],
 "metadata": {
  "kernelspec": {
   "display_name": "Python 3 (ipykernel)",
   "language": "python",
   "name": "python3"
  },
  "language_info": {
   "codemirror_mode": {
    "name": "ipython",
    "version": 3
   },
   "file_extension": ".py",
   "mimetype": "text/x-python",
   "name": "python",
   "nbconvert_exporter": "python",
   "pygments_lexer": "ipython3",
   "version": "3.13.2"
  }
 },
 "nbformat": 4,
 "nbformat_minor": 5
}
