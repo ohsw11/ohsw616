{
 "cells": [
  {
   "cell_type": "code",
   "execution_count": 3,
   "id": "ff0ab340-6019-4a26-a0e0-f71e5d0448d7",
   "metadata": {},
   "outputs": [
    {
     "data": {
      "text/plain": [
       "np.int64(3)"
      ]
     },
     "execution_count": 3,
     "metadata": {},
     "output_type": "execute_result"
    }
   ],
   "source": [
    "#3.2.4\n",
    "import numpy as np\n",
    "A = np.array([[1, 5, 6], [2, 5, 6], [3, 11, 14], [1, 4, 5]])\n",
    "np.linalg.matrix_rank(A)"
   ]
  },
  {
   "cell_type": "code",
   "execution_count": 2,
   "id": "1daeb884-6d41-4b40-8572-ac9edb13be6f",
   "metadata": {},
   "outputs": [
    {
     "data": {
      "text/plain": [
       "np.int64(3)"
      ]
     },
     "execution_count": 2,
     "metadata": {},
     "output_type": "execute_result"
    }
   ],
   "source": [
    "B = np.array([[1, 5, 6], [2, 6, 8], [3, 11, 14], [1, 4, 8]])\n",
    "np.linalg.matrix_rank(B)"
   ]
  },
  {
   "cell_type": "code",
   "execution_count": 5,
   "id": "bf730937-9455-4830-8a68-5143f62118d5",
   "metadata": {},
   "outputs": [
    {
     "data": {
      "text/plain": [
       "1"
      ]
     },
     "execution_count": 5,
     "metadata": {},
     "output_type": "execute_result"
    }
   ],
   "source": [
    "#3.2.5\n",
    "x1 = np.array([1, 1])\n",
    "np.linalg.matrix_rank(x1.T @ x1)"
   ]
  },
  {
   "cell_type": "code",
   "execution_count": 6,
   "id": "634dcf05-da71-41c7-8916-de6d0eceddfc",
   "metadata": {},
   "outputs": [
    {
     "data": {
      "text/plain": [
       "np.int64(2)"
      ]
     },
     "execution_count": 6,
     "metadata": {},
     "output_type": "execute_result"
    }
   ],
   "source": [
    "x1 = np.array([1, 1])\n",
    "x2 = np.array([1, -1])\n",
    "X = np.array([x1, x2])\n",
    "np.linalg.matrix_rank(X @ X.T)"
   ]
  },
  {
   "cell_type": "code",
   "execution_count": 9,
   "id": "b2f742a6-f823-47de-8c6a-b39335c03746",
   "metadata": {},
   "outputs": [
    {
     "name": "stdout",
     "output_type": "stream",
     "text": [
      "[ True  True]\n",
      "[ True  True]\n"
     ]
    }
   ],
   "source": [
    "#3.2.6\n",
    "x1 = np.array([1, 2])\n",
    "x2 = np.array([2, 1])\n",
    "y1 = np.array([3, 3])\n",
    "y2 = np.array([-1, -1])\n",
    "print((x1 + x2) == y1)\n",
    "print(-(1/3)*x1 + -(1/3)*x2 == y2)"
   ]
  },
  {
   "cell_type": "code",
   "execution_count": null,
   "id": "e9965052-de3a-4829-afff-af5cebabe192",
   "metadata": {},
   "outputs": [],
   "source": [
    "x1 = np.array([1,0])\n",
    "x2 = np.array([0,1])"
   ]
  },
  {
   "cell_type": "code",
   "execution_count": null,
   "id": "25be4047-7e5b-4fa4-ab7e-62f8a3fc6149",
   "metadata": {},
   "outputs": [],
   "source": [
    "x1 = np.array([1, 0 ,0])\n",
    "x2 = np.array([0, 1, 0])"
   ]
  },
  {
   "cell_type": "code",
   "execution_count": null,
   "id": "7b058000-d2ee-47ff-b2f7-2880b74e3771",
   "metadata": {},
   "outputs": [],
   "source": [
    "x1 = np.array([1, 0, 0])\n",
    "x2 = np.array([0, 1, 0])\n",
    "x3 = np.array([0, 0, 1])"
   ]
  },
  {
   "cell_type": "code",
   "execution_count": 11,
   "id": "02df8cad-fb21-4d1d-8bd5-4b347c429bb0",
   "metadata": {},
   "outputs": [
    {
     "name": "stdout",
     "output_type": "stream",
     "text": [
      "[]\n"
     ]
    }
   ],
   "source": [
    "#3.2.7\n",
    "import numpy as np\n",
    "\n",
    "x1 = np.array([1, 0, 0])\n",
    "x2 = np.array([0, 1, 0])\n",
    "x3 = np.array([0, 0, 1])\n",
    "\n",
    "A = np.column_stack([x1, x2, x3])  # shape: (3, 3)\n",
    "\n",
    "from scipy.linalg import null_space\n",
    "\n",
    "null = null_space(A.T)\n",
    "\n",
    "print(null)\n"
   ]
  },
  {
   "cell_type": "code",
   "execution_count": null,
   "id": "108e1ba1-e7d1-49c7-baff-b3f2065cf6b1",
   "metadata": {},
   "outputs": [],
   "source": []
  }
 ],
 "metadata": {
  "kernelspec": {
   "display_name": "Python 3 (ipykernel)",
   "language": "python",
   "name": "python3"
  },
  "language_info": {
   "codemirror_mode": {
    "name": "ipython",
    "version": 3
   },
   "file_extension": ".py",
   "mimetype": "text/x-python",
   "name": "python",
   "nbconvert_exporter": "python",
   "pygments_lexer": "ipython3",
   "version": "3.13.2"
  }
 },
 "nbformat": 4,
 "nbformat_minor": 5
}
