{
 "cells": [
  {
   "cell_type": "code",
   "execution_count": 3,
   "id": "b48260aa-c9ad-424d-98cb-849e8d4891c2",
   "metadata": {},
   "outputs": [
    {
     "data": {
      "text/plain": [
       "[11, 5, 2]"
      ]
     },
     "execution_count": 3,
     "metadata": {},
     "output_type": "execute_result"
    }
   ],
   "source": [
    "numbers = [11, 2, 5]\n",
    "numbers.sort(reverse = True)\n",
    "numbers"
   ]
  },
  {
   "cell_type": "code",
   "execution_count": 9,
   "id": "650e9cc4-b3f6-4398-aaf8-3ef3a25ab03e",
   "metadata": {},
   "outputs": [
    {
     "data": {
      "text/plain": [
       "[1, 2, 3, 'a', 'b', 'c']"
      ]
     },
     "execution_count": 9,
     "metadata": {},
     "output_type": "execute_result"
    }
   ],
   "source": [
    "list1 = ['a', 'b', 'c']\n",
    "list2 = [1, 2, 3]\n",
    "list2.extend(list1)\n",
    "list2"
   ]
  },
  {
   "cell_type": "code",
   "execution_count": 15,
   "id": "37e4434b-ed5d-452f-96d8-4fba434339a8",
   "metadata": {},
   "outputs": [
    {
     "data": {
      "text/plain": [
       "[50, 40, 30, 20, 10]"
      ]
     },
     "execution_count": 15,
     "metadata": {},
     "output_type": "execute_result"
    }
   ],
   "source": [
    "a_list = [10, 20, 30, 40, 50, 60, 70, 80]\n",
    "a_list[4::-1]"
   ]
  },
  {
   "cell_type": "code",
   "execution_count": 16,
   "id": "af14243a-45cf-461e-8dc1-926efec814ab",
   "metadata": {},
   "outputs": [
    {
     "name": "stdout",
     "output_type": "stream",
     "text": [
      "7\n"
     ]
    }
   ],
   "source": [
    "def plus(a, b):\n",
    "    c = a + b\n",
    "    return c\n",
    "\n",
    "res = plus(4,3)\n",
    "print(res)"
   ]
  },
  {
   "cell_type": "code",
   "execution_count": 17,
   "id": "e77a5eb0-b33b-4848-882b-d7b3d745c9fa",
   "metadata": {},
   "outputs": [
    {
     "name": "stdout",
     "output_type": "stream",
     "text": [
      "print_sum() 내부 : 100 과 200 의 합은 300 입니다.\n",
      "print_sum() 외부 : 10 과 20 의 합은 30 입니다.\n"
     ]
    }
   ],
   "source": [
    "def print_sum():\n",
    "    a = 100\n",
    "    b = 200\n",
    "    result = a + b\n",
    "    print('print_sum() 내부 :', a,'과', b, '의 합은', result, '입니다.')\n",
    "a = 10\n",
    "b = 20\n",
    "print_sum()\n",
    "result = a + b\n",
    "print('print_sum() 외부 :', a, '과', b, '의 합은', result, '입니다.')"
   ]
  },
  {
   "cell_type": "code",
   "execution_count": 13,
   "id": "00b6935b-dd74-4222-b40b-e829d8a283bd",
   "metadata": {},
   "outputs": [
    {
     "name": "stdout",
     "output_type": "stream",
     "text": [
      "7 is a prime\n"
     ]
    }
   ],
   "source": [
    "def check_prime(a):\n",
    "    prime = True\n",
    "    for i in range(2, a):\n",
    "        if (a % i ==0):\n",
    "            prime = False\n",
    "            break\n",
    "    return prime\n",
    "\n",
    "a = 7\n",
    "prime = check_prime(a)\n",
    "if(prime):\n",
    "    print(a, 'is a prime')\n",
    "else:\n",
    "    print(a, 'is not a prime')\n"
   ]
  },
  {
   "cell_type": "code",
   "execution_count": 12,
   "id": "88077481-7e65-4a5f-a6f7-1377556c1758",
   "metadata": {},
   "outputs": [
    {
     "name": "stdout",
     "output_type": "stream",
     "text": [
      "12\n"
     ]
    }
   ],
   "source": [
    "def mult(a,b):\n",
    "    return a*b\n",
    "\n",
    "print(mult(3,4))"
   ]
  },
  {
   "cell_type": "code",
   "execution_count": null,
   "id": "641c08f1-89d1-4fe5-be5e-5b2e708696bb",
   "metadata": {},
   "outputs": [],
   "source": []
  }
 ],
 "metadata": {
  "kernelspec": {
   "display_name": "Python 3 (ipykernel)",
   "language": "python",
   "name": "python3"
  },
  "language_info": {
   "codemirror_mode": {
    "name": "ipython",
    "version": 3
   },
   "file_extension": ".py",
   "mimetype": "text/x-python",
   "name": "python",
   "nbconvert_exporter": "python",
   "pygments_lexer": "ipython3",
   "version": "3.13.2"
  }
 },
 "nbformat": 4,
 "nbformat_minor": 5
}
