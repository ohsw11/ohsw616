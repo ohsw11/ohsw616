{
 "cells": [
  {
   "cell_type": "code",
   "execution_count": 1,
   "id": "2f23b7a3-85ac-4a3a-8e62-b2303348a8c1",
   "metadata": {},
   "outputs": [
    {
     "ename": "NameError",
     "evalue": "name 'i' is not defined",
     "output_type": "error",
     "traceback": [
      "\u001b[31m---------------------------------------------------------------------------\u001b[39m",
      "\u001b[31mNameError\u001b[39m                                 Traceback (most recent call last)",
      "\u001b[36mCell\u001b[39m\u001b[36m \u001b[39m\u001b[32mIn[1]\u001b[39m\u001b[32m, line 1\u001b[39m\n\u001b[32m----> \u001b[39m\u001b[32m1\u001b[39m \u001b[38;5;28;01mwhile\u001b[39;00m \u001b[43mi\u001b[49m < \u001b[32m11\u001b[39m:\n\u001b[32m      2\u001b[39m     \u001b[38;5;28mprint\u001b[39m(i)\n\u001b[32m      3\u001b[39m     i += \u001b[32m2\u001b[39m\n",
      "\u001b[31mNameError\u001b[39m: name 'i' is not defined"
     ]
    }
   ],
   "source": [
    "while i < 11:\n",
    "    print(i)\n",
    "    i += 2"
   ]
  },
  {
   "cell_type": "code",
   "execution_count": 3,
   "id": "ee9416d2-de6c-4843-9310-ef7b207b223c",
   "metadata": {},
   "outputs": [
    {
     "name": "stdin",
     "output_type": "stream",
     "text": [
      "가위, 바위, 보 중에서 선택하세요> 묵\n",
      "가위, 바위, 보 중에서 선택하세요> 찌\n",
      "가위, 바위, 보 중에서 선택하세요> ㅃㅏ\n",
      "가위, 바위, 보 중에서 선택하세요> 가위\n"
     ]
    },
    {
     "name": "stdout",
     "output_type": "stream",
     "text": [
      "선택한 값은: 가위\n"
     ]
    }
   ],
   "source": [
    "selected = None\n",
    "while selected not in ['가위', '바위', '보']:\n",
    "    selected = input('가위, 바위, 보 중에서 선택하세요>')\n",
    "print('선택한 값은:', selected)"
   ]
  },
  {
   "cell_type": "code",
   "execution_count": 4,
   "id": "0bfec0a6-a6c6-45ba-bcda-c1d3f8b9c92f",
   "metadata": {},
   "outputs": [
    {
     "name": "stdout",
     "output_type": "stream",
     "text": [
      "4\n",
      "7\n",
      "11\n",
      "29\n"
     ]
    }
   ],
   "source": [
    "number = [4, 7, 9, 11, 29]\n",
    "for n in number:\n",
    "    if n % 3 == 0:\n",
    "        continue\n",
    "    print(n)"
   ]
  },
  {
   "cell_type": "code",
   "execution_count": null,
   "id": "24676899-4f60-486d-8b6f-7acace51e613",
   "metadata": {},
   "outputs": [],
   "source": []
  }
 ],
 "metadata": {
  "kernelspec": {
   "display_name": "Python 3 (ipykernel)",
   "language": "python",
   "name": "python3"
  },
  "language_info": {
   "codemirror_mode": {
    "name": "ipython",
    "version": 3
   },
   "file_extension": ".py",
   "mimetype": "text/x-python",
   "name": "python",
   "nbconvert_exporter": "python",
   "pygments_lexer": "ipython3",
   "version": "3.13.2"
  }
 },
 "nbformat": 4,
 "nbformat_minor": 5
}
