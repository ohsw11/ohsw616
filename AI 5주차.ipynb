{
 "cells": [
  {
   "cell_type": "code",
   "execution_count": 6,
   "id": "63ba9189-931d-46d3-be37-3f90b76cfcfd",
   "metadata": {},
   "outputs": [
    {
     "name": "stdout",
     "output_type": "stream",
     "text": [
      "3 6 9 12\n"
     ]
    }
   ],
   "source": [
    "def multiplies(n, m):\n",
    "    list_n = []\n",
    "    for i in range(1, m+1):\n",
    "        result = n * i\n",
    "        list_n.append(result)\n",
    "    return list_n\n",
    "\n",
    "r1, r2, r3, r4 = multiplies(3, 4)\n",
    "print(r1, r2, r3, r4)"
   ]
  },
  {
   "cell_type": "code",
   "execution_count": 27,
   "id": "2fc18838-ab65-4a93-b10a-723ac41f5a35",
   "metadata": {},
   "outputs": [
    {
     "name": "stdout",
     "output_type": "stream",
     "text": [
      "120\n"
     ]
    }
   ],
   "source": [
    "def fact(m):\n",
    "    a = 1\n",
    "    for i in range(1, m + 1):\n",
    "        tmp = a\n",
    "        b = a * i\n",
    "        a = b\n",
    "    return a\n",
    "    \n",
    "print(fact(5))\n",
    "        "
   ]
  },
  {
   "cell_type": "code",
   "execution_count": 30,
   "id": "424138f8-e535-4a1d-be48-68fba5ceb207",
   "metadata": {},
   "outputs": [
    {
     "name": "stdout",
     "output_type": "stream",
     "text": [
      "14\n"
     ]
    }
   ],
   "source": [
    "def isum(*number):\n",
    "    return sum(number)\n",
    "print(isum(2, 3, 4, 5))"
   ]
  },
  {
   "cell_type": "code",
   "execution_count": 32,
   "id": "933f089c-c0c6-48b8-9bf0-4adac63387d7",
   "metadata": {},
   "outputs": [
    {
     "name": "stdout",
     "output_type": "stream",
     "text": [
      "9\n"
     ]
    }
   ],
   "source": [
    "def isum(*numbers):\n",
    "    result = 0\n",
    "    for n in numbers:\n",
    "        result += n\n",
    "    return result\n",
    "print(isum(2, 3, 4))"
   ]
  },
  {
   "cell_type": "code",
   "execution_count": 33,
   "id": "1eeb76d2-afa2-4896-8991-67b45777805d",
   "metadata": {},
   "outputs": [
    {
     "name": "stdout",
     "output_type": "stream",
     "text": [
      "15\n"
     ]
    }
   ],
   "source": [
    "def isum(n):\n",
    "    if n <= 1:\n",
    "        return 1\n",
    "    else:\n",
    "        return n + isum(n - 1)\n",
    "n = 5\n",
    "print(isum(5))"
   ]
  },
  {
   "cell_type": "code",
   "execution_count": 42,
   "id": "9e9368af-5e9b-4801-b1b0-89d0b2a3afea",
   "metadata": {},
   "outputs": [
    {
     "name": "stdin",
     "output_type": "stream",
     "text": [
      "insert numbers 1,2,3,4\n"
     ]
    },
    {
     "name": "stdout",
     "output_type": "stream",
     "text": [
      "[1, 2, 3, 4]\n"
     ]
    }
   ],
   "source": [
    "#str = 'name, age, gender'\n",
    "numbers = map(int, input('insert numbers').split(','))\n",
    "print(list(numbers))"
   ]
  },
  {
   "cell_type": "code",
   "execution_count": 45,
   "id": "06cbc682-88bf-44b2-a91a-e6f81efcca65",
   "metadata": {},
   "outputs": [
    {
     "name": "stdin",
     "output_type": "stream",
     "text": [
      "insert numbers : 1,2,3,4\n"
     ]
    },
    {
     "name": "stdout",
     "output_type": "stream",
     "text": [
      "10\n"
     ]
    }
   ],
   "source": [
    "def isum(numbers):\n",
    "    return sum(numbers)\n",
    "\n",
    "numbers = list(map(int, input('insert numbers :').split(',')))\n",
    "print(isum(numbers))"
   ]
  },
  {
   "cell_type": "code",
   "execution_count": null,
   "id": "2411f70b-f908-46e0-8059-ae5ac248669f",
   "metadata": {},
   "outputs": [],
   "source": []
  }
 ],
 "metadata": {
  "kernelspec": {
   "display_name": "Python 3 (ipykernel)",
   "language": "python",
   "name": "python3"
  },
  "language_info": {
   "codemirror_mode": {
    "name": "ipython",
    "version": 3
   },
   "file_extension": ".py",
   "mimetype": "text/x-python",
   "name": "python",
   "nbconvert_exporter": "python",
   "pygments_lexer": "ipython3",
   "version": "3.13.2"
  }
 },
 "nbformat": 4,
 "nbformat_minor": 5
}
