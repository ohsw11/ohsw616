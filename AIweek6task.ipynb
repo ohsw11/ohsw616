{
 "cells": [
  {
   "cell_type": "code",
   "execution_count": 3,
   "id": "cc8cfbfd-19f6-4f05-bb77-43c0d665b144",
   "metadata": {},
   "outputs": [
    {
     "name": "stdout",
     "output_type": "stream",
     "text": [
      "1인치 = 2.54 센티미터\n",
      "2인치 = 5.08 센티미터\n",
      "3인치 = 7.62 센티미터\n",
      "4인치 = 10.16 센티미터\n",
      "5인치 = 12.7 센티미터\n"
     ]
    }
   ],
   "source": [
    "#5.5\n",
    "def inch2cm(inch):\n",
    "    return inch * 2.54\n",
    "for i in range(1,6):\n",
    "    print(f'{i}인치 = {inch2cm(i)} 센티미터')"
   ]
  },
  {
   "cell_type": "code",
   "execution_count": 32,
   "id": "278d6288-a389-46cc-970e-d848af7433c9",
   "metadata": {},
   "outputs": [
    {
     "name": "stdin",
     "output_type": "stream",
     "text": [
      "정수 여러개를 입력하시오 : 3 45 32 5 7 8 4 44 5 90 17\n"
     ]
    },
    {
     "name": "stdout",
     "output_type": "stream",
     "text": [
      "평균값은 23.6\n",
      "최대값은 90\n",
      "최솟값은 3\n"
     ]
    }
   ],
   "source": [
    "#5.9\n",
    "def mean_of_n(nums):\n",
    "    result = 0\n",
    "    for i in nums:\n",
    "        result+=i\n",
    "    a = result/len(nums)    \n",
    "    return a\n",
    "\n",
    "def max_of_n(nums):\n",
    "    nums.sort(reverse = True)\n",
    "    b = nums[0]\n",
    "    return b\n",
    "\n",
    "def min_of_n(nums):\n",
    "    nums.sort()\n",
    "    c = nums[0]\n",
    "    return c\n",
    "\n",
    "nums = list(map(int,input('정수 여러개를 입력하시오 :').split( )))\n",
    "print(f'평균값은 {mean_of_n(nums):.1f}')\n",
    "print(f'최대값은 {max_of_n(nums)}')\n",
    "print(f'최솟값은 {min_of_n(nums)}')"
   ]
  },
  {
   "cell_type": "code",
   "execution_count": 33,
   "id": "f21c881b-816f-4eb2-a80d-4e5804a4e865",
   "metadata": {},
   "outputs": [
    {
     "name": "stdout",
     "output_type": "stream",
     "text": [
      "(1) 1728\n",
      "(2) 8000\n",
      "(3) 90\n",
      "(4) 4186.666666666666\n",
      "(5) 14130.0\n",
      "(6) 12560.0\n"
     ]
    }
   ],
   "source": [
    "#5.13\n",
    "pi = 3.14\n",
    "def cube(s):\n",
    "    return s ** 3\n",
    "    \n",
    "def cuboid(l, w, h):\n",
    "    return l*w*h\n",
    "    \n",
    "def cone(r, h):\n",
    "    result = (1/3)*pi*(r**2)*h\n",
    "    return result\n",
    "    \n",
    "def sphere(r):\n",
    "    return (4/3)*pi*(r**3)\n",
    "    \n",
    "def cylinder(r, h):\n",
    "    result = pi*(r**2)*h\n",
    "    return result\n",
    "print('(1)', cube(12))\n",
    "print('(2)', cube(20))\n",
    "print('(3)', cuboid(3, 5, 6))\n",
    "print('(4)', cone(20, 10))\n",
    "print('(5)', sphere(15))\n",
    "print('(6)', cylinder(20, 10))"
   ]
  },
  {
   "cell_type": "code",
   "execution_count": 37,
   "id": "f939763d-e6df-42e4-a2ac-78ffcec899dd",
   "metadata": {},
   "outputs": [
    {
     "name": "stdout",
     "output_type": "stream",
     "text": [
      "10에서 20까지의 정수의 합 :165\n",
      "40에서 70까지의 정수의 합 :4270\n"
     ]
    }
   ],
   "source": [
    "#5.17\n",
    "def sum_range(n1, n2):\n",
    "    result = 0\n",
    "    for i in range(n1, n2 + 1):\n",
    "        result += i\n",
    "    return result\n",
    "print('{}에서 {}까지의 정수의 합 :{}'.format(10, 20, sum_range(10, 20)))\n",
    "print('{}에서 {}까지의 정수의 합 :{}'.format(40, 70, sum_range(40, 100)))"
   ]
  },
  {
   "cell_type": "code",
   "execution_count": 50,
   "id": "215fce92-d180-4c34-800c-7c4810162a1b",
   "metadata": {},
   "outputs": [
    {
     "name": "stdin",
     "output_type": "stream",
     "text": [
      "주민등록번호 첫 6숫자 형식 입력: 570312\n"
     ]
    },
    {
     "name": "stdout",
     "output_type": "stream",
     "text": [
      "1957년 3월 12일\n"
     ]
    }
   ],
   "source": [
    "#5.21\n",
    "ID = int(input('주민등록번호 첫 6숫자 형식 입력:'))\n",
    "year = ID//10000\n",
    "month = (ID % 10000)//100\n",
    "day = ID % 100\n",
    "if year >= 50:\n",
    "    print('{}년 {}월 {}일'.format(year + 1900, month, day))\n",
    "\n",
    "else:\n",
    "    print('{}년 {}월 {}일'.format(year + 2000, month, day))"
   ]
  },
  {
   "cell_type": "code",
   "execution_count": 51,
   "id": "e0869630-499a-4237-92a9-940002b1f67c",
   "metadata": {},
   "outputs": [
    {
     "name": "stdin",
     "output_type": "stream",
     "text": [
      "주민등록번호 첫 6숫자 형식 입력: 011123\n"
     ]
    },
    {
     "name": "stdout",
     "output_type": "stream",
     "text": [
      "2001년 11월 23일\n"
     ]
    }
   ],
   "source": [
    "#5.21\n",
    "ID = int(input('주민등록번호 첫 6숫자 형식 입력:'))\n",
    "year = ID//10000\n",
    "month = (ID % 10000)//100\n",
    "day = ID % 100\n",
    "if year >= 50:\n",
    "    print('{}년 {}월 {}일'.format(year + 1900, month, day))\n",
    "\n",
    "else:\n",
    "    print('{}년 {}월 {}일'.format(year + 2000, month, day))"
   ]
  },
  {
   "cell_type": "code",
   "execution_count": 73,
   "id": "e8f2cfef-4364-4e54-8a13-79114d4da382",
   "metadata": {},
   "outputs": [
    {
     "name": "stdout",
     "output_type": "stream",
     "text": [
      "Kang Young Min(은)는 KANGYOUNGMIN(으)로 수정됨\n",
      "Kang Young-Min(은)는 KANGYOUNGMIN(으)로 수정됨\n",
      "Park Dong Min(은)는 PARKDONGMIN(으)로 수정됨\n",
      "Park Dong-Min(은)는 PARKDONGMIN(으)로 수정됨\n",
      "KANGYOUNGMIN : 3 개의 N이 나타남\n",
      "KANGYOUNGMIN : 3 개의 N이 나타남\n",
      "PARKDONGMIN : 2 개의 N이 나타남\n",
      "PARKDONGMIN : 2 개의 N이 나타남\n"
     ]
    }
   ],
   "source": [
    "#5.25\n",
    "s1 = 'Kang Young Min'\n",
    "s2 = 'Kang Young-Min'\n",
    "s3 = 'Park Dong Min'\n",
    "s4 = 'Park Dong-Min'\n",
    "\n",
    "list_a = [s1, s2, s3, s4]\n",
    "\n",
    "def clean_upper(s):\n",
    "    list_n = list(s)\n",
    "    while ' ' in list_n:\n",
    "        list_n.remove(' ')\n",
    "    while '-' in list_n:\n",
    "        list_n.remove('-')\n",
    "    list_n2 = []\n",
    "    for i in list_n:\n",
    "        list_n2.append(i.upper())\n",
    "    return list_n2\n",
    "def all_capital_n(s):\n",
    "    return ''.join(clean_upper(s))\n",
    "\n",
    "def sum_n(s):\n",
    "    return clean_upper(s).count('N')\n",
    "for i in list_a:\n",
    "    print('{}(은)는 {}(으)로 수정됨'.format(i, all_capital_n(i)))\n",
    "for i in list_a:\n",
    "    print('{} : {} 개의 N이 나타남'.format(all_capital_n(i), sum_n(i)))"
   ]
  },
  {
   "cell_type": "code",
   "execution_count": 2,
   "id": "bbd65b7a-bc44-40dc-b03d-ec8488b257ea",
   "metadata": {},
   "outputs": [
    {
     "name": "stdout",
     "output_type": "stream",
     "text": [
      "10\n",
      "(10, 20)\n",
      "(20, 30, 40)\n",
      "(10, 20, 30)\n",
      "(20, 40)\n",
      "(40, 30, 20, 10)\n"
     ]
    }
   ],
   "source": [
    "#7.5\n",
    "t = (10, 20,30 ,40)\n",
    "print(t[0])\n",
    "print(t[0:2])\n",
    "print(t[1:])\n",
    "print(t[:3])\n",
    "print(t[1::2])\n",
    "print(t[::-1])"
   ]
  },
  {
   "cell_type": "code",
   "execution_count": 6,
   "id": "61ca82ab-3969-4470-9be8-78034d365a97",
   "metadata": {},
   "outputs": [
    {
     "name": "stdout",
     "output_type": "stream",
     "text": [
      "주어진 튜플 : (1, 2, 5, 4, 3, 2, 1, 4, 7, 8, 9, 9, 3, 7, 3)\n",
      "중복 제거 튜플 : (1, 2, 3, 4, 5, 7, 8, 9)\n"
     ]
    }
   ],
   "source": [
    "#7.9\n",
    "tup = (1, 2, 5, 4, 3, 2, 1, 4, 7, 8, 9, 9, 3, 7, 3)\n",
    "print('주어진 튜플 :', tup)\n",
    "s1 = set(tup)\n",
    "s2 = {1,2,3,4,5,6,7,8,9}\n",
    "result = s1 & s2 \n",
    "tup2 = tuple(result)\n",
    "print('중복 제거 튜플 :', tup2)"
   ]
  },
  {
   "cell_type": "code",
   "execution_count": 15,
   "id": "8fbee47f-3fc1-4141-9374-481b203f3e8a",
   "metadata": {},
   "outputs": [
    {
     "name": "stdout",
     "output_type": "stream",
     "text": [
      "주어진 리스트는 : [5, 6, 3, 9, 2, 12, 3, 8, 7]\n",
      "정렬된 결과는 : [2, 3, 3, 5, 6, 7, 8, 9, 12]\n"
     ]
    }
   ],
   "source": [
    "#7.13\n",
    "list1 = [5, 6, 3, 9, 2, 12, 3, 8, 7]\n",
    "list2 = [5, 6, 3, 9, 2, 12, 3, 8, 7]\n",
    "n = len(list2)\n",
    "for i in range(n - 1):\n",
    "    for j in range(n - 1 - i):\n",
    "        if list2[j] > list2[j + 1]:\n",
    "            list2[j], list2[j + 1] = list2[j + 1], list2[j]\n",
    "\n",
    "print('주어진 리스트는 :', list1)\n",
    "print('정렬된 결과는 :', list2)"
   ]
  },
  {
   "cell_type": "code",
   "execution_count": 23,
   "id": "31039b90-61ed-4fe1-93e3-5758d50ac94d",
   "metadata": {},
   "outputs": [
    {
     "name": "stdout",
     "output_type": "stream",
     "text": [
      "마을 A와 B에 보낼 투표용지의 개수는 각각 971 장과 1698 장입니다.\n",
      "마을 A와 B의 고령화 정도는 각각 0.165와 0.003입니다.\n"
     ]
    }
   ],
   "source": [
    "#7.17\n",
    "import math\n",
    "population_A = (100, 150, 230, 120, 180, 100, 140, 95, 81, 21, 4)\n",
    "population_B = (300, 420, 530, 420, 400, 300, 40, 5, 1, 1, 1)\n",
    "\n",
    "def vote_p(tup_p):\n",
    "    list_p = list(tup_p)\n",
    "    num = list_p[2: ]\n",
    "    result = sum(num)\n",
    "    return result\n",
    "\n",
    "print('마을 A와 B에 보낼 투표용지의 개수는 각각 {} 장과 {} 장입니다.'.format(vote_p(population_A), vote_p(population_B)))\n",
    "\n",
    "def aging(tup_p):\n",
    "    list_p = list(tup_p)\n",
    "    old = list_p[7: ]\n",
    "    result = sum(old) / sum(list_p)\n",
    "    return round(result, 3)\n",
    "\n",
    "print('마을 A와 B의 고령화 정도는 각각 {}와 {}입니다.'.format(aging(population_A), aging(population_B)))"
   ]
  },
  {
   "cell_type": "code",
   "execution_count": 34,
   "id": "bd532d46-436e-4565-994a-61228a275615",
   "metadata": {},
   "outputs": [
    {
     "name": "stdin",
     "output_type": "stream",
     "text": [
      "문자열을 입력하시오 : racecar\n"
     ]
    },
    {
     "name": "stdout",
     "output_type": "stream",
     "text": [
      "회문입니다.\n"
     ]
    },
    {
     "name": "stdin",
     "output_type": "stream",
     "text": [
      "문자열을 입력하시오 : racing\n"
     ]
    },
    {
     "name": "stdout",
     "output_type": "stream",
     "text": [
      "회문이 아닙니다.\n"
     ]
    },
    {
     "name": "stdin",
     "output_type": "stream",
     "text": [
      "문자열을 입력하시오 : A nut for a jar of tuna\n"
     ]
    },
    {
     "name": "stdout",
     "output_type": "stream",
     "text": [
      "회문입니다.\n"
     ]
    }
   ],
   "source": [
    "#7.21\n",
    "def palindrome(a):\n",
    "    a = input('문자열을 입력하시오 :')\n",
    "    list1 = list(a)\n",
    "    while ' ' in list1:\n",
    "        list1.remove(' ')\n",
    "    while '.' in list1:\n",
    "        list1.remove('.')\n",
    "    list2 = []\n",
    "    for i in list1:\n",
    "        list2.append(i.upper())\n",
    "    if list2 == list2[::-1]:\n",
    "        print('회문입니다.')\n",
    "    else:\n",
    "        print('회문이 아닙니다.')\n",
    "for i in range(3):\n",
    "    palindrome(a)"
   ]
  },
  {
   "cell_type": "code",
   "execution_count": 1,
   "id": "dde18e43-0704-46f0-9bd6-e0b888230290",
   "metadata": {},
   "outputs": [
    {
     "name": "stdin",
     "output_type": "stream",
     "text": [
      "$  < boy:소년\n",
      "$  < girl:소녀\n",
      "$  < man:남자, 사람\n",
      "$  < woman:여자\n",
      "$  < house:집\n",
      "$  < korea:한국\n",
      "$  > boy\n"
     ]
    },
    {
     "name": "stdout",
     "output_type": "stream",
     "text": [
      "소년\n"
     ]
    },
    {
     "name": "stdin",
     "output_type": "stream",
     "text": [
      "$  > body\n"
     ]
    },
    {
     "name": "stdout",
     "output_type": "stream",
     "text": [
      "body가 사전에 없습니다.\n"
     ]
    },
    {
     "name": "stdin",
     "output_type": "stream",
     "text": [
      "$  man\n"
     ]
    },
    {
     "name": "stdout",
     "output_type": "stream",
     "text": [
      "입력오류가 발생했습니다.\n"
     ]
    },
    {
     "name": "stdin",
     "output_type": "stream",
     "text": [
      "$  > man\n"
     ]
    },
    {
     "name": "stdout",
     "output_type": "stream",
     "text": [
      "남자, 사람\n"
     ]
    },
    {
     "name": "stdin",
     "output_type": "stream",
     "text": [
      "$  q\n"
     ]
    },
    {
     "name": "stdout",
     "output_type": "stream",
     "text": [
      "사전 프로그램을 종료합니다.\n"
     ]
    }
   ],
   "source": [
    "#7.25\n",
    "def dictionary_program():\n",
    "    dictionary = {}\n",
    "\n",
    "    while True:\n",
    "        command = input('$ ').strip()\n",
    "\n",
    "        if command == 'q':\n",
    "            print('사전 프로그램을 종료합니다.')\n",
    "            break\n",
    "\n",
    "        if command.startswith('<'):\n",
    "            try:\n",
    "                entry = command[1:].strip()\n",
    "                eng, kor = entry.split(':')\n",
    "                dictionary[eng.strip()] = kor.strip()\n",
    "            except ValueError:\n",
    "                print('입력오류가 발생했습니다.')\n",
    "\n",
    "        elif command.startswith('>'):\n",
    "            word = command[1:].strip()\n",
    "            if word in dictionary:\n",
    "                print(dictionary[word])\n",
    "            else:\n",
    "                print(f'{word}가 사전에 없습니다.')\n",
    "\n",
    "        else:\n",
    "            print('입력오류가 발생했습니다.')\n",
    "\n",
    "# 실행\n",
    "dictionary_program()\n"
   ]
  },
  {
   "cell_type": "code",
   "execution_count": 40,
   "id": "06e72a9f-b80d-4f01-a185-31447ee21aa7",
   "metadata": {},
   "outputs": [
    {
     "name": "stdout",
     "output_type": "stream",
     "text": [
      "sin(0) = 0.000,   cos(0) = 1.000, tan(0) = 0.000\n",
      "sin(10) = 0.174,   cos(10) = 0.985, tan(10) = 0.176\n",
      "sin(20) = 0.342,   cos(20) = 0.940, tan(20) = 0.364\n",
      "sin(30) = 0.500,   cos(30) = 0.866, tan(30) = 0.577\n",
      "sin(40) = 0.643,   cos(40) = 0.766, tan(40) = 0.839\n",
      "sin(50) = 0.766,   cos(50) = 0.643, tan(50) = 1.192\n",
      "sin(60) = 0.866,   cos(60) = 0.500, tan(60) = 1.732\n",
      "sin(70) = 0.940,   cos(70) = 0.342, tan(70) = 2.747\n",
      "sin(80) = 0.985,   cos(80) = 0.174, tan(80) = 5.671\n",
      "sin(90) = 1.000,   cos(90) = 0.000, tan(90) = 16331239353195370.000\n",
      "sin(100) = 0.985,   cos(100) = -0.174, tan(100) = -5.671\n",
      "sin(110) = 0.940,   cos(110) = -0.342, tan(110) = -2.747\n",
      "sin(120) = 0.866,   cos(120) = -0.500, tan(120) = -1.732\n",
      "sin(130) = 0.766,   cos(130) = -0.643, tan(130) = -1.192\n",
      "sin(140) = 0.643,   cos(140) = -0.766, tan(140) = -0.839\n",
      "sin(150) = 0.500,   cos(150) = -0.866, tan(150) = -0.577\n",
      "sin(160) = 0.342,   cos(160) = -0.940, tan(160) = -0.364\n",
      "sin(170) = 0.174,   cos(170) = -0.985, tan(170) = -0.176\n",
      "sin(180) = 0.000,   cos(180) = -1.000, tan(180) = -0.000\n"
     ]
    }
   ],
   "source": [
    "#8.5\n",
    "import math as m\n",
    "for i in range(0, 181, 10):\n",
    "    rad = i*(m.pi/180)\n",
    "    print('sin({}) = {:.3f},   cos({}) = {:.3f}, tan({}) = {:.3f}'.format(i, m.sin(rad), i, m.cos(rad), i, m.tan(rad)))"
   ]
  },
  {
   "cell_type": "code",
   "execution_count": 47,
   "id": "6b8e32ea-d79a-46f4-a21a-dab718914476",
   "metadata": {},
   "outputs": [
    {
     "name": "stdin",
     "output_type": "stream",
     "text": [
      "1~20까지의 숫자를 입력하세요:  5\n"
     ]
    },
    {
     "name": "stdout",
     "output_type": "stream",
     "text": [
      "5보다 작습니다!\n"
     ]
    },
    {
     "name": "stdin",
     "output_type": "stream",
     "text": [
      "1~20까지의 숫자를 입력하세요:  3\n"
     ]
    },
    {
     "name": "stdout",
     "output_type": "stream",
     "text": [
      "3보다 작습니다!\n"
     ]
    },
    {
     "name": "stdin",
     "output_type": "stream",
     "text": [
      "1~20까지의 숫자를 입력하세요:  1\n"
     ]
    },
    {
     "name": "stdout",
     "output_type": "stream",
     "text": [
      "1보다 큽니다!\n"
     ]
    },
    {
     "name": "stdin",
     "output_type": "stream",
     "text": [
      "1~20까지의 숫자를 입력하세요:  2\n"
     ]
    },
    {
     "name": "stdout",
     "output_type": "stream",
     "text": [
      "정답입니다!\n",
      "4번 만에 맞추셨네요. 잘했어요^^\n"
     ]
    }
   ],
   "source": [
    "#8.9\n",
    "import random as rd\n",
    "\n",
    "chosen_num = rd.randint(1, 20)\n",
    "count = 1\n",
    "\n",
    "while True:\n",
    "    answer = int(input('1~20까지의 숫자를 입력하세요: '))\n",
    "    \n",
    "    if answer == chosen_num:\n",
    "        print('정답입니다!')\n",
    "        if count <= 3:\n",
    "            print(f'{count}번 만에 맞춘 당신은 천재!')\n",
    "        elif 3 < count < 6:\n",
    "            print(f'{count}번 만에 맞추셨네요. 잘했어요^^')\n",
    "        else:\n",
    "            print(f'{count}번 만에 맞추다니... 쩝쩝...')\n",
    "        break\n",
    "    elif answer > chosen_num:\n",
    "        print(f'{answer}보다 작습니다!')\n",
    "    else:\n",
    "        print(f'{answer}보다 큽니다!')\n",
    "    \n",
    "    count += 1"
   ]
  },
  {
   "cell_type": "code",
   "execution_count": 54,
   "id": "38e7b482-9731-4027-833a-2eead49fed1f",
   "metadata": {},
   "outputs": [],
   "source": [
    "#9.5\n",
    "f = open('number1to10.txt', 'w')\n",
    "for i in range(1, 11):\n",
    "    f.write(str(i) + '\\n')\n",
    "f.close()"
   ]
  },
  {
   "cell_type": "code",
   "execution_count": 3,
   "id": "630cf667-f597-44a8-83ea-058bd8c63534",
   "metadata": {},
   "outputs": [
    {
     "name": "stdout",
     "output_type": "stream",
     "text": [
      "2 4\n",
      "2 5\n",
      "4 6\n",
      "7 8\n",
      "9 6\n",
      "10 2\n"
     ]
    }
   ],
   "source": [
    "#9.9\n",
    "def read_and_sort_coordinates(filename):\n",
    "    file = open(filename, 'r')\n",
    "\n",
    "    n = int(file.readline())\n",
    "\n",
    "    coords = []\n",
    "    for _ in range(n):\n",
    "        line = file.readline()\n",
    "        x, y = map(int, line.split())\n",
    "        coords.append((x, y))\n",
    "\n",
    "    file.close()\n",
    "\n",
    "    coords.sort()\n",
    "\n",
    "    return coords\n",
    "\n",
    "sorted_coords = read_and_sort_coordinates('coord.txt')\n",
    "for x, y in sorted_coords:\n",
    "    print(x, y)"
   ]
  }
 ],
 "metadata": {
  "kernelspec": {
   "display_name": "Python 3 (ipykernel)",
   "language": "python",
   "name": "python3"
  },
  "language_info": {
   "codemirror_mode": {
    "name": "ipython",
    "version": 3
   },
   "file_extension": ".py",
   "mimetype": "text/x-python",
   "name": "python",
   "nbconvert_exporter": "python",
   "pygments_lexer": "ipython3",
   "version": "3.13.2"
  }
 },
 "nbformat": 4,
 "nbformat_minor": 5
}
