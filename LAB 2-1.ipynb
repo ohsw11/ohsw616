{
 "cells": [
  {
   "cell_type": "code",
   "execution_count": 1,
   "id": "9e74cba5-8274-46f7-a4c4-300fe186a736",
   "metadata": {},
   "outputs": [
    {
     "name": "stdout",
     "output_type": "stream",
     "text": [
      "나의 이름은 : 홍길동\n"
     ]
    }
   ],
   "source": [
    "print('나의 이름은 :', '홍길동')"
   ]
  },
  {
   "cell_type": "code",
   "execution_count": 2,
   "id": "312f3a21-2fa9-46a5-a3e7-368ebbadce0a",
   "metadata": {},
   "outputs": [
    {
     "name": "stdout",
     "output_type": "stream",
     "text": [
      "나의 나이는 : 27\n"
     ]
    }
   ],
   "source": [
    "print('나의 나이는 :', 27)"
   ]
  },
  {
   "cell_type": "code",
   "execution_count": 3,
   "id": "7642dfdd-fd15-4a52-9ba2-8ad1e8f5c473",
   "metadata": {},
   "outputs": [
    {
     "name": "stdout",
     "output_type": "stream",
     "text": [
      "나의 키는 179 cm 입니다.\n"
     ]
    }
   ],
   "source": [
    "print('나의 키는', 179, 'cm 입니다.')"
   ]
  },
  {
   "cell_type": "code",
   "execution_count": 4,
   "id": "fc6c9ac7-3c98-4861-92ec-3369ba59a31e",
   "metadata": {},
   "outputs": [
    {
     "name": "stdout",
     "output_type": "stream",
     "text": [
      "10 + 20 = 30\n"
     ]
    }
   ],
   "source": [
    "print('10 + 20 =', 10 + 20)"
   ]
  },
  {
   "cell_type": "code",
   "execution_count": 5,
   "id": "815e4471-b53f-4ad8-b126-01d41609e1d3",
   "metadata": {},
   "outputs": [
    {
     "name": "stdout",
     "output_type": "stream",
     "text": [
      "10 * 20 = 200\n"
     ]
    }
   ],
   "source": [
    "print('10 * 20 =', 10 * 20)"
   ]
  },
  {
   "cell_type": "code",
   "execution_count": null,
   "id": "0d22e059-06ea-49e0-9673-7c29c96efae4",
   "metadata": {},
   "outputs": [],
   "source": []
  }
 ],
 "metadata": {
  "kernelspec": {
   "display_name": "Python 3 (ipykernel)",
   "language": "python",
   "name": "python3"
  },
  "language_info": {
   "codemirror_mode": {
    "name": "ipython",
    "version": 3
   },
   "file_extension": ".py",
   "mimetype": "text/x-python",
   "name": "python",
   "nbconvert_exporter": "python",
   "pygments_lexer": "ipython3",
   "version": "3.13.2"
  }
 },
 "nbformat": 4,
 "nbformat_minor": 5
}
