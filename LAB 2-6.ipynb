{
 "cells": [
  {
   "cell_type": "code",
   "execution_count": 3,
   "id": "7bacf7f4-f285-4433-b2ba-0a048b3daff8",
   "metadata": {},
   "outputs": [],
   "source": [
    "width = 20"
   ]
  },
  {
   "cell_type": "code",
   "execution_count": 2,
   "id": "a0ac3817-20a2-4c54-9aa0-c18878176363",
   "metadata": {},
   "outputs": [],
   "source": [
    "height = 40"
   ]
  },
  {
   "cell_type": "code",
   "execution_count": 4,
   "id": "8a4a37e8-d07a-4a81-9e72-f68f78834d05",
   "metadata": {},
   "outputs": [],
   "source": [
    "width = 30"
   ]
  },
  {
   "cell_type": "code",
   "execution_count": 5,
   "id": "73775730-ee22-4d71-a818-afe39a5e0053",
   "metadata": {},
   "outputs": [
    {
     "name": "stdout",
     "output_type": "stream",
     "text": [
      "사각형의 면적 1200\n"
     ]
    }
   ],
   "source": [
    "area = width * height\n",
    "print('사각형의 면적', area)"
   ]
  },
  {
   "cell_type": "code",
   "execution_count": null,
   "id": "766b4320-32a0-41ef-98fd-8b1d8d5bda95",
   "metadata": {},
   "outputs": [],
   "source": []
  }
 ],
 "metadata": {
  "kernelspec": {
   "display_name": "Python 3 (ipykernel)",
   "language": "python",
   "name": "python3"
  },
  "language_info": {
   "codemirror_mode": {
    "name": "ipython",
    "version": 3
   },
   "file_extension": ".py",
   "mimetype": "text/x-python",
   "name": "python",
   "nbconvert_exporter": "python",
   "pygments_lexer": "ipython3",
   "version": "3.13.2"
  }
 },
 "nbformat": 4,
 "nbformat_minor": 5
}
