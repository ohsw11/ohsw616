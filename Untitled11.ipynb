{
 "cells": [
  {
   "cell_type": "code",
   "execution_count": 4,
   "id": "a6fcab08-f4b7-4436-aa95-501106cf1d75",
   "metadata": {},
   "outputs": [
    {
     "name": "stdin",
     "output_type": "stream",
     "text": [
      "insert numbers: 10 0\n"
     ]
    },
    {
     "name": "stdout",
     "output_type": "stream",
     "text": [
      "warning: Division value is 0!!\n"
     ]
    }
   ],
   "source": [
    "a,b = map(int, input('insert numbers:').split())\n",
    "try:\n",
    "    result = a/b\n",
    "    print(a[1])\n",
    "except ZeroDivisionError:\n",
    "    print('warning: Division value is 0!!')\n",
    "except TypeError:\n",
    "    print('warning: Type Error')"
   ]
  },
  {
   "cell_type": "code",
   "execution_count": 5,
   "id": "95298459-b590-4a55-9218-09d9a3fccded",
   "metadata": {},
   "outputs": [],
   "source": [
    "f = open('hello.txt', 'w')\n",
    "f.write('hello world!')\n",
    "f.close()"
   ]
  },
  {
   "cell_type": "code",
   "execution_count": 13,
   "id": "913f9183-2b17-479b-beab-43afc8147c0d",
   "metadata": {},
   "outputs": [],
   "source": [
    "import struct\n",
    "f = open('text.bin', 'wb')\n",
    "pi = 3.1415924928\n",
    "f.write(struct.pack(\"d\", pi))\n",
    "f.close()"
   ]
  },
  {
   "cell_type": "code",
   "execution_count": null,
   "id": "2ad7790d-40ce-402f-80ad-9c6606bed40f",
   "metadata": {},
   "outputs": [],
   "source": []
  }
 ],
 "metadata": {
  "kernelspec": {
   "display_name": "Python 3 (ipykernel)",
   "language": "python",
   "name": "python3"
  },
  "language_info": {
   "codemirror_mode": {
    "name": "ipython",
    "version": 3
   },
   "file_extension": ".py",
   "mimetype": "text/x-python",
   "name": "python",
   "nbconvert_exporter": "python",
   "pygments_lexer": "ipython3",
   "version": "3.13.2"
  }
 },
 "nbformat": 4,
 "nbformat_minor": 5
}
