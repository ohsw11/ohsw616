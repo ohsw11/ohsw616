{
 "cells": [
  {
   "cell_type": "code",
   "execution_count": 48,
   "id": "05d2039e-c4bc-40ef-95c5-e84b41f01e0f",
   "metadata": {},
   "outputs": [
    {
     "name": "stdout",
     "output_type": "stream",
     "text": [
      "position of cat 나비 is 20\n",
      "position of cat 네로 is 5\n",
      "position of cat 나비 is 10000\n"
     ]
    }
   ],
   "source": [
    "class Cat:\n",
    "    def __init__(self, name, color='흰색', position = 0):\n",
    "        self.__name = name\n",
    "        self.__color = color\n",
    "        self.__position = position\n",
    "\n",
    "    def forward(self):\n",
    "        self.__position += 1\n",
    "         \n",
    "\n",
    "    def backward(self):\n",
    "        self.__position -= 1\n",
    "\n",
    "    def set_position(self, position = 0):\n",
    "        self.__position = position\n",
    "        \n",
    "    def __str__(self):\n",
    "        return 'position of cat {} is {}'.format(self.__name, self.__position)\n",
    "        \n",
    "    def meow(self):\n",
    "        print('내이름은 {}, 색깔은 {}, 야옹 야옹~~'.format(self.__name, self.__color))\n",
    "\n",
    "nabi = Cat('나비','검정색', 10)\n",
    "nero = Cat('네로', '흰색')\n",
    "mimi = Cat('미미', '갈색')\n",
    "\n",
    "for i in range(10):\n",
    "    nabi.forward()\n",
    "for i in range(5):\n",
    "    nero.forward()\n",
    "    \n",
    "print(nabi)\n",
    "print(nero)\n",
    "\n",
    "nabi.set_position(10000)\n",
    "\n",
    "print(nabi)"
   ]
  },
  {
   "cell_type": "code",
   "execution_count": null,
   "id": "7fb4449b-e6eb-46d5-a61d-df54aeadbc08",
   "metadata": {},
   "outputs": [],
   "source": [
    "class Vector2D:\n",
    "    def __init__(self, x, y):\n",
    "        self.x = x\n",
    "        self.y = y\n",
    "\n"
   ]
  }
 ],
 "metadata": {
  "kernelspec": {
   "display_name": "Python 3 (ipykernel)",
   "language": "python",
   "name": "python3"
  },
  "language_info": {
   "codemirror_mode": {
    "name": "ipython",
    "version": 3
   },
   "file_extension": ".py",
   "mimetype": "text/x-python",
   "name": "python",
   "nbconvert_exporter": "python",
   "pygments_lexer": "ipython3",
   "version": "3.13.2"
  }
 },
 "nbformat": 4,
 "nbformat_minor": 5
}
