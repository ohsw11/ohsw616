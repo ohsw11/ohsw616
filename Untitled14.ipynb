{
 "cells": [
  {
   "cell_type": "code",
   "execution_count": 1,
   "id": "18961868-c45b-4375-b4e7-0d7b9d1285d0",
   "metadata": {},
   "outputs": [
    {
     "name": "stdout",
     "output_type": "stream",
     "text": [
      "[-0.99999998 -1.00000002]\n",
      "[[0.70710678 0.70710678]\n",
      " [0.70710678 0.70710678]]\n"
     ]
    }
   ],
   "source": [
    "A = np.array([[1, -2], [2, -3]])\n",
    "w1, V1 = np.linalg.eig(A)\n",
    "\n",
    "print(w1)\n",
    "print(V1)"
   ]
  },
  {
   "cell_type": "code",
   "execution_count": 2,
   "id": "522e96e0-496a-4d56-be85-892bb5c2371e",
   "metadata": {},
   "outputs": [
    {
     "name": "stdout",
     "output_type": "stream",
     "text": [
      "[ 4. -1.]\n",
      "[[ 0.83205029 -0.70710678]\n",
      " [ 0.5547002   0.70710678]]\n"
     ]
    }
   ],
   "source": [
    "B = np.array([[2, 3,], [2, 1]])\n",
    "w2, V2 = np.linalg.eig(B)\n",
    "print(w2)\n",
    "print(V2)"
   ]
  },
  {
   "cell_type": "code",
   "execution_count": 3,
   "id": "b392b1b4-b825-4589-a649-906e1a78ed08",
   "metadata": {},
   "outputs": [
    {
     "name": "stdout",
     "output_type": "stream",
     "text": [
      "[0.+1.j 0.-1.j]\n",
      "[[0.70710678+0.j         0.70710678-0.j        ]\n",
      " [0.        -0.70710678j 0.        +0.70710678j]]\n"
     ]
    }
   ],
   "source": [
    "C = np.array([[0, -1], [1, 0]])\n",
    "w3, V3 = np.linalg.eig(C)\n",
    "\n",
    "print(w3)\n",
    "print(V3)"
   ]
  },
  {
   "cell_type": "code",
   "execution_count": 4,
   "id": "ad2c950e-ac14-47e4-9377-590fbb22f0b1",
   "metadata": {},
   "outputs": [
    {
     "name": "stdout",
     "output_type": "stream",
     "text": [
      "[1. 1.]\n",
      "[[ 1.00000000e+00 -1.00000000e+00]\n",
      " [ 0.00000000e+00  2.22044605e-16]]\n"
     ]
    }
   ],
   "source": [
    "D = np.array([[1, 1,], [0, 1]])\n",
    "w4, V4 = np.linalg.eig(D)\n",
    "\n",
    "print(w4)\n",
    "print(V4)"
   ]
  },
  {
   "cell_type": "code",
   "execution_count": 2,
   "id": "cd963508-ab56-47cf-bbbf-4e96c4a86e41",
   "metadata": {},
   "outputs": [
    {
     "name": "stdout",
     "output_type": "stream",
     "text": [
      "[ 4. -1.]\n",
      "[[ 0.83205029 -0.70710678]\n",
      " [ 0.5547002   0.70710678]]\n"
     ]
    }
   ],
   "source": [
    "B = np.array([[2, 3,], [2, 1]])\n",
    "w2, V2 = np.linalg.eig(B)\n",
    "print(w2)\n",
    "print(V2)"
   ]
  },
  {
   "cell_type": "code",
   "execution_count": 5,
   "id": "344c10c2-eecb-4f85-85af-a75b5c6b3b3b",
   "metadata": {},
   "outputs": [
    {
     "data": {
      "text/plain": [
       "array([[ 0.72111026,  0.72111026],\n",
       "       [-0.56568542,  0.84852814]])"
      ]
     },
     "execution_count": 5,
     "metadata": {},
     "output_type": "execute_result"
    }
   ],
   "source": [
    "V2_inv = np.linalg.inv(V2)\n",
    "V2_inv"
   ]
  },
  {
   "cell_type": "code",
   "execution_count": 7,
   "id": "d9ad6e38-69df-4516-9d16-c0c93d43862d",
   "metadata": {},
   "outputs": [
    {
     "data": {
      "text/plain": [
       "array([[ 0.83205029, -0.70710678],\n",
       "       [ 0.5547002 ,  0.70710678]])"
      ]
     },
     "execution_count": 7,
     "metadata": {},
     "output_type": "execute_result"
    }
   ],
   "source": [
    "V2"
   ]
  },
  {
   "cell_type": "code",
   "execution_count": 6,
   "id": "bcd64d2b-a843-48d0-9377-327824be6c35",
   "metadata": {},
   "outputs": [
    {
     "data": {
      "text/plain": [
       "array([[ 4.,  0.],\n",
       "       [ 0., -1.]])"
      ]
     },
     "execution_count": 6,
     "metadata": {},
     "output_type": "execute_result"
    }
   ],
   "source": [
    "np.diag(w2)"
   ]
  },
  {
   "cell_type": "code",
   "execution_count": 4,
   "id": "8963e87d-1472-4f3e-854c-3106864d6e0e",
   "metadata": {},
   "outputs": [
    {
     "name": "stdout",
     "output_type": "stream",
     "text": [
      "[1. 1.]\n",
      "[[ 1.00000000e+00 -1.00000000e+00]\n",
      " [ 0.00000000e+00  2.22044605e-16]]\n"
     ]
    }
   ],
   "source": [
    "D = np.array([[1, 1,], [0, 1]])\n",
    "w4, V4 = np.linalg.eig(D)\n",
    "\n",
    "print(w4)\n",
    "print(V4)"
   ]
  },
  {
   "cell_type": "code",
   "execution_count": 8,
   "id": "9614235b-ae35-48a4-b013-ee348667b6e7",
   "metadata": {},
   "outputs": [
    {
     "data": {
      "text/plain": [
       "array([[ 1.00000000e+00, -1.00000000e+00],\n",
       "       [ 0.00000000e+00,  2.22044605e-16]])"
      ]
     },
     "execution_count": 8,
     "metadata": {},
     "output_type": "execute_result"
    }
   ],
   "source": [
    "V4"
   ]
  },
  {
   "cell_type": "code",
   "execution_count": 10,
   "id": "296a7a5b-ee33-4a84-9167-f4151302b2f0",
   "metadata": {},
   "outputs": [
    {
     "data": {
      "text/plain": [
       "array([[1., 0.],\n",
       "       [0., 1.]])"
      ]
     },
     "execution_count": 10,
     "metadata": {},
     "output_type": "execute_result"
    }
   ],
   "source": [
    "np.diag(w4)"
   ]
  },
  {
   "cell_type": "code",
   "execution_count": null,
   "id": "788cf9cf-2cfb-4544-a694-e582f4efa18f",
   "metadata": {},
   "outputs": [],
   "source": []
  }
 ],
 "metadata": {
  "kernelspec": {
   "display_name": "Python 3 (ipykernel)",
   "language": "python",
   "name": "python3"
  },
  "language_info": {
   "codemirror_mode": {
    "name": "ipython",
    "version": 3
   },
   "file_extension": ".py",
   "mimetype": "text/x-python",
   "name": "python",
   "nbconvert_exporter": "python",
   "pygments_lexer": "ipython3",
   "version": "3.13.2"
  }
 },
 "nbformat": 4,
 "nbformat_minor": 5
}
