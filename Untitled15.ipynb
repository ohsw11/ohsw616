{
 "cells": [
  {
   "cell_type": "code",
   "execution_count": 9,
   "id": "4b8338f7-7956-42b8-be62-db13087a5666",
   "metadata": {},
   "outputs": [
    {
     "name": "stdout",
     "output_type": "stream",
     "text": [
      "현재속도 : 10\n",
      "현재속도(슈퍼 클래스) : 5\n"
     ]
    }
   ],
   "source": [
    "class Car :\n",
    "    speed = 0\n",
    "    def upSpeed(self, value):\n",
    "        self.speed += value\n",
    "\n",
    "        print('현재속도(슈퍼 클래스) : %d' % self.speed)\n",
    "\n",
    "    def downSpeed(self, value):\n",
    "        self.speed -= value\n",
    "\n",
    "        print('현재속도(슈퍼 클래스) : %d' % self.speed)\n",
    "\n",
    "class Sedan(Car):\n",
    "    def upSpeed(self, value):\n",
    "        self.speed += value\n",
    "\n",
    "        if self.speed >150:\n",
    "            self.speed = 150\n",
    "\n",
    "        print('현재속도 : %d' % self.speed)\n",
    "\n",
    "myCar = Sedan()\n",
    "myCar.upSpeed(10)\n",
    "myCar.downSpeed(5)"
   ]
  },
  {
   "cell_type": "code",
   "execution_count": 17,
   "id": "e8a61755-8bf6-4adc-9ceb-0965c6431ab5",
   "metadata": {},
   "outputs": [
    {
     "name": "stdout",
     "output_type": "stream",
     "text": [
      "1.5\n",
      "1.1944444444444444\n",
      "1.298141638122709\n",
      "1.24248215661613\n",
      "1.2690093603469386\n",
      "1.2554742937218486\n",
      "1.2621680807785043\n",
      "1.2588035314571955\n",
      "1.2604812976903492\n",
      "1.2596412994629174\n",
      "1.2600610183113095\n",
      "1.2598510890074688\n",
      "1.2599560361661883\n",
      "1.2599035582164424\n",
      "1.2599297960983549\n",
      "1.2599166768842038\n",
      "1.259923236422975\n",
      "1.259919956636514\n",
      "1.2599215965254758\n",
      "1.2599207765799276\n"
     ]
    }
   ],
   "source": [
    "xn = 1\n",
    "for _ in range(20):\n",
    "    xnp = 0.5*(xn + 2/(xn**2))\n",
    "    xn = xnp\n",
    "    print(xnp)"
   ]
  },
  {
   "cell_type": "code",
   "execution_count": null,
   "id": "353bb7be-57aa-4e3f-8b5e-04be7fbfaa2b",
   "metadata": {},
   "outputs": [],
   "source": []
  }
 ],
 "metadata": {
  "kernelspec": {
   "display_name": "Python 3 (ipykernel)",
   "language": "python",
   "name": "python3"
  },
  "language_info": {
   "codemirror_mode": {
    "name": "ipython",
    "version": 3
   },
   "file_extension": ".py",
   "mimetype": "text/x-python",
   "name": "python",
   "nbconvert_exporter": "python",
   "pygments_lexer": "ipython3",
   "version": "3.13.2"
  }
 },
 "nbformat": 4,
 "nbformat_minor": 5
}
