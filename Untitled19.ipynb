{
 "cells": [
  {
   "cell_type": "code",
   "execution_count": 27,
   "id": "ca75ff0e-463e-43a8-bb93-8e764b20df81",
   "metadata": {},
   "outputs": [
    {
     "name": "stdout",
     "output_type": "stream",
     "text": [
      "\n",
      "현재 속도(슈퍼 클래스) : 200\n",
      "200\n",
      "현재 속도(슈퍼 클래스) : 100\n"
     ]
    }
   ],
   "source": [
    "class Car :\n",
    "    name = \"\"\n",
    "    speed = 0\n",
    "\n",
    "    def __init__(self, name=\"\", speed=0):\n",
    "        self.name = name\n",
    "        self.speed = speed\n",
    "\n",
    "    def getName(self):\n",
    "        return self.name\n",
    "    \n",
    "    def getSpeed(self):\n",
    "        return self.speed\n",
    "\n",
    "    def upSpeed(self, value):\n",
    "        self.speed += value\n",
    "\n",
    "        print(\"현재 속도(슈퍼 클래스) : %d\"%self.speed)\n",
    "\n",
    "class Sedan(Car):\n",
    "    def upSpeed(self, value) :\n",
    "        self.speed = min(self.speed + value, 150)\n",
    "        print(\"현재 속도(슈퍼 클래스) : %d\"%self.speed)\n",
    "\n",
    "class Truck(Car):\n",
    "    def upSpeed(self, value) :\n",
    "        self.speed = min(self.speed + value, 100)\n",
    "        print(\"현재 속도(슈퍼 클래스) : %d\"%self.speed)\n",
    "\n",
    "class S_car(Car):\n",
    "    def Turbo(self) :\n",
    "        self.speed = 200\n",
    "        print(\"현재 속도(슈퍼 클래스) : %d\"%self.speed)\n",
    "        \n",
    "myCar = S_car()\n",
    "print(myCar.getName())\n",
    "myCar.Turbo()\n",
    "print(myCar.getSpeed())\n",
    "\n",
    "yourCar = Truck(\"벤츠\")\n",
    "yourCar.upSpeed(150)"
   ]
  },
  {
   "cell_type": "code",
   "execution_count": 38,
   "id": "6e0d83cf-5145-40e4-b099-b636f9d77477",
   "metadata": {},
   "outputs": [
    {
     "name": "stdout",
     "output_type": "stream",
     "text": [
      "100 길이의 선이 생성되었습니다.\n",
      "200 길이의 선이 생성되었습니다.\n",
      "300 길이의 선이 생성되었습니다.\n"
     ]
    }
   ],
   "source": [
    "class Line:\n",
    "    length = 0\n",
    "    def __init__(self, length):\n",
    "        self.length = length\n",
    "        print(self.length, '길이의 선이 생성되었습니다.')\n",
    "\n",
    "    def __add__(self, other):\n",
    "        return Line(self.length + other.length)\n",
    "\n",
    "myLine1 = Line(100)\n",
    "myLine2 = Line(200)\n",
    "\n",
    "myLine3 = myLine1.__add__(myLine2)"
   ]
  },
  {
   "cell_type": "code",
   "execution_count": null,
   "id": "7d7fa926-6d7a-4fde-9a6d-c98265a91b08",
   "metadata": {},
   "outputs": [],
   "source": []
  }
 ],
 "metadata": {
  "kernelspec": {
   "display_name": "Python 3 (ipykernel)",
   "language": "python",
   "name": "python3"
  },
  "language_info": {
   "codemirror_mode": {
    "name": "ipython",
    "version": 3
   },
   "file_extension": ".py",
   "mimetype": "text/x-python",
   "name": "python",
   "nbconvert_exporter": "python",
   "pygments_lexer": "ipython3",
   "version": "3.13.2"
  }
 },
 "nbformat": 4,
 "nbformat_minor": 5
}
