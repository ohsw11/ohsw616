{
 "cells": [
  {
   "cell_type": "code",
   "execution_count": 34,
   "id": "ff232b17-caef-4639-8cfe-fe938b3ae2b3",
   "metadata": {},
   "outputs": [
    {
     "name": "stdout",
     "output_type": "stream",
     "text": [
      "[0.123]\n"
     ]
    }
   ],
   "source": [
    "import numpy as np\n",
    "import matplotlib.pylab as plt"
   ]
  },
  {
   "cell_type": "code",
   "execution_count": 7,
   "id": "4c7aec14-f667-4220-bfc2-7d72c1757392",
   "metadata": {},
   "outputs": [],
   "source": [
    "x = np.array([10, 11, 12, 13, 14])\n",
    "y = np.array([0, 1, 2, 3, 4])"
   ]
  },
  {
   "cell_type": "code",
   "execution_count": 8,
   "id": "91e656d8-d2db-45ee-b82b-609f31f082d8",
   "metadata": {},
   "outputs": [
    {
     "data": {
      "text/plain": [
       "array([10, 12, 14, 16, 18])"
      ]
     },
     "execution_count": 8,
     "metadata": {},
     "output_type": "execute_result"
    }
   ],
   "source": [
    "x + y"
   ]
  },
  {
   "cell_type": "code",
   "execution_count": 9,
   "id": "9467b326-9bf1-48f9-8e20-ad210570e01c",
   "metadata": {},
   "outputs": [
    {
     "data": {
      "text/plain": [
       "array([10, 10, 10, 10, 10])"
      ]
     },
     "execution_count": 9,
     "metadata": {},
     "output_type": "execute_result"
    }
   ],
   "source": [
    "x - y"
   ]
  },
  {
   "cell_type": "code",
   "execution_count": 10,
   "id": "7e45c76b-139d-4417-8263-ca6fa5f64f77",
   "metadata": {},
   "outputs": [
    {
     "data": {
      "text/plain": [
       "array([[14, 24],\n",
       "       [34, 44]])"
      ]
     },
     "execution_count": 10,
     "metadata": {},
     "output_type": "execute_result"
    }
   ],
   "source": [
    "np.array([[5, 6], [7, 8]]) + np.array([[10, 20], [30, 40]]) - np.array([[1, 2], [3, 4]])"
   ]
  },
  {
   "cell_type": "code",
   "execution_count": 11,
   "id": "3f08bf7d-d2c1-4450-b05c-8e71c2f26fd1",
   "metadata": {},
   "outputs": [],
   "source": [
    "x = np.array([[1], [2], [3]])\n",
    "y = np.array([[4], [5], [6]])"
   ]
  },
  {
   "cell_type": "code",
   "execution_count": 12,
   "id": "e3d847b0-b823-4a8d-b2ac-2ccbd412d795",
   "metadata": {},
   "outputs": [
    {
     "data": {
      "text/plain": [
       "array([[32]])"
      ]
     },
     "execution_count": 12,
     "metadata": {},
     "output_type": "execute_result"
    }
   ],
   "source": [
    "x.T @ y"
   ]
  },
  {
   "cell_type": "code",
   "execution_count": 20,
   "id": "b02cc97b-66fa-46bb-890d-4f1a34635499",
   "metadata": {},
   "outputs": [
    {
     "data": {
      "image/png": "[encoded data removed]",
      "text/plain": [
       "<Figure size 900x900 with 8 Axes>"
      ]
     },
     "metadata": {},
     "output_type": "display_data"
    }
   ],
   "source": [
    "from sklearn.datasets import load_digits\n",
    "import matplotlib.gridspec as gridspec\n",
    "\n",
    "digits = load_digits()\n",
    "d1 = digits.images[0]\n",
    "d2 = digits.images[10]\n",
    "d3 = digits.images[1]\n",
    "d4 = digits.images[11]\n",
    "v1 = d1.reshape(64, 1)\n",
    "v2 = d1.reshape(64, 1)\n",
    "v3 = d1.reshape(64, 1)\n",
    "v4 = d1.reshape(64, 1)\n",
    "\n",
    "plt.figure(figsize=(9, 9))\n",
    "gs = gridspec.GridSpec(1, 8, height_ratios=[2],\n",
    "                       width_ratios=[9, 1, 9, 1, 9, 1, 9, 1])\n",
    "for i in range(4):\n",
    "    plt.subplot(gs[2 * i])\n",
    "    plt.imshow(eval(\"d\" + str(i + 1)), aspect=1,\n",
    "               interpolation='nearest', cmap=plt.cm.bone_r)\n",
    "    plt.grid(False)\n",
    "    plt.xticks([])\n",
    "    plt.yticks([])\n",
    "    plt.title(\"image {}\".format(i + 1))\n",
    "    plt.subplot(gs[2 * i + 1])\n",
    "    plt.imshow(eval(\"v\" + str(i + 1)), aspect=0.25,\n",
    "               interpolation='nearest', cmap=plt.cm.bone_r)\n",
    "    plt.grid(False)\n",
    "    plt.xticks([])\n",
    "    plt.yticks([])\n",
    "    plt.title(\"vector {}\".format(i + 1))\n",
    "plt.tight_layout()\n",
    "plt.show()"
   ]
  },
  {
   "cell_type": "code",
   "execution_count": 35,
   "id": "ee6ec320-0360-4e53-99cb-2a65ebfba3da",
   "metadata": {},
   "outputs": [
    {
     "data": {
      "text/plain": [
       "(np.float64(3070.0), np.float64(3070.0))"
      ]
     },
     "execution_count": 35,
     "metadata": {},
     "output_type": "execute_result"
    }
   ],
   "source": [
    "(v1.T @ v2)[0][0], (v3.T @ v4)[0][0]"
   ]
  },
  {
   "cell_type": "code",
   "execution_count": 31,
   "id": "16ee7ab7-9980-4ea3-a19e-f402f3365b7b",
   "metadata": {},
   "outputs": [
    {
     "data": {
      "text/plain": [
       "(np.float64(3070.0),\n",
       " np.float64(3070.0),\n",
       " np.float64(3070.0),\n",
       " np.float64(3070.0))"
      ]
     },
     "execution_count": 31,
     "metadata": {},
     "output_type": "execute_result"
    }
   ],
   "source": [
    "(v1.T @ v3)[0][0], (v1.T @ v4)[0][0], (v2.T @ v3)[0][0], (v2.T @ v4)[0][0], "
   ]
  },
  {
   "cell_type": "code",
   "execution_count": 47,
   "id": "69b7fb49-fb95-47a2-a61b-c4713dc9c63e",
   "metadata": {},
   "outputs": [
    {
     "name": "stdout",
     "output_type": "stream",
     "text": [
      "첫 번째 이미지와 10번째 이미지의 유사도(내적): 2807.0\n"
     ]
    }
   ],
   "source": [
    "from sklearn.datasets import load_digits\n",
    "import numpy as np\n",
    "\n",
    "# 데이터 로드\n",
    "digits = load_digits()\n",
    "X = digits.data\n",
    "\n",
    "# 첫 번째 이미지와 10번째 이미지 추출\n",
    "image_1 = X[0]\n",
    "image_10 = X[9]\n",
    "\n",
    "# 두 이미지의 내적 계산\n",
    "similarity = np.dot(image_1, image_10)\n",
    "\n",
    "print(f\"첫 번째 이미지와 10번째 이미지의 유사도(내적): {similarity}\")\n"
   ]
  },
  {
   "cell_type": "code",
   "execution_count": 50,
   "id": "fdb3fe71-652b-4392-9fc0-77ff844e7ac6",
   "metadata": {},
   "outputs": [
    {
     "name": "stdout",
     "output_type": "stream",
     "text": [
      "Similarity matrix shape: (1797, 1797)\n"
     ]
    }
   ],
   "source": [
    "import numpy as np\n",
    "from sklearn.datasets import load_digits\n",
    "\n",
    "# Load the digits dataset\n",
    "digits = load_digits()\n",
    "x = digits.data\n",
    "\n",
    "# Calculate similarity matrix using matrix multiplication\n",
    "similarity_matrix = np.dot(x, x.T)\n",
    "\n",
    "# Display the shape of the similarity matrix\n",
    "print(\"Similarity matrix shape:\", similarity_matrix.shape)"
   ]
  },
  {
   "cell_type": "code",
   "execution_count": 46,
   "id": "2b41a464-a01e-4a0c-a116-71c1ec5eff42",
   "metadata": {},
   "outputs": [
    {
     "data": {
      "text/plain": [
       "array([[22, 28],\n",
       "       [49, 64]])"
      ]
     },
     "execution_count": 46,
     "metadata": {},
     "output_type": "execute_result"
    }
   ],
   "source": [
    "A =np.array([[1, 2, 3], [4, 5, 6]])\n",
    "B = np.array([[1, 2], [3, 4], [5, 6]])\n",
    "C = A @ B\n",
    "C"
   ]
  },
  {
   "cell_type": "code",
   "execution_count": 51,
   "id": "e0434ca4-5530-454a-ae9c-2a799ded94ff",
   "metadata": {},
   "outputs": [],
   "source": [
    "A  = np.array([1, 2, 3])"
   ]
  },
  {
   "cell_type": "code",
   "execution_count": 52,
   "id": "69899b07-829c-4e11-9a91-e6e61af7e875",
   "metadata": {},
   "outputs": [],
   "source": [
    "B = np.array([[4, 7], [5, 8], [6, 9]])"
   ]
  },
  {
   "cell_type": "code",
   "execution_count": 53,
   "id": "99744b29-bd9c-4309-99b7-24e84f35e00c",
   "metadata": {},
   "outputs": [
    {
     "data": {
      "text/plain": [
       "array([32, 50])"
      ]
     },
     "execution_count": 53,
     "metadata": {},
     "output_type": "execute_result"
    }
   ],
   "source": [
    "A @ B"
   ]
  },
  {
   "cell_type": "code",
   "execution_count": 54,
   "id": "64d0d81d-2316-4916-81cf-76738b522c50",
   "metadata": {},
   "outputs": [
    {
     "ename": "ValueError",
     "evalue": "matmul: Input operand 1 has a mismatch in its core dimension 0, with gufunc signature (n?,k),(k,m?)->(n?,m?) (size 3 is different from 2)",
     "output_type": "error",
     "traceback": [
      "\u001b[31m---------------------------------------------------------------------------\u001b[39m",
      "\u001b[31mValueError\u001b[39m                                Traceback (most recent call last)",
      "\u001b[36mCell\u001b[39m\u001b[36m \u001b[39m\u001b[32mIn[54]\u001b[39m\u001b[32m, line 1\u001b[39m\n\u001b[32m----> \u001b[39m\u001b[32m1\u001b[39m \u001b[43mB\u001b[49m\u001b[43m \u001b[49m\u001b[43m@\u001b[49m\u001b[43m \u001b[49m\u001b[43mA\u001b[49m\n",
      "\u001b[31mValueError\u001b[39m: matmul: Input operand 1 has a mismatch in its core dimension 0, with gufunc signature (n?,k),(k,m?)->(n?,m?) (size 3 is different from 2)"
     ]
    }
   ],
   "source": [
    "B @ A"
   ]
  },
  {
   "cell_type": "code",
   "execution_count": null,
   "id": "b8bb4acf-2fa2-4f1a-827d-84fa42603307",
   "metadata": {},
   "outputs": [],
   "source": []
  }
 ],
 "metadata": {
  "kernelspec": {
   "display_name": "Python 3 (ipykernel)",
   "language": "python",
   "name": "python3"
  },
  "language_info": {
   "codemirror_mode": {
    "name": "ipython",
    "version": 3
   },
   "file_extension": ".py",
   "mimetype": "text/x-python",
   "name": "python",
   "nbconvert_exporter": "python",
   "pygments_lexer": "ipython3",
   "version": "3.13.2"
  }
 },
 "nbformat": 4,
 "nbformat_minor": 5
}
