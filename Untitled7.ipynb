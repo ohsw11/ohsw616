{
 "cells": [
  {
   "cell_type": "code",
   "execution_count": 4,
   "id": "98bbd80b-690f-448f-84d8-36f4099798ae",
   "metadata": {},
   "outputs": [
    {
     "name": "stdout",
     "output_type": "stream",
     "text": [
      "0.10000000000000014\n"
     ]
    }
   ],
   "source": [
    "a = 4 % 0.3\n",
    "print(a)"
   ]
  },
  {
   "cell_type": "code",
   "execution_count": 3,
   "id": "f7b0cac8-8512-4d5b-bbbf-25ec88c13f93",
   "metadata": {},
   "outputs": [
    {
     "name": "stdout",
     "output_type": "stream",
     "text": [
      "13.0\n"
     ]
    }
   ],
   "source": [
    "b = 4//0.3\n",
    "print(b)"
   ]
  },
  {
   "cell_type": "code",
   "execution_count": 8,
   "id": "f12e7bbe-5ad2-48c4-91a7-fe3d9c6f2a71",
   "metadata": {},
   "outputs": [
    {
     "name": "stdin",
     "output_type": "stream",
     "text": [
      "how old are u? 24\n"
     ]
    },
    {
     "name": "stdout",
     "output_type": "stream",
     "text": [
      "24\n",
      "<class 'int'>\n"
     ]
    }
   ],
   "source": [
    "my_age = int(input('how old are u?'))\n",
    "print(my_age)\n",
    "print(type(my_age))"
   ]
  },
  {
   "cell_type": "code",
   "execution_count": 6,
   "id": "dac1c8f8-c254-4cfc-b075-dedffdaf718b",
   "metadata": {},
   "outputs": [
    {
     "name": "stdout",
     "output_type": "stream",
     "text": [
      "23\n"
     ]
    }
   ],
   "source": [
    "print(my_age)"
   ]
  },
  {
   "cell_type": "code",
   "execution_count": 7,
   "id": "971547e6-ea7b-49ed-be01-dc0c24f41a13",
   "metadata": {},
   "outputs": [
    {
     "name": "stdout",
     "output_type": "stream",
     "text": [
      "<class 'str'>\n"
     ]
    }
   ],
   "source": [
    "print(type(my_age))"
   ]
  },
  {
   "cell_type": "code",
   "execution_count": 12,
   "id": "5b7ebaaa-cddb-4ef1-94a4-4f205a255ea7",
   "metadata": {},
   "outputs": [],
   "source": [
    "txt5 = 'banana\\tapple\\torangr'"
   ]
  },
  {
   "cell_type": "code",
   "execution_count": 13,
   "id": "54f780df-d1c5-4cca-b079-8ce5427db4b4",
   "metadata": {},
   "outputs": [
    {
     "data": {
      "text/plain": [
       "'banana\\tapple\\torangr'"
      ]
     },
     "execution_count": 13,
     "metadata": {},
     "output_type": "execute_result"
    }
   ],
   "source": [
    "txt5"
   ]
  },
  {
   "cell_type": "code",
   "execution_count": 14,
   "id": "4bb680c8-53c7-499f-a046-76e92ee15efa",
   "metadata": {},
   "outputs": [
    {
     "name": "stdout",
     "output_type": "stream",
     "text": [
      "banana\tapple\torangr\n"
     ]
    }
   ],
   "source": [
    "print(txt5)"
   ]
  },
  {
   "cell_type": "code",
   "execution_count": 17,
   "id": "fa549871-4787-4345-bdb5-d2efb5e331eb",
   "metadata": {},
   "outputs": [
    {
     "name": "stdout",
     "output_type": "stream",
     "text": [
      "False\n"
     ]
    }
   ],
   "source": [
    "con = 5 != 5.0\n",
    "print(con)"
   ]
  },
  {
   "cell_type": "code",
   "execution_count": 18,
   "id": "4b415ab4-7540-49f6-9cfd-1c3f5513d6bd",
   "metadata": {},
   "outputs": [
    {
     "data": {
      "text/plain": [
       "(2+3j)"
      ]
     },
     "execution_count": 18,
     "metadata": {},
     "output_type": "execute_result"
    }
   ],
   "source": [
    "c1 = 2 + 3j\n",
    "c1"
   ]
  },
  {
   "cell_type": "code",
   "execution_count": 19,
   "id": "4e52945c-a6b2-4d2f-911a-5d5cff29b416",
   "metadata": {},
   "outputs": [
    {
     "data": {
      "text/plain": [
       "2.0"
      ]
     },
     "execution_count": 19,
     "metadata": {},
     "output_type": "execute_result"
    }
   ],
   "source": [
    "c1.real"
   ]
  },
  {
   "cell_type": "code",
   "execution_count": 21,
   "id": "1e1d1c0a-e9b9-4b46-ade0-e6943d2a5bfa",
   "metadata": {},
   "outputs": [
    {
     "data": {
      "text/plain": [
       "3.0"
      ]
     },
     "execution_count": 21,
     "metadata": {},
     "output_type": "execute_result"
    }
   ],
   "source": [
    "c1.imag"
   ]
  },
  {
   "cell_type": "code",
   "execution_count": 24,
   "id": "56efb5e3-fa9b-4212-a4b4-976ec17a5566",
   "metadata": {},
   "outputs": [
    {
     "name": "stdout",
     "output_type": "stream",
     "text": [
      "(-0.5+2.5j)\n"
     ]
    }
   ],
   "source": [
    "c2 = 1 - 1j\n",
    "c3 = c1 / c2\n",
    "print(c3)"
   ]
  },
  {
   "cell_type": "code",
   "execution_count": 25,
   "id": "fe68d3af-b6b2-4bf3-b666-f6dba1bc64bb",
   "metadata": {},
   "outputs": [
    {
     "data": {
      "text/plain": [
       "False"
      ]
     },
     "execution_count": 25,
     "metadata": {},
     "output_type": "execute_result"
    }
   ],
   "source": [
    "bool(0)"
   ]
  },
  {
   "cell_type": "code",
   "execution_count": 26,
   "id": "e9597504-1096-4e3c-8cf0-2b7a9534fb40",
   "metadata": {},
   "outputs": [
    {
     "data": {
      "text/plain": [
       "True"
      ]
     },
     "execution_count": 26,
     "metadata": {},
     "output_type": "execute_result"
    }
   ],
   "source": [
    "bool(-1)"
   ]
  },
  {
   "cell_type": "code",
   "execution_count": 27,
   "id": "ce69c219-1c07-48e0-b76c-0a4443764842",
   "metadata": {},
   "outputs": [
    {
     "name": "stdout",
     "output_type": "stream",
     "text": [
      "False\n",
      "True\n",
      "True\n"
     ]
    }
   ],
   "source": [
    "a = True\n",
    "b = False\n",
    "print(a and b)\n",
    "print(a or b)\n",
    "print(not b)"
   ]
  },
  {
   "cell_type": "code",
   "execution_count": 30,
   "id": "d8655493-3ef3-4e77-a5e1-49519da91416",
   "metadata": {},
   "outputs": [
    {
     "name": "stdout",
     "output_type": "stream",
     "text": [
      "11\n"
     ]
    }
   ],
   "source": [
    "i = 1\n",
    "i += 10\n",
    "print(i)"
   ]
  },
  {
   "cell_type": "code",
   "execution_count": 33,
   "id": "c24fbc2a-dbfa-4e37-9aab-3553ee891dd2",
   "metadata": {},
   "outputs": [
    {
     "name": "stdout",
     "output_type": "stream",
     "text": [
      "0\n",
      "7\n"
     ]
    }
   ],
   "source": [
    "a = 3\n",
    "b = 4\n",
    "print(a & b)\n",
    "print(a | b)"
   ]
  },
  {
   "cell_type": "code",
   "execution_count": 37,
   "id": "38cc962f-2c8b-4f7a-8dfa-21f72c483613",
   "metadata": {},
   "outputs": [
    {
     "name": "stdin",
     "output_type": "stream",
     "text": [
      "how old are u? 21\n"
     ]
    }
   ],
   "source": [
    "age = int(input('how old are u?'))\n",
    "if age < 20:\n",
    "    print('청소년 할인')\n",
    "\n",
    "    "
   ]
  },
  {
   "cell_type": "code",
   "execution_count": 40,
   "id": "18de38a6-0b2f-45fd-a29b-bfe5b0005279",
   "metadata": {},
   "outputs": [
    {
     "name": "stdin",
     "output_type": "stream",
     "text": [
      "what time is it now? 13\n"
     ]
    },
    {
     "name": "stdout",
     "output_type": "stream",
     "text": [
      "오후입니다.\n"
     ]
    }
   ],
   "source": [
    "hour = int(input(\"what time is it now?\"))\n",
    "\n",
    "if hour < 12:\n",
    "    print('오전입니다.')\n",
    "else:\n",
    "    print('오후입니다.')"
   ]
  },
  {
   "cell_type": "code",
   "execution_count": null,
   "id": "616c4708-404c-43c0-b479-9434b90732ad",
   "metadata": {},
   "outputs": [],
   "source": []
  }
 ],
 "metadata": {
  "kernelspec": {
   "display_name": "Python 3 (ipykernel)",
   "language": "python",
   "name": "python3"
  },
  "language_info": {
   "codemirror_mode": {
    "name": "ipython",
    "version": 3
   },
   "file_extension": ".py",
   "mimetype": "text/x-python",
   "name": "python",
   "nbconvert_exporter": "python",
   "pygments_lexer": "ipython3",
   "version": "3.13.2"
  }
 },
 "nbformat": 4,
 "nbformat_minor": 5
}
