{
 "cells": [
  {
   "cell_type": "code",
   "execution_count": 10,
   "id": "c91306a2-15e5-4b14-bb3e-9c5a79e01884",
   "metadata": {},
   "outputs": [
    {
     "name": "stdin",
     "output_type": "stream",
     "text": [
      "insert a number : 2\n"
     ]
    },
    {
     "name": "stdout",
     "output_type": "stream",
     "text": [
      "2 is prime\n"
     ]
    }
   ],
   "source": [
    "n = int(input('insert a number :'))\n",
    "is_prime = True\n",
    "for i in range(2, n):\n",
    "    if(n % i == 0):\n",
    "        is_prime = False\n",
    "        break\n",
    "if(is_prime):\n",
    "    print(n, 'is prime')\n",
    "else:\n",
    "    print(n, 'is not a prime')"
   ]
  },
  {
   "cell_type": "code",
   "execution_count": 29,
   "id": "8f5770ea-86e6-426d-a379-0d525a515a6d",
   "metadata": {},
   "outputs": [
    {
     "name": "stdout",
     "output_type": "stream",
     "text": [
      "4 is not a prime\n",
      "7 is a prime\n",
      "9 is not a prime\n",
      "11 is a prime\n",
      "29 is a prime\n",
      "[7, 11, 29]\n"
     ]
    }
   ],
   "source": [
    "primes = []\n",
    "numbers = [4, 7, 9, 11, 29]\n",
    "for n in numbers:\n",
    "    is_prime = True\n",
    "    for num in range(2,n):\n",
    "        if(n % num == 0):\n",
    "            is_prime = False\n",
    "            break\n",
    "    if(is_prime):\n",
    "        print(n, 'is a prime'), primes.append(n)\n",
    "    else:\n",
    "        print(n, 'is not a prime')\n",
    "print(primes)"
   ]
  },
  {
   "cell_type": "code",
   "execution_count": null,
   "id": "0a631073-9976-43d3-a00b-97d5554187dd",
   "metadata": {},
   "outputs": [],
   "source": []
  }
 ],
 "metadata": {
  "kernelspec": {
   "display_name": "Python 3 (ipykernel)",
   "language": "python",
   "name": "python3"
  },
  "language_info": {
   "codemirror_mode": {
    "name": "ipython",
    "version": 3
   },
   "file_extension": ".py",
   "mimetype": "text/x-python",
   "name": "python",
   "nbconvert_exporter": "python",
   "pygments_lexer": "ipython3",
   "version": "3.13.2"
  }
 },
 "nbformat": 4,
 "nbformat_minor": 5
}
