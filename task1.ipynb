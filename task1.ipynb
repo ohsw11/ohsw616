{
 "cells": [
  {
   "cell_type": "code",
   "execution_count": 94,
   "id": "dbb8b60a-a1c7-41e4-8e18-73871e389c0e",
   "metadata": {},
   "outputs": [
    {
     "name": "stdout",
     "output_type": "stream",
     "text": [
      "200 + 300 + 400 = 900\n"
     ]
    }
   ],
   "source": [
    "#2.1\n",
    "print( 200,'+', 300,'+', 400, '=', 200 + 300 + 400)"
   ]
  },
  {
   "cell_type": "code",
   "execution_count": 95,
   "id": "b2afc481-c770-4774-b6f3-0b823dc68a52",
   "metadata": {},
   "outputs": [
    {
     "name": "stdout",
     "output_type": "stream",
     "text": [
      "30\n",
      "60\n"
     ]
    }
   ],
   "source": [
    "#2.2\n",
    "weight = 30\n",
    "height = 60\n",
    "print(weight)\n",
    "print(height)"
   ]
  },
  {
   "cell_type": "code",
   "execution_count": 96,
   "id": "1326b846-006a-4ad0-b35a-6747fb405a61",
   "metadata": {},
   "outputs": [
    {
     "name": "stdout",
     "output_type": "stream",
     "text": [
      "사각형의 면적 : 1800\n"
     ]
    }
   ],
   "source": [
    "#2.3\n",
    "width = 30\n",
    "height = 60\n",
    "print('사각형의 면적 :', width * height)"
   ]
  },
  {
   "cell_type": "code",
   "execution_count": 98,
   "id": "a41a2b84-bb03-4f13-95f3-3d5329394417",
   "metadata": {},
   "outputs": [
    {
     "name": "stdout",
     "output_type": "stream",
     "text": [
      "삼각형의 면적 : 400\n"
     ]
    }
   ],
   "source": [
    "#2.4\n",
    "width = 40\n",
    "height = 20\n",
    "print('삼각형의 면적 :', int((width * height) / 2))"
   ]
  },
  {
   "cell_type": "code",
   "execution_count": 99,
   "id": "49379061-2d89-42dd-b544-e4a64a31657d",
   "metadata": {},
   "outputs": [
    {
     "name": "stdin",
     "output_type": "stream",
     "text": [
      "정사각형의 밑변을 입력하시오 :  40\n"
     ]
    },
    {
     "name": "stdout",
     "output_type": "stream",
     "text": [
      "정사각형의 면적 : 1600\n"
     ]
    }
   ],
   "source": [
    "#2.5\n",
    "width = int(input('정사각형의 밑변을 입력하시오 : '))\n",
    "print('정사각형의 면적 :', width * width)"
   ]
  },
  {
   "cell_type": "code",
   "execution_count": 102,
   "id": "c1b2a9ec-ee83-4f14-81d8-c4a1ae996d5e",
   "metadata": {},
   "outputs": [
    {
     "name": "stdout",
     "output_type": "stream",
     "text": [
      "1에서 10까지의 합 : 55\n"
     ]
    }
   ],
   "source": [
    "#2.6\n",
    "print('1에서 10까지의 합 :', 1 + 2 + 3 + 4 + 5 + 6 + 7 + 8 + 9 + 10)"
   ]
  },
  {
   "cell_type": "code",
   "execution_count": 103,
   "id": "7f70704a-c915-478b-a048-629ae6a0abad",
   "metadata": {},
   "outputs": [
    {
     "name": "stdout",
     "output_type": "stream",
     "text": [
      "10! = 3628800\n"
     ]
    }
   ],
   "source": [
    "#2.7\n",
    "print('10! =', 1 * 2 * 3 * 4 * 5 * 6 * 7 * 8 * 9 * 10)"
   ]
  },
  {
   "cell_type": "code",
   "execution_count": 104,
   "id": "1fba1908-0370-4efe-9e13-8a50a9213e72",
   "metadata": {},
   "outputs": [
    {
     "name": "stdout",
     "output_type": "stream",
     "text": [
      " a       n       a ** n \n",
      " 2       2       4      \n",
      " 3       2       9      \n",
      " 4       2       16     \n",
      " 5       2       25     \n",
      " 6       2       36     \n"
     ]
    }
   ],
   "source": [
    "#2.8\n",
    "def print_square_table(start: int, end: int, n: int):\n",
    "\n",
    "    print(f' {\"a\":<6}  {\"n\":<6}  {\"a ** n\":<6} ')\n",
    "\n",
    "    for a in range(start, end + 1):\n",
    "        result = a ** n\n",
    "        print(f' {a:<6}  {n:<6}  {result:<6} ')\n",
    "\n",
    "\n",
    "start_value = 2\n",
    "end_value = 6\n",
    "n_value = 2\n",
    "print_square_table(start_value, end_value, n_value)"
   ]
  },
  {
   "cell_type": "code",
   "execution_count": 124,
   "id": "438596d6-f200-475c-b421-a849f56710f1",
   "metadata": {},
   "outputs": [
    {
     "name": "stdout",
     "output_type": "stream",
     "text": [
      "섭씨    화씨\n",
      "0       32.0\n",
      "10      50.0\n",
      "20      68.0\n",
      "30      86.0\n",
      "40      104.0\n",
      "50      122.0\n"
     ]
    }
   ],
   "source": [
    "#2.9\n",
    "def celsius_to_fahrenheit(celsius: float) -> float:\n",
    "\n",
    "    return (9/5) * celsius + 32\n",
    "\n",
    "def print_temperature_table():\n",
    "\n",
    "    print(\"섭씨    화씨\")\n",
    "    for celsius in range(0, 51, 10):\n",
    "        fahrenheit = celsius_to_fahrenheit(celsius)\n",
    "        print(f\"{celsius:<7} {fahrenheit:.1f}\")\n",
    "\n",
    "print_temperature_table()"
   ]
  },
  {
   "cell_type": "code",
   "execution_count": 106,
   "id": "158b176f-eb1a-4942-8502-5cd932087c24",
   "metadata": {},
   "outputs": [
    {
     "name": "stdin",
     "output_type": "stream",
     "text": [
      "섭씨 온도를 입력하세요 :  30\n"
     ]
    },
    {
     "name": "stdout",
     "output_type": "stream",
     "text": [
      "섭씨 30 도는 화씨 86.0 도 입니다.\n"
     ]
    }
   ],
   "source": [
    "#2.10\n",
    "celsius = int(input('섭씨 온도를 입력하세요 : '))\n",
    "fahrenheit = celsius_to_fahrenheit(celsius)\n",
    "print(f'섭씨 {celsius} 도는 화씨 {fahrenheit} 도 입니다.')"
   ]
  },
  {
   "cell_type": "code",
   "execution_count": 107,
   "id": "072deab2-e03a-40af-9a8c-2d7332941c03",
   "metadata": {},
   "outputs": [
    {
     "name": "stdin",
     "output_type": "stream",
     "text": [
      "화씨 온도를 입력하세요 : 86\n"
     ]
    },
    {
     "name": "stdout",
     "output_type": "stream",
     "text": [
      "화씨 86 도는 섭씨 30.0 도 입니다.\n"
     ]
    }
   ],
   "source": [
    "#2.11\n",
    "def fahrenheit_to_celsisu(fahrenheit: int) -> int:\n",
    "    return (fahrenheit - 32) * (5/9) \n",
    "\n",
    "fahrenheit = int(input('화씨 온도를 입력하세요 :'))\n",
    "celsius = fahrenheit_to_celsisu(fahrenheit)\n",
    "print(f'화씨 {fahrenheit} 도는 섭씨 {celsius} 도 입니다.')"
   ]
  },
  {
   "cell_type": "code",
   "execution_count": 127,
   "id": "ff1c9257-4167-42ed-b0d5-cc02e32027a7",
   "metadata": {},
   "outputs": [
    {
     "name": "stdout",
     "output_type": "stream",
     "text": [
      "원의 반지름 = 11, 원의 둘레 = 69.115024, 원의 면적 = 380.132632000000001\n"
     ]
    }
   ],
   "source": [
    "#2.12\n",
    "radius = 11\n",
    "PI = 3.141592\n",
    "\n",
    "def radius_to_circumference(radius: float) -> float:\n",
    "    return 2 * PI * radius\n",
    "\n",
    "def radius_to_area(radius: float) -> float:\n",
    "    return (radius ** 2) * PI\n",
    "\n",
    "circumference = radius_to_circumference(radius)\n",
    "area = radius_to_area(radius)\n",
    "\n",
    "print(f'원의 반지름 = {radius}, 원의 둘레 = {circumference}, 원의 면적 = {area:.15f}')"
   ]
  },
  {
   "cell_type": "code",
   "execution_count": 109,
   "id": "72fc39e5-4d52-4405-a905-f1859a932a8a",
   "metadata": {},
   "outputs": [
    {
     "name": "stdin",
     "output_type": "stream",
     "text": [
      "원의 반지름을 입력하세요 : 11\n"
     ]
    },
    {
     "name": "stdout",
     "output_type": "stream",
     "text": [
      "원의 둘레 = 69.115024, 원의 면적 = 380.132632\n"
     ]
    }
   ],
   "source": [
    "#2.13\n",
    "radius = float(input('원의 반지름을 입력하세요 :'))\n",
    "circumference = radius_to_circumference(radius)\n",
    "area = radius_to_area(radius)\n",
    "print(f'원의 둘레 = {circumference}, 원의 면적 = {area}')"
   ]
  },
  {
   "cell_type": "code",
   "execution_count": 110,
   "id": "599e7e88-1d38-4fff-b8d5-db934d406db3",
   "metadata": {},
   "outputs": [
    {
     "name": "stdout",
     "output_type": "stream",
     "text": [
      "2의 제곱근 = 1.4142135623730951\n",
      "3의 제곱근 = 1.7320508075688772\n",
      "4의 제곱근 = 2.0\n",
      "5의 제곱근 = 2.23606797749979\n",
      "6의 제곱근 = 2.449489742783178\n",
      "7의 제곱근 = 2.6457513110645907\n",
      "8의 제곱근 = 2.8284271247461903\n",
      "9의 제곱근 = 3.0\n",
      "10의 제곱근 = 3.1622776601683795\n"
     ]
    }
   ],
   "source": [
    "#2.14\n",
    "def square_root(x: float) ->float:\n",
    "    return x**(1/2)\n",
    "\n",
    "for x in range(2, 11):\n",
    "    sqrt = square_root(x)\n",
    "    print(f'{x}의 제곱근 = {sqrt}')"
   ]
  },
  {
   "cell_type": "code",
   "execution_count": 111,
   "id": "b185892f-8f4a-4209-9180-7dab2f7d3b01",
   "metadata": {},
   "outputs": [
    {
     "name": "stdin",
     "output_type": "stream",
     "text": [
      "밑변을 입력하세요 : 5\n",
      "높이를 입력하세요 : 12\n"
     ]
    },
    {
     "name": "stdout",
     "output_type": "stream",
     "text": [
      "빗변 : 13.0\n"
     ]
    }
   ],
   "source": [
    "#2.15\n",
    "a = int(input('밑변을 입력하세요 :'))\n",
    "b = int(input('높이를 입력하세요 :'))\n",
    "h = (a**2 + b**2)**(1/2)\n",
    "print('빗변 :', h)"
   ]
  },
  {
   "cell_type": "code",
   "execution_count": 113,
   "id": "18ffb87b-c279-4d00-98f9-0ec1a1b5ea43",
   "metadata": {},
   "outputs": [
    {
     "name": "stdout",
     "output_type": "stream",
     "text": [
      "회전하기 전 : (1+2j)\n",
      "90도 회전한 후 : (-2+1j)\n"
     ]
    }
   ],
   "source": [
    "#2.16.1\n",
    "z = 1 + 2j\n",
    "rotated_z = z * 1j\n",
    "\n",
    "print(f'회전하기 전 : {z}')\n",
    "print(f'90도 회전한 후 : {rotated_z}')\n"
   ]
  },
  {
   "cell_type": "code",
   "execution_count": 114,
   "id": "d1a28f3d-b42c-4cda-9ef6-127e447406bd",
   "metadata": {},
   "outputs": [
    {
     "name": "stdout",
     "output_type": "stream",
     "text": [
      "회전하기 전 : (1+2j)\n",
      "90도 회전한 후 : (-0.1339745962155614+2.232050807568877j)\n"
     ]
    }
   ],
   "source": [
    "#2.16.2\n",
    "z = 1 + 2j\n",
    "t = (3**0.5 / 2) + (1/2)*1j\n",
    "rotated_z = z * t\n",
    "\n",
    "print(f'회전하기 전 : {z}')\n",
    "print(f'90도 회전한 후 : {rotated_z}')"
   ]
  },
  {
   "cell_type": "code",
   "execution_count": 115,
   "id": "f74cba3f-cbce-4035-ad1d-61db2463e1f5",
   "metadata": {},
   "outputs": [
    {
     "name": "stdout",
     "output_type": "stream",
     "text": [
      "2 4 8 16 32 64 128 256 512 1024\n"
     ]
    }
   ],
   "source": [
    "#2.17\n",
    "powers_of_two = [2 << i for i in range(10)]\n",
    "\n",
    "print(\" \".join(map(str, powers_of_two)))"
   ]
  },
  {
   "cell_type": "code",
   "execution_count": 117,
   "id": "c0729fb2-5b89-4f77-9a9b-48c6c8df31ec",
   "metadata": {},
   "outputs": [
    {
     "name": "stdin",
     "output_type": "stream",
     "text": [
      "정수를 입력하세요:  20\n"
     ]
    },
    {
     "name": "stdout",
     "output_type": "stream",
     "text": [
      "이 수가 짝수인가요? True\n"
     ]
    }
   ],
   "source": [
    "#2.18\n",
    "n = int(input(\"정수를 입력하세요: \"))\n",
    "\n",
    "print('이 수가 짝수인가요?', True if n % 2 == 0 else False)"
   ]
  },
  {
   "cell_type": "code",
   "execution_count": 92,
   "id": "39d70753-0df7-470a-8ed4-fa308366ae24",
   "metadata": {},
   "outputs": [
    {
     "name": "stdin",
     "output_type": "stream",
     "text": [
      "정수를 입력하세요:  21\n"
     ]
    },
    {
     "name": "stdout",
     "output_type": "stream",
     "text": [
      "이 수가 짝수인가요? False\n"
     ]
    }
   ],
   "source": [
    "n = int(input(\"정수를 입력하세요: \"))\n",
    "\n",
    "print('이 수가 짝수인가요?', True if n % 2 == 0 else False)"
   ]
  },
  {
   "cell_type": "code",
   "execution_count": 118,
   "id": "a8aae3e4-6b38-45ca-9549-f1c52d0fe92d",
   "metadata": {},
   "outputs": [
    {
     "name": "stdin",
     "output_type": "stream",
     "text": [
      "정수를 입력하세요 : 120\n"
     ]
    },
    {
     "name": "stdout",
     "output_type": "stream",
     "text": [
      "입력된 정수는 0에서 100의 범위 안에 있는 짝수인가요? False\n"
     ]
    },
    {
     "name": "stdin",
     "output_type": "stream",
     "text": [
      "정수를 입력하세요 : 88\n"
     ]
    },
    {
     "name": "stdout",
     "output_type": "stream",
     "text": [
      "입력된 정수는 0에서 100의 범위 안에 있는 짝수인가요? True\n"
     ]
    }
   ],
   "source": [
    "#2.19\n",
    "n = int(input('정수를 입력하세요 :'))\n",
    "print('입력된 정수는 0에서 100의 범위 안에 있는 짝수인가요?', \n",
    "      True if (n % 2 == 0 and 0 < n < 101 ) else False)\n",
    "\n",
    "n = int(input('정수를 입력하세요 :'))\n",
    "print('입력된 정수는 0에서 100의 범위 안에 있는 짝수인가요?', \n",
    "      True if (n % 2 == 0 and 0 < n < 101 ) else False)"
   ]
  },
  {
   "cell_type": "code",
   "execution_count": 119,
   "id": "debf2e3e-0c37-4494-b22e-0a7d73476737",
   "metadata": {},
   "outputs": [
    {
     "name": "stdout",
     "output_type": "stream",
     "text": [
      "0b101 & 0b110 = 0b100\n",
      "0b101 | 0b110 = 0b111\n",
      "0b101 ^ 0b110 = 0b11\n"
     ]
    }
   ],
   "source": [
    "#2.20\n",
    "a = bin(5)\n",
    "b = bin(6)\n",
    "print(f'{a} & {b} = {bin(5 & 6)}') \n",
    "print(f'{a} | {b} = {bin(5 | 6)}')\n",
    "print(f'{a} ^ {b} = {bin(5 ^ 6)}')"
   ]
  },
  {
   "cell_type": "code",
   "execution_count": 120,
   "id": "ddf9b831-7d3c-4d78-8931-034c3cfdcdff",
   "metadata": {},
   "outputs": [
    {
     "name": "stdin",
     "output_type": "stream",
     "text": [
      "정수를 입력하시오 : 9\n"
     ]
    },
    {
     "name": "stdout",
     "output_type": "stream",
     "text": [
      "9 의 2진수 값 : 0b1001\n",
      "9 의 2진수 값에 대한 비트단위 부정값 : -0b1010\n"
     ]
    }
   ],
   "source": [
    "#2.21\n",
    "n = int(input('정수를 입력하시오 :'))\n",
    "print(f'{n} 의 2진수 값 :', bin(n))\n",
    "print(f'{n} 의 2진수 값에 대한 비트단위 부정값 :', bin(~n))"
   ]
  },
  {
   "cell_type": "code",
   "execution_count": 121,
   "id": "05b7cb55-1e86-4d47-9ff8-b0ece1fe1ebc",
   "metadata": {},
   "outputs": [
    {
     "name": "stdin",
     "output_type": "stream",
     "text": [
      "정수 a를 입력하시오 : 202\n",
      "정수 b를 입력하시오 : 50\n"
     ]
    },
    {
     "name": "stdout",
     "output_type": "stream",
     "text": [
      "a / b의 몫 : 4\n",
      "a / b의 나머지 : 2\n"
     ]
    }
   ],
   "source": [
    "#2.22\n",
    "a = int(input('정수 a를 입력하시오 :'))\n",
    "b = int(input('정수 b를 입력하시오 :'))\n",
    "print(f'a / b의 몫 :', a//b)\n",
    "print(f'a / b의 나머지 :', a%b)"
   ]
  },
  {
   "cell_type": "code",
   "execution_count": 122,
   "id": "b8d02a0c-f7d6-45ca-86f4-60dccde4013e",
   "metadata": {},
   "outputs": [
    {
     "name": "stdin",
     "output_type": "stream",
     "text": [
      "세 자리 정수를 입력하시오 : 349\n"
     ]
    },
    {
     "name": "stdout",
     "output_type": "stream",
     "text": [
      "백의 자리 : 3\n",
      "십의 자리 : 4\n",
      "일의 자리 : 9\n"
     ]
    }
   ],
   "source": [
    "#2.23\n",
    "n = int(input('세 자리 정수를 입력하시오 :'))\n",
    "\n",
    "print('백의 자리 :', n // 100)\n",
    "print('십의 자리 :', n % 100 // 10 )\n",
    "print('일의 자리 :', n % 100 % 10)"
   ]
  },
  {
   "cell_type": "code",
   "execution_count": 123,
   "id": "1c6096b0-042e-4507-9d00-cbd19fbc10b3",
   "metadata": {},
   "outputs": [
    {
     "name": "stdin",
     "output_type": "stream",
     "text": [
      "세 자리 정수를 입력하시오 : 349\n"
     ]
    },
    {
     "name": "stdout",
     "output_type": "stream",
     "text": [
      "9\n",
      "4\n",
      "3\n"
     ]
    }
   ],
   "source": [
    "#2.24\n",
    "n = int(input('세 자리 정수를 입력하시오 :'))\n",
    "\n",
    "print(n % 100 % 10)\n",
    "print(n % 100 // 10 )\n",
    "print(n // 100)"
   ]
  },
  {
   "cell_type": "code",
   "execution_count": null,
   "id": "63872dba-3493-47a0-9e78-076c2285adf9",
   "metadata": {},
   "outputs": [],
   "source": []
  }
 ],
 "metadata": {
  "kernelspec": {
   "display_name": "Python 3 (ipykernel)",
   "language": "python",
   "name": "python3"
  },
  "language_info": {
   "codemirror_mode": {
    "name": "ipython",
    "version": 3
   },
   "file_extension": ".py",
   "mimetype": "text/x-python",
   "name": "python",
   "nbconvert_exporter": "python",
   "pygments_lexer": "ipython3",
   "version": "3.13.2"
  }
 },
 "nbformat": 4,
 "nbformat_minor": 5
}
