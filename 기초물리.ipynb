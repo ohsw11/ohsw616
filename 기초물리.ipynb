{
 "cells": [
  {
   "cell_type": "code",
   "execution_count": 2,
   "id": "a33cb2c8-e8d5-4479-88e5-402c346c2ea3",
   "metadata": {},
   "outputs": [
    {
     "name": "stdout",
     "output_type": "stream",
     "text": [
      "[ 4. -1.]\n",
      "[[ 0.83205029 -0.70710678]\n",
      " [ 0.5547002   0.70710678]]\n",
      "[3. 1.]\n",
      "[[ 0.70710678 -0.70710678]\n",
      " [ 0.70710678  0.70710678]]\n",
      "[1. 1.]\n",
      "[[ 1.00000000e+00 -1.00000000e+00]\n",
      " [ 0.00000000e+00  2.22044605e-16]]\n"
     ]
    }
   ],
   "source": [
    "#3.3.5\n",
    "A = np.array([[2, 3], [2, 1]]) \n",
    "B = np.array([[2, 1] ,[1, 2]])\n",
    "C = np.array([[1, 1], [0, 1]])\n",
    "\n",
    "w1, v1 = np.linalg.eig(A)\n",
    "w2, v2 = np.linalg.eig(B)\n",
    "w3, v3 = np.linalg.eig(C)\n",
    "\n",
    "print(w1)\n",
    "print(v1)\n",
    "\n",
    "print(w2)\n",
    "print(v2)\n",
    "\n",
    "print(w3)\n",
    "print(v3)"
   ]
  },
  {
   "cell_type": "code",
   "execution_count": 4,
   "id": "fa2844f9-c4b1-4605-ac2b-c789a053b0bf",
   "metadata": {},
   "outputs": [
    {
     "name": "stdout",
     "output_type": "stream",
     "text": [
      "[ 4. -1.]\n",
      "[[ 0.83205029 -0.70710678]\n",
      " [ 0.5547002   0.70710678]]\n"
     ]
    }
   ],
   "source": [
    "#3.3.6\n",
    "print(w1)\n",
    "print(v1)"
   ]
  },
  {
   "cell_type": "code",
   "execution_count": 6,
   "id": "97d84c35-4cc1-4bcb-9acf-b8d4cdcea877",
   "metadata": {},
   "outputs": [
    {
     "data": {
      "text/plain": [
       "array([[1., 0.],\n",
       "       [0., 1.]])"
      ]
     },
     "execution_count": 6,
     "metadata": {},
     "output_type": "execute_result"
    }
   ],
   "source": [
    "#3.3.7\n",
    "v3_inv = np.linalg.inv(v3)\n",
    "v3_inv\n",
    "v3 @ np.diag(w3) @ v3_inv\n",
    "#대각화가 불가능하다."
   ]
  },
  {
   "cell_type": "code",
   "execution_count": 16,
   "id": "d4a8003f-03bd-4285-9668-c2425a358ec9",
   "metadata": {},
   "outputs": [
    {
     "data": {
      "text/plain": [
       "array([[-0.25,  0.75],\n",
       "       [ 0.5 , -0.5 ]])"
      ]
     },
     "execution_count": 16,
     "metadata": {},
     "output_type": "execute_result"
    }
   ],
   "source": [
    "#3.3.8\n",
    "v1_inv = np.linalg.inv(v1)\n",
    "w1_diag = np.diag(w1)\n",
    "\n",
    "v1 @ np.linalg.inv(w1_diag) @ v1_inv"
   ]
  },
  {
   "cell_type": "code",
   "execution_count": 14,
   "id": "f25d3790-426d-471b-98d6-2c315ee8297f",
   "metadata": {},
   "outputs": [
    {
     "name": "stdout",
     "output_type": "stream",
     "text": [
      "[9.20830507e+03 3.15454317e+02 1.19780429e+01 3.55257020e+00]\n"
     ]
    }
   ],
   "source": [
    "#3.3.9\n",
    "from sklearn.datasets import load_iris\n",
    "import numpy as np\n",
    "\n",
    "iris = load_iris()\n",
    "\n",
    "X = np.array(iris.data)\n",
    "X_scat = X.T @ X\n",
    "\n",
    "iris_w, iris_v = np.linalg.eig(X_scat)\n",
    "\n",
    "print(iris_w)"
   ]
  },
  {
   "cell_type": "code",
   "execution_count": null,
   "id": "5813d927-0015-42a1-a639-976ca4defafa",
   "metadata": {},
   "outputs": [],
   "source": []
  }
 ],
 "metadata": {
  "kernelspec": {
   "display_name": "Python 3 (ipykernel)",
   "language": "python",
   "name": "python3"
  },
  "language_info": {
   "codemirror_mode": {
    "name": "ipython",
    "version": 3
   },
   "file_extension": ".py",
   "mimetype": "text/x-python",
   "name": "python",
   "nbconvert_exporter": "python",
   "pygments_lexer": "ipython3",
   "version": "3.13.2"
  }
 },
 "nbformat": 4,
 "nbformat_minor": 5
}
